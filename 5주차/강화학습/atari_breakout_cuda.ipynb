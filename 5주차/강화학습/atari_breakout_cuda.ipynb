{
  "nbformat": 4,
  "nbformat_minor": 0,
  "metadata": {
    "colab": {
      "provenance": [],
      "gpuType": "T4",
      "include_colab_link": true
    },
    "kernelspec": {
      "name": "python3",
      "display_name": "Python 3"
    },
    "language_info": {
      "name": "python"
    },
    "accelerator": "GPU"
  },
  "cells": [
    {
      "cell_type": "markdown",
      "metadata": {
        "id": "view-in-github",
        "colab_type": "text"
      },
      "source": [
        "<a href=\"https://colab.research.google.com/github/YangHyunu/SKT-FLY-AI-5/blob/main/5%EC%A3%BC%EC%B0%A8/%EA%B0%95%ED%99%94%ED%95%99%EC%8A%B5/atari_breakout_cuda.ipynb\" target=\"_parent\"><img src=\"https://colab.research.google.com/assets/colab-badge.svg\" alt=\"Open In Colab\"/></a>"
      ]
    },
    {
      "cell_type": "code",
      "execution_count": null,
      "metadata": {
        "colab": {
          "base_uri": "https://localhost:8080/"
        },
        "id": "a1DR5X85xrva",
        "outputId": "0e2424a1-3dd3-419f-d6c2-f479a7059c02"
      },
      "outputs": [
        {
          "output_type": "stream",
          "name": "stdout",
          "text": [
            "Requirement already satisfied: gym[accept-rom-license,atari]==0.26.2 in /usr/local/lib/python3.10/dist-packages (0.26.2)\n",
            "Requirement already satisfied: numpy>=1.18.0 in /usr/local/lib/python3.10/dist-packages (from gym[accept-rom-license,atari]==0.26.2) (1.25.2)\n",
            "Requirement already satisfied: cloudpickle>=1.2.0 in /usr/local/lib/python3.10/dist-packages (from gym[accept-rom-license,atari]==0.26.2) (2.2.1)\n",
            "Requirement already satisfied: gym-notices>=0.0.4 in /usr/local/lib/python3.10/dist-packages (from gym[accept-rom-license,atari]==0.26.2) (0.0.8)\n",
            "Requirement already satisfied: autorom[accept-rom-license]~=0.4.2 in /usr/local/lib/python3.10/dist-packages (from gym[accept-rom-license,atari]==0.26.2) (0.4.2)\n",
            "Requirement already satisfied: ale-py~=0.8.0 in /usr/local/lib/python3.10/dist-packages (from gym[accept-rom-license,atari]==0.26.2) (0.8.1)\n",
            "Requirement already satisfied: importlib-resources in /usr/local/lib/python3.10/dist-packages (from ale-py~=0.8.0->gym[accept-rom-license,atari]==0.26.2) (6.4.0)\n",
            "Requirement already satisfied: typing-extensions in /usr/local/lib/python3.10/dist-packages (from ale-py~=0.8.0->gym[accept-rom-license,atari]==0.26.2) (4.12.2)\n",
            "Requirement already satisfied: click in /usr/local/lib/python3.10/dist-packages (from autorom[accept-rom-license]~=0.4.2->gym[accept-rom-license,atari]==0.26.2) (8.1.7)\n",
            "Requirement already satisfied: requests in /usr/local/lib/python3.10/dist-packages (from autorom[accept-rom-license]~=0.4.2->gym[accept-rom-license,atari]==0.26.2) (2.31.0)\n",
            "Requirement already satisfied: tqdm in /usr/local/lib/python3.10/dist-packages (from autorom[accept-rom-license]~=0.4.2->gym[accept-rom-license,atari]==0.26.2) (4.66.4)\n",
            "Requirement already satisfied: AutoROM.accept-rom-license in /usr/local/lib/python3.10/dist-packages (from autorom[accept-rom-license]~=0.4.2->gym[accept-rom-license,atari]==0.26.2) (0.6.1)\n",
            "Requirement already satisfied: charset-normalizer<4,>=2 in /usr/local/lib/python3.10/dist-packages (from requests->autorom[accept-rom-license]~=0.4.2->gym[accept-rom-license,atari]==0.26.2) (3.3.2)\n",
            "Requirement already satisfied: idna<4,>=2.5 in /usr/local/lib/python3.10/dist-packages (from requests->autorom[accept-rom-license]~=0.4.2->gym[accept-rom-license,atari]==0.26.2) (3.7)\n",
            "Requirement already satisfied: urllib3<3,>=1.21.1 in /usr/local/lib/python3.10/dist-packages (from requests->autorom[accept-rom-license]~=0.4.2->gym[accept-rom-license,atari]==0.26.2) (2.0.7)\n",
            "Requirement already satisfied: certifi>=2017.4.17 in /usr/local/lib/python3.10/dist-packages (from requests->autorom[accept-rom-license]~=0.4.2->gym[accept-rom-license,atari]==0.26.2) (2024.7.4)\n"
          ]
        }
      ],
      "source": [
        "!pip install gym[atari,accept-rom-license]==0.26.2"
      ]
    },
    {
      "cell_type": "code",
      "source": [
        "import gym\n",
        "env = gym.make(\"BreakoutNoFrameskip-v4\", render_mode='rgb_array')"
      ],
      "metadata": {
        "id": "pV0fajGOxxZv"
      },
      "execution_count": null,
      "outputs": []
    },
    {
      "cell_type": "code",
      "source": [
        "obs, info = env.reset()"
      ],
      "metadata": {
        "id": "7xyi5_cuycwi"
      },
      "execution_count": null,
      "outputs": []
    },
    {
      "cell_type": "code",
      "source": [
        "obs"
      ],
      "metadata": {
        "colab": {
          "base_uri": "https://localhost:8080/",
          "height": 268
        },
        "id": "6vCHE0a2ys7V",
        "outputId": "328bbb7b-68e4-4341-8950-dbb11ee8dc90"
      },
      "execution_count": null,
      "outputs": [
        {
          "output_type": "execute_result",
          "data": {
            "text/plain": [
              "array([[[0, 0, 0],\n",
              "        [0, 0, 0],\n",
              "        [0, 0, 0],\n",
              "        ...,\n",
              "        [0, 0, 0],\n",
              "        [0, 0, 0],\n",
              "        [0, 0, 0]],\n",
              "\n",
              "       [[0, 0, 0],\n",
              "        [0, 0, 0],\n",
              "        [0, 0, 0],\n",
              "        ...,\n",
              "        [0, 0, 0],\n",
              "        [0, 0, 0],\n",
              "        [0, 0, 0]],\n",
              "\n",
              "       [[0, 0, 0],\n",
              "        [0, 0, 0],\n",
              "        [0, 0, 0],\n",
              "        ...,\n",
              "        [0, 0, 0],\n",
              "        [0, 0, 0],\n",
              "        [0, 0, 0]],\n",
              "\n",
              "       ...,\n",
              "\n",
              "       [[0, 0, 0],\n",
              "        [0, 0, 0],\n",
              "        [0, 0, 0],\n",
              "        ...,\n",
              "        [0, 0, 0],\n",
              "        [0, 0, 0],\n",
              "        [0, 0, 0]],\n",
              "\n",
              "       [[0, 0, 0],\n",
              "        [0, 0, 0],\n",
              "        [0, 0, 0],\n",
              "        ...,\n",
              "        [0, 0, 0],\n",
              "        [0, 0, 0],\n",
              "        [0, 0, 0]],\n",
              "\n",
              "       [[0, 0, 0],\n",
              "        [0, 0, 0],\n",
              "        [0, 0, 0],\n",
              "        ...,\n",
              "        [0, 0, 0],\n",
              "        [0, 0, 0],\n",
              "        [0, 0, 0]]], dtype=uint8)"
            ],
            "text/html": [
              "<style>\n",
              "      .ndarray_repr .ndarray_raw_data {\n",
              "        display: none;\n",
              "      }\n",
              "      .ndarray_repr.show_array .ndarray_raw_data {\n",
              "        display: block;\n",
              "      }\n",
              "      .ndarray_repr.show_array .ndarray_image_preview {\n",
              "        display: none;\n",
              "      }\n",
              "      </style>\n",
              "      <div id=\"id-eb3523ad-e19b-4fd6-80fc-3ec8bcf7e0a5\" class=\"ndarray_repr\"><pre>ndarray (210, 160, 3) <button style=\"padding: 0 2px;\">show data</button></pre><img src=\"data:image/png;base64,iVBORw0KGgoAAAANSUhEUgAAAKAAAADSCAIAAABCR1ywAAACu0lEQVR4nO3dsW0TYRiA4QS5RkxARcEIEQNYLpjGEzCBx0AMQGGloEQZBlEgRJEiygL+IZZ9d/bL85Sn090vvfl8v+SzcnMDAMDZ3c55s91u989zttvtbOcfa+rrj+51yjVfnWMxXK7VUjeec1Jfcv6xzjWpUzPBcYtN8LUbfSpc2mSb4DgTfITRdE7xjD8XExy32AQf+1c/9flLXXNqJhjgYt1e43OFl/MMjhM4TuA4geMEjhM4TuA4geMEjhM4TuA4geMEjhM4bvjKzqW9/snfjb72NcFxAscJHCdwnMBxAscJHCdwnMBxAscJHCdwnMBxAscJHCdwnMBxAscJHCdwnMBxAscJHCdw3PDF94fNZs51cKLvg+MmOE7gOIHjBI4TOG64i35692vOdTARExwncJzAcQLHCRw33EX/fP1nznUwERMcJ3CcwHECxwkcN95Fv3+ccx2c6sfhwyY4TuA4geMEjhM4briL/vz0ds51cKL14LgJjhM4TuA4geMEjhvuoh+/fJpxGZxsffj3hSY4TuA4geMEjhM4briL/ra/m3MdnOjj2j+n/C8JHCdwnMBxAscJHCdwnMBxAscJHCdwnMBxAscJHCdwnMBxAscJHCdwnMBxAscJHCdwnMBxAscJHCdwnMBxAscJHCdwnMBxAscJHCdwnMBxAscJHCdwnMBxAscJHCdwnMBxAscJHCdwnMBxAscJHCdwnMBxAscJHCdwnMBxAscJHCdwnMBxAscJHCdwnMBxAscJHCdwnMBxAscJHCdwnMBxAscJHCdwnMBxAscJHCdwnMBxAscJHCdwnMBxAscJHCdwnMBxAscJHCdwnMBxAscJHCdw3Orrm99Lr+E6PGw2R51/t99PtJKDPtzfHzxuguMEjhM4brX0Aq7GzM/UczHBcSY44ko/YAAAAAAAAFjUMyEkRxlHStXAAAAAAElFTkSuQmCC\" class=\"ndarray_image_preview\" /><pre class=\"ndarray_raw_data\">array([[[0, 0, 0],\n",
              "        [0, 0, 0],\n",
              "        [0, 0, 0],\n",
              "        ...,\n",
              "        [0, 0, 0],\n",
              "        [0, 0, 0],\n",
              "        [0, 0, 0]],\n",
              "\n",
              "       [[0, 0, 0],\n",
              "        [0, 0, 0],\n",
              "        [0, 0, 0],\n",
              "        ...,\n",
              "        [0, 0, 0],\n",
              "        [0, 0, 0],\n",
              "        [0, 0, 0]],\n",
              "\n",
              "       [[0, 0, 0],\n",
              "        [0, 0, 0],\n",
              "        [0, 0, 0],\n",
              "        ...,\n",
              "        [0, 0, 0],\n",
              "        [0, 0, 0],\n",
              "        [0, 0, 0]],\n",
              "\n",
              "       ...,\n",
              "\n",
              "       [[0, 0, 0],\n",
              "        [0, 0, 0],\n",
              "        [0, 0, 0],\n",
              "        ...,\n",
              "        [0, 0, 0],\n",
              "        [0, 0, 0],\n",
              "        [0, 0, 0]],\n",
              "\n",
              "       [[0, 0, 0],\n",
              "        [0, 0, 0],\n",
              "        [0, 0, 0],\n",
              "        ...,\n",
              "        [0, 0, 0],\n",
              "        [0, 0, 0],\n",
              "        [0, 0, 0]],\n",
              "\n",
              "       [[0, 0, 0],\n",
              "        [0, 0, 0],\n",
              "        [0, 0, 0],\n",
              "        ...,\n",
              "        [0, 0, 0],\n",
              "        [0, 0, 0],\n",
              "        [0, 0, 0]]], dtype=uint8)</pre></div><script>\n",
              "      (() => {\n",
              "      const titles = ['show data', 'hide data'];\n",
              "      let index = 0\n",
              "      document.querySelector('#id-eb3523ad-e19b-4fd6-80fc-3ec8bcf7e0a5 button').onclick = (e) => {\n",
              "        document.querySelector('#id-eb3523ad-e19b-4fd6-80fc-3ec8bcf7e0a5').classList.toggle('show_array');\n",
              "        index = (++index) % 2;\n",
              "        document.querySelector('#id-eb3523ad-e19b-4fd6-80fc-3ec8bcf7e0a5 button').textContent = titles[index];\n",
              "        e.preventDefault();\n",
              "        e.stopPropagation();\n",
              "      }\n",
              "      })();\n",
              "    </script>"
            ]
          },
          "metadata": {},
          "execution_count": 9
        }
      ]
    },
    {
      "cell_type": "code",
      "source": [
        "obs.shape # HWC -> CHW"
      ],
      "metadata": {
        "colab": {
          "base_uri": "https://localhost:8080/"
        },
        "id": "_stED335yuTJ",
        "outputId": "00cae224-e9a4-4810-cf86-b9258daa3f79"
      },
      "execution_count": null,
      "outputs": [
        {
          "output_type": "execute_result",
          "data": {
            "text/plain": [
              "(210, 160, 3)"
            ]
          },
          "metadata": {},
          "execution_count": 10
        }
      ]
    },
    {
      "cell_type": "code",
      "source": [
        "info"
      ],
      "metadata": {
        "colab": {
          "base_uri": "https://localhost:8080/"
        },
        "id": "k7DIo2_4yzuP",
        "outputId": "632a13d8-b721-4505-92b4-39e33fdb3cca"
      },
      "execution_count": null,
      "outputs": [
        {
          "output_type": "execute_result",
          "data": {
            "text/plain": [
              "{'lives': 5, 'episode_frame_number': 0, 'frame_number': 0}"
            ]
          },
          "metadata": {},
          "execution_count": 11
        }
      ]
    },
    {
      "cell_type": "code",
      "source": [
        "import matplotlib.pyplot as plt\n",
        "plt.imshow(obs)"
      ],
      "metadata": {
        "colab": {
          "base_uri": "https://localhost:8080/",
          "height": 473
        },
        "id": "bPA8ldgKy5vx",
        "outputId": "a9e9ec4c-2db8-40e2-d355-4974ed560702"
      },
      "execution_count": null,
      "outputs": [
        {
          "output_type": "execute_result",
          "data": {
            "text/plain": [
              "<matplotlib.image.AxesImage at 0x7cd1ba1116c0>"
            ]
          },
          "metadata": {},
          "execution_count": 12
        },
        {
          "output_type": "display_data",
          "data": {
            "text/plain": [
              "<Figure size 640x480 with 1 Axes>"
            ],
            "image/png": "[encoded data removed]"
          },
          "metadata": {}
        }
      ]
    },
    {
      "cell_type": "code",
      "source": [
        "obs_next, reward, done, _, info = env.step(1)"
      ],
      "metadata": {
        "id": "djbqyEELzI5R",
        "colab": {
          "base_uri": "https://localhost:8080/"
        },
        "outputId": "c1d4ec56-8289-4e24-eb82-b8c6a0945d4a"
      },
      "execution_count": null,
      "outputs": [
        {
          "output_type": "stream",
          "name": "stderr",
          "text": [
            "/usr/local/lib/python3.10/dist-packages/gym/utils/passive_env_checker.py:233: DeprecationWarning: `np.bool8` is a deprecated alias for `np.bool_`.  (Deprecated NumPy 1.24)\n",
            "  if not isinstance(terminated, (bool, np.bool8)):\n"
          ]
        }
      ]
    },
    {
      "cell_type": "code",
      "source": [
        "plt.imshow(obs_next)"
      ],
      "metadata": {
        "colab": {
          "base_uri": "https://localhost:8080/",
          "height": 473
        },
        "id": "984P5b9IzqzM",
        "outputId": "1a5337d5-92fa-48a7-977b-8b86b63c4d3b"
      },
      "execution_count": null,
      "outputs": [
        {
          "output_type": "execute_result",
          "data": {
            "text/plain": [
              "<matplotlib.image.AxesImage at 0x7cd1b9fedc00>"
            ]
          },
          "metadata": {},
          "execution_count": 14
        },
        {
          "output_type": "display_data",
          "data": {
            "text/plain": [
              "<Figure size 640x480 with 1 Axes>"
            ],
            "image/png": "[encoded data removed]"
          },
          "metadata": {}
        }
      ]
    },
    {
      "cell_type": "code",
      "source": [
        "import numpy as np\n",
        "import gym\n",
        "import torch\n",
        "import torch.nn as nn\n",
        "import torchvision.transforms as T\n",
        "\n",
        "# Configuration paramaters for the whole setup\n",
        "seed = 42\n",
        "gamma = 0.99  # Discount factor for past rewards\n",
        "epsilon = 1.0  # Epsilon greedy parameter\n",
        "epsilon_min = 0.1  # Minimum epsilon greedy parameter\n",
        "epsilon_max = 1.0  # Maximum epsilon greedy parameter\n",
        "epsilon_interval = (\n",
        "    epsilon_max - epsilon_min\n",
        ")  # Rate at which to reduce chance of random action being taken\n",
        "batch_size = 64  # Size of batch taken from replay buffer\n",
        "max_steps_per_episode = 1000"
      ],
      "metadata": {
        "id": "WZ5JPdNSzupR"
      },
      "execution_count": null,
      "outputs": []
    },
    {
      "cell_type": "code",
      "source": [
        "num_actions = env.action_space.n\n",
        "\n",
        "class QModel(nn.Module):\n",
        "    def __init__(self, num_actions):\n",
        "        super(QModel, self).__init__()\n",
        "        self.conv1 = nn.Conv2d(1, 32, kernel_size=8, stride=4)\n",
        "        self.conv2 = nn.Conv2d(32, 64, kernel_size=4, stride=2)\n",
        "        self.dropout = nn.Dropout(p=0.3)\n",
        "        self.conv3 = nn.Conv2d(64, 64, kernel_size=3, stride=1)\n",
        "        self.flatten = nn.Flatten()\n",
        "        self.fc1 = nn.Linear(3136, 512)\n",
        "        self.fc2 = nn.Linear(512, num_actions)\n",
        "\n",
        "    def forward(self, x):\n",
        "        x = nn.functional.relu(self.conv1(x))\n",
        "        x = nn.functional.relu(self.conv2(x))\n",
        "        x = self.dropout(x)\n",
        "        x = nn.functional.relu(self.conv3(x))\n",
        "        x = self.flatten(x)\n",
        "        x = nn.functional.relu(self.fc1(x))\n",
        "        x = self.dropout(x)\n",
        "        action = self.fc2(x)\n",
        "        return action"
      ],
      "metadata": {
        "id": "dc4_u5zq0gWg"
      },
      "execution_count": null,
      "outputs": []
    },
    {
      "cell_type": "code",
      "source": [
        "# The first model makes the predictions for Q-values which are used to\n",
        "# make a action.\n",
        "model = QModel(num_actions)\n",
        "model.to('cuda')\n",
        "\n",
        "# Build a target model for the prediction of future rewards.\n",
        "# The weights of a target model get updated every 10000 steps thus when the\n",
        "# loss between the Q-values is calculated the target Q-value is stable.\n",
        "model_target = QModel(num_actions)\n",
        "model_target.to('cuda')\n",
        "\n",
        "loss_function = nn.SmoothL1Loss()\n",
        "optimizer = torch.optim.Adam(model.parameters(), lr=0.00025)"
      ],
      "metadata": {
        "id": "3u3lUayG0o7T"
      },
      "execution_count": null,
      "outputs": []
    },
    {
      "cell_type": "code",
      "source": [
        "next(model.parameters()).is_cuda"
      ],
      "metadata": {
        "colab": {
          "base_uri": "https://localhost:8080/"
        },
        "id": "rnT3SK7swrf6",
        "outputId": "eae91ebe-0b09-472f-bdb5-8d7136fdc883"
      },
      "execution_count": null,
      "outputs": [
        {
          "output_type": "execute_result",
          "data": {
            "text/plain": [
              "True"
            ]
          },
          "metadata": {},
          "execution_count": 18
        }
      ]
    },
    {
      "cell_type": "code",
      "source": [
        "# Experience replay buffers\n",
        "action_history = []\n",
        "state_history = []\n",
        "state_next_history = []\n",
        "rewards_history = []\n",
        "done_history = []\n",
        "episode_reward_history = []\n",
        "running_reward = 0\n",
        "episode_count = 0\n",
        "frame_count = 0\n",
        "\n",
        "# Number of frames to take random action and observe output\n",
        "epsilon_random_frames = 50000\n",
        "# Number of frames for exploration\n",
        "epsilon_greedy_frames = 100000.0\n",
        "# Maximum replay length\n",
        "# Note: The Deepmind paper suggests 1000000 however this causes memory issues\n",
        "max_memory_length = 500000\n",
        "# Train the model after 4 actions\n",
        "update_after_actions = 4\n",
        "# How often to update the target network\n",
        "update_target_network = 10000"
      ],
      "metadata": {
        "id": "3hGodqNc08rZ"
      },
      "execution_count": null,
      "outputs": []
    },
    {
      "cell_type": "code",
      "source": [
        "preprocess = T.Compose([\n",
        "    T.ToPILImage(),\n",
        "    T.Grayscale(),\n",
        "    T.Resize((84, 84)),\n",
        "    T.ToTensor()\n",
        "])\n",
        "\n",
        "# Function to preprocess the state\n",
        "def preprocess_state(state):\n",
        "    state = preprocess(state).unsqueeze(0)\n",
        "    return state"
      ],
      "metadata": {
        "id": "-kZIWhM71Ns-"
      },
      "execution_count": null,
      "outputs": []
    },
    {
      "cell_type": "code",
      "source": [
        "# Function to select an action\n",
        "def get_greedy_epsilon(model, state):\n",
        "    global epsilon\n",
        "\n",
        "    #if frame_count < epsilon_random_frames or np.random.rand(1)[0] < epsilon:\n",
        "    if np.random.rand(1)[0] < epsilon:\n",
        "        action = np.random.randint(num_actions)\n",
        "    else:\n",
        "        with torch.no_grad():\n",
        "            # add a batch axis\n",
        "            #state = state.unsqueeze(0)\n",
        "            # compute the q-values\n",
        "            q_values = model(state)\n",
        "            # the action of maximum q-value\n",
        "            action = q_values.argmax().item()\n",
        "\n",
        "    # decay epsilon\n",
        "    epsilon -= epsilon_interval / epsilon_greedy_frames\n",
        "    epsilon = max(epsilon, epsilon_min)\n",
        "\n",
        "    return action"
      ],
      "metadata": {
        "id": "CPfiO0nZ09Yi"
      },
      "execution_count": null,
      "outputs": []
    },
    {
      "cell_type": "code",
      "source": [
        "def get_greedy_action(model, state):\n",
        "    global epsilon\n",
        "\n",
        "    with torch.no_grad():\n",
        "        #state = state.unsqueeze(0) # batch dimension\n",
        "        q_values = model(state)\n",
        "        action = q_values.argmax().item()\n",
        "\n",
        "    return action"
      ],
      "metadata": {
        "id": "FVhhXbi92f3t"
      },
      "execution_count": null,
      "outputs": []
    },
    {
      "cell_type": "code",
      "source": [
        "# sample a batch of _batch_size from replay buffers\n",
        "# return numpy.ndarrays\n",
        "def sample_batch(_batch_size):\n",
        "    # Get indices of samples for replay buffers\n",
        "    indices = np.random.choice(range(len(done_history)), size=_batch_size, replace=False)\n",
        "\n",
        "    state_sample = np.array([state_history[i].squeeze(0).numpy() for i in indices])\n",
        "    state_next_sample = np.array([state_next_history[i].squeeze(0).numpy() for i in indices])\n",
        "    rewards_sample = np.array([rewards_history[i] for i in indices], dtype=np.float32)\n",
        "    action_sample = np.array([action_history[i] for i in indices])\n",
        "    done_sample = np.array([float(done_history[i]) for i in indices])\n",
        "\n",
        "    return state_sample, state_next_sample, rewards_sample, action_sample, done_sample"
      ],
      "metadata": {
        "id": "3_9hivE42mlp"
      },
      "execution_count": null,
      "outputs": []
    },
    {
      "cell_type": "code",
      "source": [
        "# Function to update the Q-network\n",
        "def update_network():\n",
        "    # sample a batch of ...\n",
        "    state_sample, state_next_sample, rewards_sample, action_sample, done_sample = \\\n",
        "        sample_batch(batch_size)\n",
        "\n",
        "    # Convert numpy arrays to PyTorch tensors\n",
        "    state_sample = torch.tensor(state_sample, dtype=torch.float32).to('cuda')\n",
        "    state_next_sample = torch.tensor(state_next_sample, dtype=torch.float32).to('cuda')\n",
        "    action_sample = torch.tensor(action_sample, dtype=torch.int64).to('cuda')\n",
        "    rewards_sample = torch.tensor(rewards_sample, dtype=torch.float32).to('cuda')\n",
        "    done_sample = torch.tensor(done_sample, dtype=torch.float32).to('cuda')\n",
        "\n",
        "    # Compute the target Q-values for the states\n",
        "    with torch.no_grad():\n",
        "        future_rewards = model_target(state_next_sample)\n",
        "\n",
        "        # compute the q-value for the next state and the action maximizing the q-value\n",
        "        max_q_values = future_rewards.max(dim=1).values\n",
        "\n",
        "        # compute the target q-value\n",
        "        # if the step was final, max_q_values should not be added\n",
        "        target_q_values = rewards_sample + gamma * max_q_values * (1. - done_sample)\n",
        "\n",
        "    # It's forward propagation! Compute the Q-values for the taken actions\n",
        "    q_values = model(state_sample)\n",
        "    q_values_action = q_values.gather(dim=1, index=action_sample.unsqueeze(1)).squeeze(1)\n",
        "\n",
        "    # Compute the loss\n",
        "    loss = loss_function(q_values_action, target_q_values)\n",
        "\n",
        "    # Perform the optimization step\n",
        "    optimizer.zero_grad()\n",
        "    loss.backward()\n",
        "    optimizer.step()"
      ],
      "metadata": {
        "id": "067LMCDM2xDq"
      },
      "execution_count": null,
      "outputs": []
    },
    {
      "cell_type": "code",
      "source": [
        "while True:  # Run until solved\n",
        "    state, info = env.reset()\n",
        "    state, reward, done, _, info = env.step(1)\n",
        "    state = preprocess_state(state)\n",
        "    episode_reward = 0\n",
        "\n",
        "    for timestep in range(1, max_steps_per_episode):\n",
        "        frame_count += 1\n",
        "\n",
        "        # Select an action\n",
        "        action = get_greedy_epsilon(model, state.to('cuda'))\n",
        "\n",
        "        # Take the selected action\n",
        "        state_next, reward, done, _, info = env.step(action)\n",
        "        state_next = preprocess_state(state_next)\n",
        "\n",
        "        episode_reward += reward\n",
        "\n",
        "        # Store the transition in the replay buffer\n",
        "        action_history.append(action)\n",
        "        state_history.append(state)\n",
        "        state_next_history.append(state_next)\n",
        "        rewards_history.append(reward)\n",
        "        done_history.append(done)\n",
        "\n",
        "        state = state_next\n",
        "\n",
        "        # Update every fourth frame and once batch size is over 32\n",
        "        if frame_count % update_after_actions == 0 and len(done_history) > batch_size:\n",
        "            update_network()\n",
        "\n",
        "        if frame_count % update_target_network == 0:\n",
        "            model_target.load_state_dict(model.state_dict())\n",
        "\n",
        "        # Limit the state and reward history\n",
        "        if len(rewards_history) > max_memory_length:\n",
        "            del rewards_history[:1]\n",
        "            del state_history[:1]\n",
        "            del state_next_history[:1]\n",
        "            del action_history[:1]\n",
        "            del done_history[:1]\n",
        "\n",
        "        if done:\n",
        "            break\n",
        "\n",
        "    episode_count += 1\n",
        "    episode_reward_history.append(episode_reward)\n",
        "\n",
        "    # Update running reward to check condition for solving\n",
        "    if len(episode_reward_history) > 100:\n",
        "        del episode_reward_history[:1]\n",
        "    running_reward = np.mean(episode_reward_history)\n",
        "\n",
        "    if episode_count % 10 == 0:\n",
        "        print(f\"Episode: {episode_count}, Frame count: {frame_count}, Running reward: {running_reward}\")\n",
        "\n",
        "    if episode_count % 5000 == 0:\n",
        "        torch.save(model, 'model.{}'.format(episode_count))\n",
        "    if running_reward > 20:\n",
        "        print(f\"Solved at episode {episode_count}!\")\n",
        "        break\n",
        "    if episode_count >= 300:\n",
        "        break\n",
        "\n",
        "\n",
        "torch.save(model, 'model.final')"
      ],
      "metadata": {
        "colab": {
          "base_uri": "https://localhost:8080/"
        },
        "id": "pgPMTl6F2_st",
        "outputId": "b79ca48a-ea7e-4ead-e984-d1842144251f"
      },
      "execution_count": null,
      "outputs": [
        {
          "output_type": "stream",
          "name": "stdout",
          "text": [
            "Episode: 10, Frame count: 6786, Running reward: 1.2\n",
            "Episode: 20, Frame count: 12830, Running reward: 0.95\n",
            "Episode: 30, Frame count: 19926, Running reward: 1.0666666666666667\n",
            "Episode: 40, Frame count: 26055, Running reward: 0.975\n",
            "Episode: 50, Frame count: 32994, Running reward: 1.02\n",
            "Episode: 60, Frame count: 40610, Running reward: 1.1833333333333333\n",
            "Episode: 70, Frame count: 47240, Running reward: 1.1714285714285715\n",
            "Episode: 80, Frame count: 53736, Running reward: 1.1625\n",
            "Episode: 90, Frame count: 60571, Running reward: 1.1666666666666667\n",
            "Episode: 100, Frame count: 67013, Running reward: 1.14\n",
            "Episode: 110, Frame count: 74169, Running reward: 1.15\n",
            "Episode: 120, Frame count: 80398, Running reward: 1.15\n",
            "Episode: 130, Frame count: 86251, Running reward: 1.09\n",
            "Episode: 140, Frame count: 93146, Running reward: 1.14\n",
            "Episode: 150, Frame count: 99744, Running reward: 1.11\n",
            "Episode: 160, Frame count: 107001, Running reward: 1.06\n",
            "Episode: 170, Frame count: 113305, Running reward: 1.02\n",
            "Episode: 180, Frame count: 120858, Running reward: 1.09\n",
            "Episode: 190, Frame count: 127608, Running reward: 1.07\n",
            "Episode: 200, Frame count: 134996, Running reward: 1.12\n",
            "Episode: 210, Frame count: 142469, Running reward: 1.15\n",
            "Episode: 220, Frame count: 150416, Running reward: 1.24\n",
            "Episode: 230, Frame count: 156447, Running reward: 1.23\n",
            "Episode: 240, Frame count: 163948, Running reward: 1.24\n",
            "Episode: 250, Frame count: 171787, Running reward: 1.34\n",
            "Episode: 260, Frame count: 180385, Running reward: 1.4\n",
            "Episode: 270, Frame count: 188675, Running reward: 1.48\n",
            "Episode: 280, Frame count: 196214, Running reward: 1.4\n",
            "Episode: 290, Frame count: 204199, Running reward: 1.47\n",
            "Episode: 300, Frame count: 211634, Running reward: 1.42\n"
          ]
        }
      ]
    },
    {
      "cell_type": "code",
      "source": [
        "import time, sys\n",
        "from IPython.display import clear_output\n",
        "from matplotlib import animation\n",
        "import matplotlib.pyplot as plt\n",
        "import glob\n",
        "import imageio\n",
        "\n",
        "anim_file = 'atari.gif'\n",
        "\n",
        "turn =  0\n",
        "board, info = env.reset()\n",
        "state = preprocess_state(board)\n",
        "board, reward, done, _, info = env.step(1)\n",
        "state = preprocess_state(board)\n",
        "plt.imshow(board)\n",
        "plt.savefig('image_at_turn_{:04d}.png'.format(turn))\n",
        "\n",
        "for timestep in range(1, 100):\n",
        "    turn += 1\n",
        "    action = get_greedy_action(model, state.to('cuda'))\n",
        "    print(action)\n",
        "    board, reward, done, _, info = env.step(action)\n",
        "    state = preprocess_state(board)\n",
        "    plt.imshow(board)\n",
        "    plt.savefig('image_at_turn_{:04d}.png'.format(turn))\n",
        "\n",
        "    if done:\n",
        "        break"
      ],
      "metadata": {
        "colab": {
          "base_uri": "https://localhost:8080/",
          "height": 1000
        },
        "id": "s4lM71lH5FFz",
        "outputId": "8dbe3d18-08b9-44cd-b319-2fd82d4c95cb"
      },
      "execution_count": null,
      "outputs": [
        {
          "output_type": "stream",
          "name": "stdout",
          "text": [
            "3\n",
            "1\n",
            "3\n",
            "3\n",
            "3\n",
            "3\n",
            "3\n",
            "1\n",
            "3\n",
            "0\n",
            "3\n",
            "3\n",
            "3\n",
            "3\n",
            "3\n",
            "3\n",
            "1\n",
            "3\n",
            "3\n",
            "3\n",
            "3\n",
            "3\n",
            "3\n",
            "3\n",
            "1\n",
            "1\n",
            "3\n",
            "1\n",
            "0\n",
            "3\n",
            "3\n",
            "0\n",
            "3\n",
            "3\n",
            "3\n",
            "3\n",
            "3\n",
            "1\n",
            "3\n",
            "3\n",
            "3\n",
            "1\n",
            "3\n",
            "3\n",
            "3\n",
            "3\n",
            "1\n",
            "1\n",
            "1\n",
            "1\n",
            "2\n",
            "1\n",
            "1\n",
            "1\n",
            "1\n",
            "2\n",
            "2\n",
            "2\n",
            "1\n",
            "1\n",
            "2\n",
            "2\n",
            "2\n",
            "2\n",
            "2\n",
            "2\n",
            "2\n",
            "2\n",
            "2\n",
            "2\n",
            "2\n",
            "1\n",
            "0\n",
            "2\n",
            "2\n",
            "2\n",
            "2\n",
            "2\n",
            "2\n",
            "2\n",
            "2\n",
            "2\n",
            "2\n",
            "2\n",
            "0\n",
            "2\n",
            "2\n",
            "2\n",
            "2\n",
            "2\n",
            "2\n",
            "2\n",
            "2\n",
            "2\n",
            "2\n",
            "2\n",
            "2\n",
            "2\n",
            "2\n"
          ]
        },
        {
          "output_type": "display_data",
          "data": {
            "text/plain": [
              "<Figure size 640x480 with 1 Axes>"
            ],
            "image/png": "[encoded data removed]"
          },
          "metadata": {}
        }
      ]
    },
    {
      "cell_type": "code",
      "source": [
        "!ls"
      ],
      "metadata": {
        "colab": {
          "base_uri": "https://localhost:8080/"
        },
        "id": "aP7OauQk5eZs",
        "outputId": "7eb5bd17-f49e-436e-88b5-a27cf559a439"
      },
      "execution_count": null,
      "outputs": [
        {
          "output_type": "stream",
          "name": "stdout",
          "text": [
            "atari.gif\t\timage_at_turn_0024.png\timage_at_turn_0050.png\timage_at_turn_0076.png\n",
            "drive\t\t\timage_at_turn_0025.png\timage_at_turn_0051.png\timage_at_turn_0077.png\n",
            "image_at_turn_0000.png\timage_at_turn_0026.png\timage_at_turn_0052.png\timage_at_turn_0078.png\n",
            "image_at_turn_0001.png\timage_at_turn_0027.png\timage_at_turn_0053.png\timage_at_turn_0079.png\n",
            "image_at_turn_0002.png\timage_at_turn_0028.png\timage_at_turn_0054.png\timage_at_turn_0080.png\n",
            "image_at_turn_0003.png\timage_at_turn_0029.png\timage_at_turn_0055.png\timage_at_turn_0081.png\n",
            "image_at_turn_0004.png\timage_at_turn_0030.png\timage_at_turn_0056.png\timage_at_turn_0082.png\n",
            "image_at_turn_0005.png\timage_at_turn_0031.png\timage_at_turn_0057.png\timage_at_turn_0083.png\n",
            "image_at_turn_0006.png\timage_at_turn_0032.png\timage_at_turn_0058.png\timage_at_turn_0084.png\n",
            "image_at_turn_0007.png\timage_at_turn_0033.png\timage_at_turn_0059.png\timage_at_turn_0085.png\n",
            "image_at_turn_0008.png\timage_at_turn_0034.png\timage_at_turn_0060.png\timage_at_turn_0086.png\n",
            "image_at_turn_0009.png\timage_at_turn_0035.png\timage_at_turn_0061.png\timage_at_turn_0087.png\n",
            "image_at_turn_0010.png\timage_at_turn_0036.png\timage_at_turn_0062.png\timage_at_turn_0088.png\n",
            "image_at_turn_0011.png\timage_at_turn_0037.png\timage_at_turn_0063.png\timage_at_turn_0089.png\n",
            "image_at_turn_0012.png\timage_at_turn_0038.png\timage_at_turn_0064.png\timage_at_turn_0090.png\n",
            "image_at_turn_0013.png\timage_at_turn_0039.png\timage_at_turn_0065.png\timage_at_turn_0091.png\n",
            "image_at_turn_0014.png\timage_at_turn_0040.png\timage_at_turn_0066.png\timage_at_turn_0092.png\n",
            "image_at_turn_0015.png\timage_at_turn_0041.png\timage_at_turn_0067.png\timage_at_turn_0093.png\n",
            "image_at_turn_0016.png\timage_at_turn_0042.png\timage_at_turn_0068.png\timage_at_turn_0094.png\n",
            "image_at_turn_0017.png\timage_at_turn_0043.png\timage_at_turn_0069.png\timage_at_turn_0095.png\n",
            "image_at_turn_0018.png\timage_at_turn_0044.png\timage_at_turn_0070.png\timage_at_turn_0096.png\n",
            "image_at_turn_0019.png\timage_at_turn_0045.png\timage_at_turn_0071.png\timage_at_turn_0097.png\n",
            "image_at_turn_0020.png\timage_at_turn_0046.png\timage_at_turn_0072.png\timage_at_turn_0098.png\n",
            "image_at_turn_0021.png\timage_at_turn_0047.png\timage_at_turn_0073.png\timage_at_turn_0099.png\n",
            "image_at_turn_0022.png\timage_at_turn_0048.png\timage_at_turn_0074.png\tmodel.final\n",
            "image_at_turn_0023.png\timage_at_turn_0049.png\timage_at_turn_0075.png\tsample_data\n"
          ]
        }
      ]
    },
    {
      "cell_type": "code",
      "source": [
        "# generate animated gif file\n",
        "with imageio.get_writer(anim_file, mode='I') as writer:\n",
        "    filenames = glob.glob('image_at_turn_*.png')\n",
        "    filenames = sorted(filenames)\n",
        "    for filename in filenames:\n",
        "        print(filename)\n",
        "        image = imageio.imread(filename)\n",
        "        writer.append_data(image)\n",
        "    image = imageio.imread(filename)\n",
        "    writer.append_data(image)\n"
      ],
      "metadata": {
        "colab": {
          "base_uri": "https://localhost:8080/"
        },
        "id": "E4Wm0t1m5fa9",
        "outputId": "b50f2a6f-ebc9-4913-b97c-f81edb0772b9"
      },
      "execution_count": null,
      "outputs": [
        {
          "output_type": "stream",
          "name": "stdout",
          "text": [
            "image_at_turn_0000.png\n",
            "image_at_turn_0001.png\n",
            "image_at_turn_0002.png\n",
            "image_at_turn_0003.png\n",
            "image_at_turn_0004.png\n",
            "image_at_turn_0005.png\n",
            "image_at_turn_0006.png\n",
            "image_at_turn_0007.png\n",
            "image_at_turn_0008.png\n",
            "image_at_turn_0009.png\n",
            "image_at_turn_0010.png\n",
            "image_at_turn_0011.png\n",
            "image_at_turn_0012.png\n",
            "image_at_turn_0013.png\n",
            "image_at_turn_0014.png\n",
            "image_at_turn_0015.png\n",
            "image_at_turn_0016.png\n",
            "image_at_turn_0017.png\n",
            "image_at_turn_0018.png\n",
            "image_at_turn_0019.png\n",
            "image_at_turn_0020.png\n",
            "image_at_turn_0021.png\n",
            "image_at_turn_0022.png\n",
            "image_at_turn_0023.png\n",
            "image_at_turn_0024.png\n",
            "image_at_turn_0025.png\n",
            "image_at_turn_0026.png\n",
            "image_at_turn_0027.png\n",
            "image_at_turn_0028.png\n",
            "image_at_turn_0029.png\n",
            "image_at_turn_0030.png\n",
            "image_at_turn_0031.png\n",
            "image_at_turn_0032.png\n",
            "image_at_turn_0033.png\n",
            "image_at_turn_0034.png\n",
            "image_at_turn_0035.png\n"
          ]
        },
        {
          "output_type": "stream",
          "name": "stderr",
          "text": [
            "<ipython-input-28-b17174db83f8>:7: DeprecationWarning: Starting with ImageIO v3 the behavior of this function will switch to that of iio.v3.imread. To keep the current behavior (and make this warning disappear) use `import imageio.v2 as imageio` or call `imageio.v2.imread` directly.\n",
            "  image = imageio.imread(filename)\n"
          ]
        },
        {
          "output_type": "stream",
          "name": "stdout",
          "text": [
            "image_at_turn_0036.png\n",
            "image_at_turn_0037.png\n",
            "image_at_turn_0038.png\n",
            "image_at_turn_0039.png\n",
            "image_at_turn_0040.png\n",
            "image_at_turn_0041.png\n",
            "image_at_turn_0042.png\n",
            "image_at_turn_0043.png\n",
            "image_at_turn_0044.png\n",
            "image_at_turn_0045.png\n",
            "image_at_turn_0046.png\n",
            "image_at_turn_0047.png\n",
            "image_at_turn_0048.png\n",
            "image_at_turn_0049.png\n",
            "image_at_turn_0050.png\n",
            "image_at_turn_0051.png\n",
            "image_at_turn_0052.png\n",
            "image_at_turn_0053.png\n",
            "image_at_turn_0054.png\n",
            "image_at_turn_0055.png\n",
            "image_at_turn_0056.png\n",
            "image_at_turn_0057.png\n",
            "image_at_turn_0058.png\n",
            "image_at_turn_0059.png\n",
            "image_at_turn_0060.png\n",
            "image_at_turn_0061.png\n",
            "image_at_turn_0062.png\n",
            "image_at_turn_0063.png\n",
            "image_at_turn_0064.png\n",
            "image_at_turn_0065.png\n",
            "image_at_turn_0066.png\n",
            "image_at_turn_0067.png\n",
            "image_at_turn_0068.png\n",
            "image_at_turn_0069.png\n",
            "image_at_turn_0070.png\n",
            "image_at_turn_0071.png\n",
            "image_at_turn_0072.png\n",
            "image_at_turn_0073.png\n",
            "image_at_turn_0074.png\n",
            "image_at_turn_0075.png\n",
            "image_at_turn_0076.png\n",
            "image_at_turn_0077.png\n",
            "image_at_turn_0078.png\n",
            "image_at_turn_0079.png\n",
            "image_at_turn_0080.png\n",
            "image_at_turn_0081.png\n",
            "image_at_turn_0082.png\n",
            "image_at_turn_0083.png\n",
            "image_at_turn_0084.png\n",
            "image_at_turn_0085.png\n",
            "image_at_turn_0086.png\n",
            "image_at_turn_0087.png\n",
            "image_at_turn_0088.png\n",
            "image_at_turn_0089.png\n",
            "image_at_turn_0090.png\n",
            "image_at_turn_0091.png\n",
            "image_at_turn_0092.png\n",
            "image_at_turn_0093.png\n",
            "image_at_turn_0094.png\n",
            "image_at_turn_0095.png\n",
            "image_at_turn_0096.png\n",
            "image_at_turn_0097.png\n",
            "image_at_turn_0098.png\n",
            "image_at_turn_0099.png\n"
          ]
        },
        {
          "output_type": "stream",
          "name": "stderr",
          "text": [
            "<ipython-input-28-b17174db83f8>:9: DeprecationWarning: Starting with ImageIO v3 the behavior of this function will switch to that of iio.v3.imread. To keep the current behavior (and make this warning disappear) use `import imageio.v2 as imageio` or call `imageio.v2.imread` directly.\n",
            "  image = imageio.imread(filename)\n"
          ]
        }
      ]
    },
    {
      "cell_type": "code",
      "source": [
        "!ls"
      ],
      "metadata": {
        "colab": {
          "base_uri": "https://localhost:8080/"
        },
        "id": "BnACjbHv5kii",
        "outputId": "6568e8b5-d816-4875-92b3-cd13d67769fd"
      },
      "execution_count": null,
      "outputs": [
        {
          "output_type": "stream",
          "name": "stdout",
          "text": [
            "atari.gif\t\timage_at_turn_0024.png\timage_at_turn_0050.png\timage_at_turn_0076.png\n",
            "drive\t\t\timage_at_turn_0025.png\timage_at_turn_0051.png\timage_at_turn_0077.png\n",
            "image_at_turn_0000.png\timage_at_turn_0026.png\timage_at_turn_0052.png\timage_at_turn_0078.png\n",
            "image_at_turn_0001.png\timage_at_turn_0027.png\timage_at_turn_0053.png\timage_at_turn_0079.png\n",
            "image_at_turn_0002.png\timage_at_turn_0028.png\timage_at_turn_0054.png\timage_at_turn_0080.png\n",
            "image_at_turn_0003.png\timage_at_turn_0029.png\timage_at_turn_0055.png\timage_at_turn_0081.png\n",
            "image_at_turn_0004.png\timage_at_turn_0030.png\timage_at_turn_0056.png\timage_at_turn_0082.png\n",
            "image_at_turn_0005.png\timage_at_turn_0031.png\timage_at_turn_0057.png\timage_at_turn_0083.png\n",
            "image_at_turn_0006.png\timage_at_turn_0032.png\timage_at_turn_0058.png\timage_at_turn_0084.png\n",
            "image_at_turn_0007.png\timage_at_turn_0033.png\timage_at_turn_0059.png\timage_at_turn_0085.png\n",
            "image_at_turn_0008.png\timage_at_turn_0034.png\timage_at_turn_0060.png\timage_at_turn_0086.png\n",
            "image_at_turn_0009.png\timage_at_turn_0035.png\timage_at_turn_0061.png\timage_at_turn_0087.png\n",
            "image_at_turn_0010.png\timage_at_turn_0036.png\timage_at_turn_0062.png\timage_at_turn_0088.png\n",
            "image_at_turn_0011.png\timage_at_turn_0037.png\timage_at_turn_0063.png\timage_at_turn_0089.png\n",
            "image_at_turn_0012.png\timage_at_turn_0038.png\timage_at_turn_0064.png\timage_at_turn_0090.png\n",
            "image_at_turn_0013.png\timage_at_turn_0039.png\timage_at_turn_0065.png\timage_at_turn_0091.png\n",
            "image_at_turn_0014.png\timage_at_turn_0040.png\timage_at_turn_0066.png\timage_at_turn_0092.png\n",
            "image_at_turn_0015.png\timage_at_turn_0041.png\timage_at_turn_0067.png\timage_at_turn_0093.png\n",
            "image_at_turn_0016.png\timage_at_turn_0042.png\timage_at_turn_0068.png\timage_at_turn_0094.png\n",
            "image_at_turn_0017.png\timage_at_turn_0043.png\timage_at_turn_0069.png\timage_at_turn_0095.png\n",
            "image_at_turn_0018.png\timage_at_turn_0044.png\timage_at_turn_0070.png\timage_at_turn_0096.png\n",
            "image_at_turn_0019.png\timage_at_turn_0045.png\timage_at_turn_0071.png\timage_at_turn_0097.png\n",
            "image_at_turn_0020.png\timage_at_turn_0046.png\timage_at_turn_0072.png\timage_at_turn_0098.png\n",
            "image_at_turn_0021.png\timage_at_turn_0047.png\timage_at_turn_0073.png\timage_at_turn_0099.png\n",
            "image_at_turn_0022.png\timage_at_turn_0048.png\timage_at_turn_0074.png\tmodel.final\n",
            "image_at_turn_0023.png\timage_at_turn_0049.png\timage_at_turn_0075.png\tsample_data\n"
          ]
        }
      ]
    },
    {
      "cell_type": "code",
      "source": [
        "from google.colab import drive"
      ],
      "metadata": {
        "id": "Lq4nVgPe5ttQ"
      },
      "execution_count": null,
      "outputs": []
    },
    {
      "cell_type": "code",
      "source": [
        "drive.mount('/content/drive')"
      ],
      "metadata": {
        "colab": {
          "base_uri": "https://localhost:8080/"
        },
        "id": "-aGtj3dn50Y3",
        "outputId": "11486907-98af-455c-9c9c-d9260ccbb330"
      },
      "execution_count": null,
      "outputs": [
        {
          "output_type": "stream",
          "name": "stdout",
          "text": [
            "Drive already mounted at /content/drive; to attempt to forcibly remount, call drive.mount(\"/content/drive\", force_remount=True).\n"
          ]
        }
      ]
    },
    {
      "cell_type": "code",
      "source": [],
      "metadata": {
        "id": "EogJEczBBQ1x"
      },
      "execution_count": null,
      "outputs": []
    },
    {
      "cell_type": "code",
      "source": [
        "!cp atari.gif '/content/drive/MyDrive/SKT_FLY_AI /4주차 파이토치/'"
      ],
      "metadata": {
        "id": "sEAWU9lg54oG"
      },
      "execution_count": null,
      "outputs": []
    },
    {
      "cell_type": "code",
      "source": [],
      "metadata": {
        "id": "oeiD8oBN5-Oz"
      },
      "execution_count": null,
      "outputs": []
    }
  ]
}