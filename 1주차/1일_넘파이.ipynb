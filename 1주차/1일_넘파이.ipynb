{
  "nbformat": 4,
  "nbformat_minor": 0,
  "metadata": {
    "colab": {
      "provenance": [],
      "mount_file_id": "15koSS22u5dyYySJJMPZ97S0wSSMq7f2z",
      "authorship_tag": "ABX9TyM1Fd7NumFXBpRTsZThYUVL",
      "include_colab_link": true
    },
    "kernelspec": {
      "name": "python3",
      "display_name": "Python 3"
    },
    "language_info": {
      "name": "python"
    }
  },
  "cells": [
    {
      "cell_type": "markdown",
      "metadata": {
        "id": "view-in-github",
        "colab_type": "text"
      },
      "source": [
        "<a href=\"https://colab.research.google.com/github/YangHyunu/SKT-FLY-AI-5/blob/main/1%EC%A3%BC%EC%B0%A8/1%EC%9D%BC_%EB%84%98%ED%8C%8C%EC%9D%B4.ipynb\" target=\"_parent\"><img src=\"https://colab.research.google.com/assets/colab-badge.svg\" alt=\"Open In Colab\"/></a>"
      ]
    },
    {
      "cell_type": "markdown",
      "source": [
        "# Numpy"
      ],
      "metadata": {
        "id": "1kjOdDD_vB_j"
      }
    },
    {
      "cell_type": "markdown",
      "source": [
        "## 라이브러리 임포트"
      ],
      "metadata": {
        "id": "DqV903-nvmma"
      }
    },
    {
      "cell_type": "code",
      "source": [
        "import numpy as np\n",
        "np.__version__"
      ],
      "metadata": {
        "id": "u-yuAi-qwDQO",
        "colab": {
          "base_uri": "https://localhost:8080/",
          "height": 36
        },
        "outputId": "fc57e743-c055-42ed-d035-0553e66c884c"
      },
      "execution_count": null,
      "outputs": [
        {
          "output_type": "execute_result",
          "data": {
            "text/plain": [
              "'1.25.2'"
            ],
            "application/vnd.google.colaboratory.intrinsic+json": {
              "type": "string"
            }
          },
          "metadata": {},
          "execution_count": 7
        }
      ]
    },
    {
      "cell_type": "markdown",
      "source": [
        "# 파이썬 리스트와 처리 속도 비교"
      ],
      "metadata": {
        "id": "LSQt13WdxkdS"
      }
    },
    {
      "cell_type": "code",
      "source": [
        "import random\n",
        "my_arr=[random.random() for i in range(1_000_000)]\n",
        "type(my_arr)\n"
      ],
      "metadata": {
        "colab": {
          "base_uri": "https://localhost:8080/"
        },
        "id": "gWfvD-vmz3W-",
        "outputId": "1bc30096-a859-460b-dbc1-00c06698961f"
      },
      "execution_count": null,
      "outputs": [
        {
          "output_type": "execute_result",
          "data": {
            "text/plain": [
              "list"
            ]
          },
          "metadata": {},
          "execution_count": 15
        }
      ]
    },
    {
      "cell_type": "code",
      "source": [
        "%%timeit\n",
        "import statistics as stat\n",
        "stat.mean(my_arr)\n"
      ],
      "metadata": {
        "colab": {
          "base_uri": "https://localhost:8080/"
        },
        "id": "BIUcQ94S0WjG",
        "outputId": "6c427b89-f2f8-425e-b878-e4672d7f9309"
      },
      "execution_count": null,
      "outputs": [
        {
          "output_type": "stream",
          "name": "stdout",
          "text": [
            "639 ms ± 13.6 ms per loop (mean ± std. dev. of 7 runs, 1 loop each)\n"
          ]
        }
      ]
    },
    {
      "cell_type": "code",
      "source": [
        "%%timeit\n",
        "arr = np.array(my_arr)\n",
        "type(arr)\n",
        "np.mean(arr)"
      ],
      "metadata": {
        "colab": {
          "base_uri": "https://localhost:8080/"
        },
        "id": "qckMdwq61GGz",
        "outputId": "ea0e1e86-958c-42a4-d1d5-48ddac43a545"
      },
      "execution_count": null,
      "outputs": [
        {
          "output_type": "stream",
          "name": "stdout",
          "text": [
            "48.2 ms ± 388 µs per loop (mean ± std. dev. of 7 runs, 10 loops each)\n"
          ]
        }
      ]
    },
    {
      "cell_type": "markdown",
      "source": [
        "# 배열생성"
      ],
      "metadata": {
        "id": "0chf0jJw1hGH"
      }
    },
    {
      "cell_type": "code",
      "source": [
        "arr = np.array([[[1,2],[3,4]],[[5,6],[7,8]]])\n",
        "# arr1 = np.array([-1,-2,-3,-4,-5])\n",
        "print(arr)\n",
        "# arr1"
      ],
      "metadata": {
        "colab": {
          "base_uri": "https://localhost:8080/"
        },
        "id": "beeEcO1a16Om",
        "outputId": "a3dfc130-76bc-445a-b205-8f42d8a2eace"
      },
      "execution_count": null,
      "outputs": [
        {
          "output_type": "stream",
          "name": "stdout",
          "text": [
            "[[[1 2]\n",
            "  [3 4]]\n",
            "\n",
            " [[5 6]\n",
            "  [7 8]]]\n"
          ]
        }
      ]
    },
    {
      "cell_type": "code",
      "source": [
        "# print(arr.shape)\n",
        "# print(arr.ndim)\n",
        "# arr.dtype\n",
        "arr.size\n",
        "len(arr)"
      ],
      "metadata": {
        "colab": {
          "base_uri": "https://localhost:8080/"
        },
        "id": "LEWQddPM4ZNH",
        "outputId": "dd593b1f-ef7e-44b1-99dd-ca8ad39367c2"
      },
      "execution_count": null,
      "outputs": [
        {
          "output_type": "stream",
          "name": "stdout",
          "text": [
            "(2, 2, 2)\n"
          ]
        },
        {
          "output_type": "execute_result",
          "data": {
            "text/plain": [
              "2"
            ]
          },
          "metadata": {},
          "execution_count": 41
        }
      ]
    },
    {
      "cell_type": "markdown",
      "source": [
        "## 생성과 초기화"
      ],
      "metadata": {
        "id": "I7b6b7oP9xoy"
      }
    },
    {
      "cell_type": "code",
      "source": [
        "arr_zero = np.zeros((3,2))\n",
        "arr_zero"
      ],
      "metadata": {
        "colab": {
          "base_uri": "https://localhost:8080/"
        },
        "id": "wcQM_p1g97Uv",
        "outputId": "68dc81b4-52d1-4152-e6b4-be6f6eeccf18"
      },
      "execution_count": null,
      "outputs": [
        {
          "output_type": "execute_result",
          "data": {
            "text/plain": [
              "array([[0., 0.],\n",
              "       [0., 0.],\n",
              "       [0., 0.]])"
            ]
          },
          "metadata": {},
          "execution_count": 42
        }
      ]
    },
    {
      "cell_type": "code",
      "source": [
        "np.full((2,3),-1)"
      ],
      "metadata": {
        "colab": {
          "base_uri": "https://localhost:8080/"
        },
        "id": "H-IjE6Cj-FZD",
        "outputId": "629f9ab9-3f6b-4f33-813f-7b4b62bc8775"
      },
      "execution_count": null,
      "outputs": [
        {
          "output_type": "execute_result",
          "data": {
            "text/plain": [
              "array([[-1, -1, -1],\n",
              "       [-1, -1, -1]])"
            ]
          },
          "metadata": {},
          "execution_count": 45
        }
      ]
    },
    {
      "cell_type": "code",
      "source": [
        "arr = np.array([[[1,2],[3,4]],\n",
        " [[5,6],[7,8]]])\n",
        "np.zeros_like(arr)\n",
        "np.zeros_like(arr.shape)"
      ],
      "metadata": {
        "colab": {
          "base_uri": "https://localhost:8080/"
        },
        "id": "xIwCStGq-ir9",
        "outputId": "44a54c30-9dd1-4abf-a4d3-61624def887a"
      },
      "execution_count": null,
      "outputs": [
        {
          "output_type": "execute_result",
          "data": {
            "text/plain": [
              "array([0, 0, 0])"
            ]
          },
          "metadata": {},
          "execution_count": 55
        }
      ]
    },
    {
      "cell_type": "code",
      "source": [
        "# list(range(10))\n",
        "\n",
        "np.arange(10)"
      ],
      "metadata": {
        "colab": {
          "base_uri": "https://localhost:8080/"
        },
        "id": "NZe2kufe-or5",
        "outputId": "eecc9efa-a293-44df-ab42-5239abcfa71f"
      },
      "execution_count": null,
      "outputs": [
        {
          "output_type": "execute_result",
          "data": {
            "text/plain": [
              "array([0, 1, 2, 3, 4, 5, 6, 7, 8, 9])"
            ]
          },
          "metadata": {},
          "execution_count": 58
        }
      ]
    },
    {
      "cell_type": "markdown",
      "source": [
        "## 인덱싱, 슬라이싱"
      ],
      "metadata": {
        "id": "Eu74P0q1_BH7"
      }
    },
    {
      "cell_type": "code",
      "source": [
        "from google.colab import drive\n",
        "drive.mount('/content/drive')"
      ],
      "metadata": {
        "id": "yYPfMRaVr-DI"
      },
      "execution_count": null,
      "outputs": []
    },
    {
      "cell_type": "code",
      "source": [
        "arr= np.array([[1,2,3],[4,5,6]])\n",
        "# print(arr[:-3])\n",
        "# arr[3:-1]\n",
        "arr[1,1] # == arr[1][1]"
      ],
      "metadata": {
        "colab": {
          "base_uri": "https://localhost:8080/"
        },
        "id": "wwxM4yRW_RrS",
        "outputId": "ba42e301-2d8c-46fa-ec55-8b34e7979faf"
      },
      "execution_count": null,
      "outputs": [
        {
          "output_type": "execute_result",
          "data": {
            "text/plain": [
              "5"
            ]
          },
          "metadata": {},
          "execution_count": 69
        }
      ]
    },
    {
      "cell_type": "markdown",
      "source": [
        "## * 불리언 인덱싱 *\n"
      ],
      "metadata": {
        "id": "zRddot-Z_Zw4"
      }
    },
    {
      "cell_type": "code",
      "source": [
        "arr = np.array([1,2,3,4,5])\n",
        "idx = np.array([True,False,True,False,True])\n",
        "print(arr[idx])\n",
        "print(arr[arr>3])"
      ],
      "metadata": {
        "colab": {
          "base_uri": "https://localhost:8080/"
        },
        "id": "SQ5hAHwoA7Ot",
        "outputId": "e38866f6-9dc7-49e9-a739-49b4c2da1c3b"
      },
      "execution_count": null,
      "outputs": [
        {
          "output_type": "stream",
          "name": "stdout",
          "text": [
            "[1 3 5]\n",
            "[4 5]\n"
          ]
        }
      ]
    },
    {
      "cell_type": "markdown",
      "source": [
        "## fancy(팬시) 인덱싱\n"
      ],
      "metadata": {
        "id": "b1T1istKBGJw"
      }
    },
    {
      "cell_type": "code",
      "source": [
        "arr = np.array([1,2,3,4,5])\n",
        "# idx = np.array([1,3])\n",
        "idx = np.array([[1,3],[0,1]])\n",
        "arr[idx]"
      ],
      "metadata": {
        "colab": {
          "base_uri": "https://localhost:8080/"
        },
        "id": "F0O0hZp4BoFx",
        "outputId": "cd450741-c9b6-49a1-82c3-f9acdce08c5f"
      },
      "execution_count": null,
      "outputs": [
        {
          "output_type": "execute_result",
          "data": {
            "text/plain": [
              "array([[2, 4],\n",
              "       [1, 2]])"
            ]
          },
          "metadata": {},
          "execution_count": 78
        }
      ]
    },
    {
      "cell_type": "code",
      "source": [
        "arr = np.array([1,2,3,4,5])\n",
        "arr[0]=-1\n",
        "arr"
      ],
      "metadata": {
        "colab": {
          "base_uri": "https://localhost:8080/"
        },
        "id": "gMvirAZ6BzRJ",
        "outputId": "5e760de0-2ee7-4db4-ef4d-be79e7a810f8"
      },
      "execution_count": null,
      "outputs": [
        {
          "output_type": "execute_result",
          "data": {
            "text/plain": [
              "array([-1,  2,  3,  4,  5])"
            ]
          },
          "metadata": {},
          "execution_count": 79
        }
      ]
    },
    {
      "cell_type": "markdown",
      "source": [
        "## 형태 변환 <배열>"
      ],
      "metadata": {
        "id": "B33DjWyoCWq8"
      }
    },
    {
      "cell_type": "code",
      "source": [
        "arr = np.array([1,2,3,4,5,6])\n",
        "arr.shape"
      ],
      "metadata": {
        "colab": {
          "base_uri": "https://localhost:8080/"
        },
        "id": "G7bokIjJC6CM",
        "outputId": "dc0f3349-4ef4-4c85-f371-08c0b1137c16"
      },
      "execution_count": null,
      "outputs": [
        {
          "output_type": "execute_result",
          "data": {
            "text/plain": [
              "(6,)"
            ]
          },
          "metadata": {},
          "execution_count": 80
        }
      ]
    },
    {
      "cell_type": "markdown",
      "source": [
        "- 배열을 새로운 형태로 변환\n",
        "  ex 1차원 배열을 2차원으로."
      ],
      "metadata": {
        "id": "wIxW7QifA7oV"
      }
    },
    {
      "cell_type": "code",
      "source": [
        "arr1=arr.reshape(2,3)\n",
        "arr1"
      ],
      "metadata": {
        "colab": {
          "base_uri": "https://localhost:8080/"
        },
        "id": "hBNoSytnGcIh",
        "outputId": "ec0fc6c9-35de-42f4-f48a-7dc93ae2a3c2"
      },
      "execution_count": null,
      "outputs": [
        {
          "output_type": "execute_result",
          "data": {
            "text/plain": [
              "array([[1, 2, 3],\n",
              "       [4, 5, 6]])"
            ]
          },
          "metadata": {},
          "execution_count": 83
        }
      ]
    },
    {
      "cell_type": "markdown",
      "source": [
        "- 배열 평탄화 , 배열을 1차원 벡터로"
      ],
      "metadata": {
        "id": "ITPB6JX3BN08"
      }
    },
    {
      "cell_type": "code",
      "source": [
        "arr2 = arr1.reshape(-1) #\n",
        "arr2\n",
        "arr1.flatten() #\n",
        "arr1.ravel()"
      ],
      "metadata": {
        "colab": {
          "base_uri": "https://localhost:8080/"
        },
        "id": "IjSunRZ_Ge9x",
        "outputId": "491a6c0f-5f3c-4f12-b0be-cbe34cc8efac"
      },
      "execution_count": null,
      "outputs": [
        {
          "output_type": "execute_result",
          "data": {
            "text/plain": [
              "array([1, 2, 3, 4, 5, 6])"
            ]
          },
          "metadata": {},
          "execution_count": 88
        }
      ]
    },
    {
      "cell_type": "code",
      "source": [
        "arr3 = arr1.reshape(1,2,3)\n",
        "print(arr3)\n",
        "print(arr1.reshape(1,2,-1))\n",
        "print(arr1.reshape(1,-1,1))"
      ],
      "metadata": {
        "colab": {
          "base_uri": "https://localhost:8080/"
        },
        "id": "rvslYvjzG5os",
        "outputId": "b1f6733d-1ffc-4bfb-cba7-019e373d0781"
      },
      "execution_count": null,
      "outputs": [
        {
          "output_type": "stream",
          "name": "stdout",
          "text": [
            "[[[1 2 3]\n",
            "  [4 5 6]]]\n",
            "[[[1 2 3]\n",
            "  [4 5 6]]]\n",
            "[[[1]\n",
            "  [2]\n",
            "  [3]\n",
            "  [4]\n",
            "  [5]\n",
            "  [6]]]\n"
          ]
        }
      ]
    },
    {
      "cell_type": "code",
      "source": [
        "arr4=arr.reshape(2,3)\n",
        "arr4"
      ],
      "metadata": {
        "id": "bCKfkbrdHaLY",
        "colab": {
          "base_uri": "https://localhost:8080/"
        },
        "outputId": "c05f4920-3673-4228-bca4-f537f80fc1a5"
      },
      "execution_count": null,
      "outputs": [
        {
          "output_type": "execute_result",
          "data": {
            "text/plain": [
              "array([[1, 2, 3],\n",
              "       [4, 5, 6]])"
            ]
          },
          "metadata": {},
          "execution_count": 94
        }
      ]
    },
    {
      "cell_type": "code",
      "source": [
        "# np.sum(arr4)\n",
        "print(np.sum(arr4,axis=0))\n",
        "np.sum(arr4,axis=1)"
      ],
      "metadata": {
        "colab": {
          "base_uri": "https://localhost:8080/"
        },
        "id": "RbdvugfXISz0",
        "outputId": "9f24e01a-96a9-44c9-b274-01196b8696fb"
      },
      "execution_count": null,
      "outputs": [
        {
          "output_type": "stream",
          "name": "stdout",
          "text": [
            "[5 7 9]\n"
          ]
        },
        {
          "output_type": "execute_result",
          "data": {
            "text/plain": [
              "array([ 6, 15])"
            ]
          },
          "metadata": {},
          "execution_count": 101
        }
      ]
    },
    {
      "cell_type": "code",
      "source": [
        "np.mean(arr4,axis=0)"
      ],
      "metadata": {
        "colab": {
          "base_uri": "https://localhost:8080/"
        },
        "id": "Ukb3KJX5IWa6",
        "outputId": "b7116a84-f4f4-46ac-8dcf-4bdcaa46b7de"
      },
      "execution_count": null,
      "outputs": [
        {
          "output_type": "execute_result",
          "data": {
            "text/plain": [
              "array([2.5, 3.5, 4.5])"
            ]
          },
          "metadata": {},
          "execution_count": 102
        }
      ]
    },
    {
      "cell_type": "code",
      "source": [
        "arr = np.array([1,2,3,4,5,6])\n",
        "arr[np.newaxis,:]"
      ],
      "metadata": {
        "colab": {
          "base_uri": "https://localhost:8080/"
        },
        "id": "kq0f_ewEIqoQ",
        "outputId": "7f9012fb-39da-4e10-975e-d8cfc9c2ea6a"
      },
      "execution_count": null,
      "outputs": [
        {
          "output_type": "execute_result",
          "data": {
            "text/plain": [
              "array([[1, 2, 3, 4, 5, 6]])"
            ]
          },
          "metadata": {},
          "execution_count": 108
        }
      ]
    },
    {
      "cell_type": "code",
      "source": [
        "arr[:,np.newaxis]"
      ],
      "metadata": {
        "colab": {
          "base_uri": "https://localhost:8080/"
        },
        "id": "svEcf0WQJCIJ",
        "outputId": "fd1b818c-aa00-4944-d020-3a1ea72340bc"
      },
      "execution_count": null,
      "outputs": [
        {
          "output_type": "execute_result",
          "data": {
            "text/plain": [
              "array([[1],\n",
              "       [2],\n",
              "       [3],\n",
              "       [4],\n",
              "       [5],\n",
              "       [6]])"
            ]
          },
          "metadata": {},
          "execution_count": 110
        }
      ]
    },
    {
      "cell_type": "code",
      "source": [
        "np.savez('my_data.npz',train=arr)"
      ],
      "metadata": {
        "id": "1pqiAFpmJir6"
      },
      "execution_count": null,
      "outputs": []
    },
    {
      "cell_type": "code",
      "source": [
        "data = np.load('my_data.npz')\n",
        "data['train']"
      ],
      "metadata": {
        "colab": {
          "base_uri": "https://localhost:8080/"
        },
        "id": "cv57iceAKTXT",
        "outputId": "2f75e5e3-fbca-48df-8718-a1c44f231994"
      },
      "execution_count": null,
      "outputs": [
        {
          "output_type": "execute_result",
          "data": {
            "text/plain": [
              "array([1, 2, 3, 4, 5, 6])"
            ]
          },
          "metadata": {},
          "execution_count": 112
        }
      ]
    },
    {
      "cell_type": "code",
      "source": [],
      "metadata": {
        "id": "_mCR0L7UKl9i"
      },
      "execution_count": null,
      "outputs": []
    }
  ]
}