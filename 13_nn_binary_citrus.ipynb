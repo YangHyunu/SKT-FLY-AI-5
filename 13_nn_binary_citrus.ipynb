{
  "nbformat": 4,
  "nbformat_minor": 0,
  "metadata": {
    "colab": {
      "provenance": [],
      "mount_file_id": "1Su-NI3wzmftQL5eCY7fjSy6VYPB5af4V",
      "authorship_tag": "ABX9TyNwou5SHxCoUAQPIzBT+ioO",
      "include_colab_link": true
    },
    "kernelspec": {
      "name": "python3",
      "display_name": "Python 3"
    },
    "language_info": {
      "name": "python"
    }
  },
  "cells": [
    {
      "cell_type": "markdown",
      "metadata": {
        "id": "view-in-github",
        "colab_type": "text"
      },
      "source": [
        "<a href=\"https://colab.research.google.com/github/YangHyunu/Signiture/blob/main/13_nn_binary_citrus.ipynb\" target=\"_parent\"><img src=\"https://colab.research.google.com/assets/colab-badge.svg\" alt=\"Open In Colab\"/></a>"
      ]
    },
    {
      "cell_type": "code",
      "source": [
        "!pip install ipython-autotime\n",
        "%load_ext autotime"
      ],
      "metadata": {
        "colab": {
          "base_uri": "https://localhost:8080/"
        },
        "id": "SVl4sr2gpZgF",
        "outputId": "18977545-220c-40e3-b719-68d921ca4e34"
      },
      "execution_count": null,
      "outputs": [
        {
          "output_type": "stream",
          "name": "stdout",
          "text": [
            "Collecting ipython-autotime\n",
            "  Downloading ipython_autotime-0.3.2-py2.py3-none-any.whl (7.0 kB)\n",
            "Requirement already satisfied: ipython in /usr/local/lib/python3.10/dist-packages (from ipython-autotime) (7.34.0)\n",
            "Requirement already satisfied: setuptools>=18.5 in /usr/local/lib/python3.10/dist-packages (from ipython->ipython-autotime) (67.7.2)\n",
            "Collecting jedi>=0.16 (from ipython->ipython-autotime)\n",
            "  Downloading jedi-0.19.1-py2.py3-none-any.whl (1.6 MB)\n",
            "\u001b[2K     \u001b[90m━━━━━━━━━━━━━━━━━━━━━━━━━━━━━━━━━━━━━━━━\u001b[0m \u001b[32m1.6/1.6 MB\u001b[0m \u001b[31m13.6 MB/s\u001b[0m eta \u001b[36m0:00:00\u001b[0m\n",
            "\u001b[?25hRequirement already satisfied: decorator in /usr/local/lib/python3.10/dist-packages (from ipython->ipython-autotime) (4.4.2)\n",
            "Requirement already satisfied: pickleshare in /usr/local/lib/python3.10/dist-packages (from ipython->ipython-autotime) (0.7.5)\n",
            "Requirement already satisfied: traitlets>=4.2 in /usr/local/lib/python3.10/dist-packages (from ipython->ipython-autotime) (5.7.1)\n",
            "Requirement already satisfied: prompt-toolkit!=3.0.0,!=3.0.1,<3.1.0,>=2.0.0 in /usr/local/lib/python3.10/dist-packages (from ipython->ipython-autotime) (3.0.47)\n",
            "Requirement already satisfied: pygments in /usr/local/lib/python3.10/dist-packages (from ipython->ipython-autotime) (2.16.1)\n",
            "Requirement already satisfied: backcall in /usr/local/lib/python3.10/dist-packages (from ipython->ipython-autotime) (0.2.0)\n",
            "Requirement already satisfied: matplotlib-inline in /usr/local/lib/python3.10/dist-packages (from ipython->ipython-autotime) (0.1.7)\n",
            "Requirement already satisfied: pexpect>4.3 in /usr/local/lib/python3.10/dist-packages (from ipython->ipython-autotime) (4.9.0)\n",
            "Requirement already satisfied: parso<0.9.0,>=0.8.3 in /usr/local/lib/python3.10/dist-packages (from jedi>=0.16->ipython->ipython-autotime) (0.8.4)\n",
            "Requirement already satisfied: ptyprocess>=0.5 in /usr/local/lib/python3.10/dist-packages (from pexpect>4.3->ipython->ipython-autotime) (0.7.0)\n",
            "Requirement already satisfied: wcwidth in /usr/local/lib/python3.10/dist-packages (from prompt-toolkit!=3.0.0,!=3.0.1,<3.1.0,>=2.0.0->ipython->ipython-autotime) (0.2.13)\n",
            "Installing collected packages: jedi, ipython-autotime\n",
            "Successfully installed ipython-autotime-0.3.2 jedi-0.19.1\n",
            "time: 449 µs (started: 2024-06-28 07:01:41 +00:00)\n"
          ]
        }
      ]
    },
    {
      "cell_type": "markdown",
      "source": [
        "## NN 이진분류\n",
        "- 오렌지, 그레이프후루츠 이진분류"
      ],
      "metadata": {
        "id": "hy6B1of_dRg-"
      }
    },
    {
      "cell_type": "code",
      "source": [
        "import numpy as np\n",
        "import pandas as pd\n",
        "import matplotlib.pyplot as plt\n",
        "import seaborn as sns\n",
        "import tensorflow as tf\n",
        "import keras\n",
        "SEED = 42"
      ],
      "metadata": {
        "id": "-MRonZVieBZv",
        "colab": {
          "base_uri": "https://localhost:8080/"
        },
        "outputId": "7478abec-22f5-4bfe-f069-a7b03e1b9bb1"
      },
      "execution_count": null,
      "outputs": [
        {
          "output_type": "stream",
          "name": "stdout",
          "text": [
            "time: 7.07 s (started: 2024-06-28 07:01:42 +00:00)\n"
          ]
        }
      ]
    },
    {
      "cell_type": "code",
      "source": [
        "np.random.seed(SEED) # 주피터 랩에서는 랜덤시드가 같은 셀 에서만 고정됨\n",
        "np.random.random() , np.random.random()"
      ],
      "metadata": {
        "colab": {
          "base_uri": "https://localhost:8080/"
        },
        "id": "2VnVE2xBetPi",
        "outputId": "ca360f8b-f664-4228-fe76-8214e70d9f57"
      },
      "execution_count": null,
      "outputs": [
        {
          "output_type": "execute_result",
          "data": {
            "text/plain": [
              "(0.3745401188473625, 0.9507143064099162)"
            ]
          },
          "metadata": {},
          "execution_count": 3
        },
        {
          "output_type": "stream",
          "name": "stdout",
          "text": [
            "time: 7.52 ms (started: 2024-06-28 07:01:49 +00:00)\n"
          ]
        }
      ]
    },
    {
      "cell_type": "code",
      "source": [
        "np.random.random()"
      ],
      "metadata": {
        "colab": {
          "base_uri": "https://localhost:8080/"
        },
        "id": "fKdfXk44fGdm",
        "outputId": "5ca59261-dcdd-4962-d94f-f29eba486dd4"
      },
      "execution_count": null,
      "outputs": [
        {
          "output_type": "execute_result",
          "data": {
            "text/plain": [
              "0.7319939418114051"
            ]
          },
          "metadata": {},
          "execution_count": 4
        },
        {
          "output_type": "stream",
          "name": "stdout",
          "text": [
            "time: 11.3 ms (started: 2024-06-28 07:01:49 +00:00)\n"
          ]
        }
      ]
    },
    {
      "cell_type": "markdown",
      "source": [
        "#데이터 준비\n",
        "- shell command 에서 !wget 으로 파일 다운로드"
      ],
      "metadata": {
        "id": "XPmKhXDrdYVe"
      }
    },
    {
      "cell_type": "code",
      "source": [
        "# !wget https://raw.githubusercontent.com/devdio/flyai_datasets/main/citrus.csv"
      ],
      "metadata": {
        "id": "didyvMFcdcEi",
        "colab": {
          "base_uri": "https://localhost:8080/"
        },
        "outputId": "62924ec3-1db9-4fee-98ba-9a73f72008bc"
      },
      "execution_count": null,
      "outputs": [
        {
          "output_type": "stream",
          "name": "stdout",
          "text": [
            "--2024-06-28 07:01:49--  https://raw.githubusercontent.com/devdio/flyai_datasets/main/citrus.csv\n",
            "Resolving raw.githubusercontent.com (raw.githubusercontent.com)... 185.199.108.133, 185.199.109.133, 185.199.110.133, ...\n",
            "Connecting to raw.githubusercontent.com (raw.githubusercontent.com)|185.199.108.133|:443... connected.\n",
            "HTTP request sent, awaiting response... 200 OK\n",
            "Length: 308294 (301K) [text/plain]\n",
            "Saving to: ‘citrus.csv’\n",
            "\n",
            "citrus.csv          100%[===================>] 301.07K  --.-KB/s    in 0.03s   \n",
            "\n",
            "2024-06-28 07:01:49 (9.94 MB/s) - ‘citrus.csv’ saved [308294/308294]\n",
            "\n",
            "time: 217 ms (started: 2024-06-28 07:01:49 +00:00)\n"
          ]
        }
      ]
    },
    {
      "cell_type": "code",
      "source": [
        "citrus = pd.read_csv('citrus.csv')\n",
        "citrus.shape"
      ],
      "metadata": {
        "colab": {
          "base_uri": "https://localhost:8080/"
        },
        "id": "HOAgOZxmfjH-",
        "outputId": "483b3dc8-73f4-4b49-eff4-91e3764059ea"
      },
      "execution_count": null,
      "outputs": [
        {
          "output_type": "execute_result",
          "data": {
            "text/plain": [
              "(10000, 6)"
            ]
          },
          "metadata": {},
          "execution_count": 6
        },
        {
          "output_type": "stream",
          "name": "stdout",
          "text": [
            "time: 87 ms (started: 2024-06-28 07:01:59 +00:00)\n"
          ]
        }
      ]
    },
    {
      "cell_type": "code",
      "source": [
        "citrus.head(5)"
      ],
      "metadata": {
        "colab": {
          "base_uri": "https://localhost:8080/",
          "height": 223
        },
        "id": "1krJOBG2f0na",
        "outputId": "c9c016bf-c9c2-48de-8f1d-8c42ff8c2bc3"
      },
      "execution_count": null,
      "outputs": [
        {
          "output_type": "execute_result",
          "data": {
            "text/plain": [
              "     name  diameter  weight  red  green  blue\n",
              "0  orange      2.96   86.76  172     85     2\n",
              "1  orange      3.91   88.05  166     78     3\n",
              "2  orange      4.42   95.17  156     81     2\n",
              "3  orange      4.47   95.60  163     81     4\n",
              "4  orange      4.48   95.76  161     72     9"
            ],
            "text/html": [
              "\n",
              "  <div id=\"df-4899ec10-17fe-4147-a958-ef20492e718c\" class=\"colab-df-container\">\n",
              "    <div>\n",
              "<style scoped>\n",
              "    .dataframe tbody tr th:only-of-type {\n",
              "        vertical-align: middle;\n",
              "    }\n",
              "\n",
              "    .dataframe tbody tr th {\n",
              "        vertical-align: top;\n",
              "    }\n",
              "\n",
              "    .dataframe thead th {\n",
              "        text-align: right;\n",
              "    }\n",
              "</style>\n",
              "<table border=\"1\" class=\"dataframe\">\n",
              "  <thead>\n",
              "    <tr style=\"text-align: right;\">\n",
              "      <th></th>\n",
              "      <th>name</th>\n",
              "      <th>diameter</th>\n",
              "      <th>weight</th>\n",
              "      <th>red</th>\n",
              "      <th>green</th>\n",
              "      <th>blue</th>\n",
              "    </tr>\n",
              "  </thead>\n",
              "  <tbody>\n",
              "    <tr>\n",
              "      <th>0</th>\n",
              "      <td>orange</td>\n",
              "      <td>2.96</td>\n",
              "      <td>86.76</td>\n",
              "      <td>172</td>\n",
              "      <td>85</td>\n",
              "      <td>2</td>\n",
              "    </tr>\n",
              "    <tr>\n",
              "      <th>1</th>\n",
              "      <td>orange</td>\n",
              "      <td>3.91</td>\n",
              "      <td>88.05</td>\n",
              "      <td>166</td>\n",
              "      <td>78</td>\n",
              "      <td>3</td>\n",
              "    </tr>\n",
              "    <tr>\n",
              "      <th>2</th>\n",
              "      <td>orange</td>\n",
              "      <td>4.42</td>\n",
              "      <td>95.17</td>\n",
              "      <td>156</td>\n",
              "      <td>81</td>\n",
              "      <td>2</td>\n",
              "    </tr>\n",
              "    <tr>\n",
              "      <th>3</th>\n",
              "      <td>orange</td>\n",
              "      <td>4.47</td>\n",
              "      <td>95.60</td>\n",
              "      <td>163</td>\n",
              "      <td>81</td>\n",
              "      <td>4</td>\n",
              "    </tr>\n",
              "    <tr>\n",
              "      <th>4</th>\n",
              "      <td>orange</td>\n",
              "      <td>4.48</td>\n",
              "      <td>95.76</td>\n",
              "      <td>161</td>\n",
              "      <td>72</td>\n",
              "      <td>9</td>\n",
              "    </tr>\n",
              "  </tbody>\n",
              "</table>\n",
              "</div>\n",
              "    <div class=\"colab-df-buttons\">\n",
              "\n",
              "  <div class=\"colab-df-container\">\n",
              "    <button class=\"colab-df-convert\" onclick=\"convertToInteractive('df-4899ec10-17fe-4147-a958-ef20492e718c')\"\n",
              "            title=\"Convert this dataframe to an interactive table.\"\n",
              "            style=\"display:none;\">\n",
              "\n",
              "  <svg xmlns=\"http://www.w3.org/2000/svg\" height=\"24px\" viewBox=\"0 -960 960 960\">\n",
              "    <path d=\"M120-120v-720h720v720H120Zm60-500h600v-160H180v160Zm220 220h160v-160H400v160Zm0 220h160v-160H400v160ZM180-400h160v-160H180v160Zm440 0h160v-160H620v160ZM180-180h160v-160H180v160Zm440 0h160v-160H620v160Z\"/>\n",
              "  </svg>\n",
              "    </button>\n",
              "\n",
              "  <style>\n",
              "    .colab-df-container {\n",
              "      display:flex;\n",
              "      gap: 12px;\n",
              "    }\n",
              "\n",
              "    .colab-df-convert {\n",
              "      background-color: #E8F0FE;\n",
              "      border: none;\n",
              "      border-radius: 50%;\n",
              "      cursor: pointer;\n",
              "      display: none;\n",
              "      fill: #1967D2;\n",
              "      height: 32px;\n",
              "      padding: 0 0 0 0;\n",
              "      width: 32px;\n",
              "    }\n",
              "\n",
              "    .colab-df-convert:hover {\n",
              "      background-color: #E2EBFA;\n",
              "      box-shadow: 0px 1px 2px rgba(60, 64, 67, 0.3), 0px 1px 3px 1px rgba(60, 64, 67, 0.15);\n",
              "      fill: #174EA6;\n",
              "    }\n",
              "\n",
              "    .colab-df-buttons div {\n",
              "      margin-bottom: 4px;\n",
              "    }\n",
              "\n",
              "    [theme=dark] .colab-df-convert {\n",
              "      background-color: #3B4455;\n",
              "      fill: #D2E3FC;\n",
              "    }\n",
              "\n",
              "    [theme=dark] .colab-df-convert:hover {\n",
              "      background-color: #434B5C;\n",
              "      box-shadow: 0px 1px 3px 1px rgba(0, 0, 0, 0.15);\n",
              "      filter: drop-shadow(0px 1px 2px rgba(0, 0, 0, 0.3));\n",
              "      fill: #FFFFFF;\n",
              "    }\n",
              "  </style>\n",
              "\n",
              "    <script>\n",
              "      const buttonEl =\n",
              "        document.querySelector('#df-4899ec10-17fe-4147-a958-ef20492e718c button.colab-df-convert');\n",
              "      buttonEl.style.display =\n",
              "        google.colab.kernel.accessAllowed ? 'block' : 'none';\n",
              "\n",
              "      async function convertToInteractive(key) {\n",
              "        const element = document.querySelector('#df-4899ec10-17fe-4147-a958-ef20492e718c');\n",
              "        const dataTable =\n",
              "          await google.colab.kernel.invokeFunction('convertToInteractive',\n",
              "                                                    [key], {});\n",
              "        if (!dataTable) return;\n",
              "\n",
              "        const docLinkHtml = 'Like what you see? Visit the ' +\n",
              "          '<a target=\"_blank\" href=https://colab.research.google.com/notebooks/data_table.ipynb>data table notebook</a>'\n",
              "          + ' to learn more about interactive tables.';\n",
              "        element.innerHTML = '';\n",
              "        dataTable['output_type'] = 'display_data';\n",
              "        await google.colab.output.renderOutput(dataTable, element);\n",
              "        const docLink = document.createElement('div');\n",
              "        docLink.innerHTML = docLinkHtml;\n",
              "        element.appendChild(docLink);\n",
              "      }\n",
              "    </script>\n",
              "  </div>\n",
              "\n",
              "\n",
              "<div id=\"df-94b5b78c-a669-48b9-9273-9a2604719a8e\">\n",
              "  <button class=\"colab-df-quickchart\" onclick=\"quickchart('df-94b5b78c-a669-48b9-9273-9a2604719a8e')\"\n",
              "            title=\"Suggest charts\"\n",
              "            style=\"display:none;\">\n",
              "\n",
              "<svg xmlns=\"http://www.w3.org/2000/svg\" height=\"24px\"viewBox=\"0 0 24 24\"\n",
              "     width=\"24px\">\n",
              "    <g>\n",
              "        <path d=\"M19 3H5c-1.1 0-2 .9-2 2v14c0 1.1.9 2 2 2h14c1.1 0 2-.9 2-2V5c0-1.1-.9-2-2-2zM9 17H7v-7h2v7zm4 0h-2V7h2v10zm4 0h-2v-4h2v4z\"/>\n",
              "    </g>\n",
              "</svg>\n",
              "  </button>\n",
              "\n",
              "<style>\n",
              "  .colab-df-quickchart {\n",
              "      --bg-color: #E8F0FE;\n",
              "      --fill-color: #1967D2;\n",
              "      --hover-bg-color: #E2EBFA;\n",
              "      --hover-fill-color: #174EA6;\n",
              "      --disabled-fill-color: #AAA;\n",
              "      --disabled-bg-color: #DDD;\n",
              "  }\n",
              "\n",
              "  [theme=dark] .colab-df-quickchart {\n",
              "      --bg-color: #3B4455;\n",
              "      --fill-color: #D2E3FC;\n",
              "      --hover-bg-color: #434B5C;\n",
              "      --hover-fill-color: #FFFFFF;\n",
              "      --disabled-bg-color: #3B4455;\n",
              "      --disabled-fill-color: #666;\n",
              "  }\n",
              "\n",
              "  .colab-df-quickchart {\n",
              "    background-color: var(--bg-color);\n",
              "    border: none;\n",
              "    border-radius: 50%;\n",
              "    cursor: pointer;\n",
              "    display: none;\n",
              "    fill: var(--fill-color);\n",
              "    height: 32px;\n",
              "    padding: 0;\n",
              "    width: 32px;\n",
              "  }\n",
              "\n",
              "  .colab-df-quickchart:hover {\n",
              "    background-color: var(--hover-bg-color);\n",
              "    box-shadow: 0 1px 2px rgba(60, 64, 67, 0.3), 0 1px 3px 1px rgba(60, 64, 67, 0.15);\n",
              "    fill: var(--button-hover-fill-color);\n",
              "  }\n",
              "\n",
              "  .colab-df-quickchart-complete:disabled,\n",
              "  .colab-df-quickchart-complete:disabled:hover {\n",
              "    background-color: var(--disabled-bg-color);\n",
              "    fill: var(--disabled-fill-color);\n",
              "    box-shadow: none;\n",
              "  }\n",
              "\n",
              "  .colab-df-spinner {\n",
              "    border: 2px solid var(--fill-color);\n",
              "    border-color: transparent;\n",
              "    border-bottom-color: var(--fill-color);\n",
              "    animation:\n",
              "      spin 1s steps(1) infinite;\n",
              "  }\n",
              "\n",
              "  @keyframes spin {\n",
              "    0% {\n",
              "      border-color: transparent;\n",
              "      border-bottom-color: var(--fill-color);\n",
              "      border-left-color: var(--fill-color);\n",
              "    }\n",
              "    20% {\n",
              "      border-color: transparent;\n",
              "      border-left-color: var(--fill-color);\n",
              "      border-top-color: var(--fill-color);\n",
              "    }\n",
              "    30% {\n",
              "      border-color: transparent;\n",
              "      border-left-color: var(--fill-color);\n",
              "      border-top-color: var(--fill-color);\n",
              "      border-right-color: var(--fill-color);\n",
              "    }\n",
              "    40% {\n",
              "      border-color: transparent;\n",
              "      border-right-color: var(--fill-color);\n",
              "      border-top-color: var(--fill-color);\n",
              "    }\n",
              "    60% {\n",
              "      border-color: transparent;\n",
              "      border-right-color: var(--fill-color);\n",
              "    }\n",
              "    80% {\n",
              "      border-color: transparent;\n",
              "      border-right-color: var(--fill-color);\n",
              "      border-bottom-color: var(--fill-color);\n",
              "    }\n",
              "    90% {\n",
              "      border-color: transparent;\n",
              "      border-bottom-color: var(--fill-color);\n",
              "    }\n",
              "  }\n",
              "</style>\n",
              "\n",
              "  <script>\n",
              "    async function quickchart(key) {\n",
              "      const quickchartButtonEl =\n",
              "        document.querySelector('#' + key + ' button');\n",
              "      quickchartButtonEl.disabled = true;  // To prevent multiple clicks.\n",
              "      quickchartButtonEl.classList.add('colab-df-spinner');\n",
              "      try {\n",
              "        const charts = await google.colab.kernel.invokeFunction(\n",
              "            'suggestCharts', [key], {});\n",
              "      } catch (error) {\n",
              "        console.error('Error during call to suggestCharts:', error);\n",
              "      }\n",
              "      quickchartButtonEl.classList.remove('colab-df-spinner');\n",
              "      quickchartButtonEl.classList.add('colab-df-quickchart-complete');\n",
              "    }\n",
              "    (() => {\n",
              "      let quickchartButtonEl =\n",
              "        document.querySelector('#df-94b5b78c-a669-48b9-9273-9a2604719a8e button');\n",
              "      quickchartButtonEl.style.display =\n",
              "        google.colab.kernel.accessAllowed ? 'block' : 'none';\n",
              "    })();\n",
              "  </script>\n",
              "</div>\n",
              "\n",
              "    </div>\n",
              "  </div>\n"
            ],
            "application/vnd.google.colaboratory.intrinsic+json": {
              "type": "dataframe",
              "variable_name": "citrus",
              "summary": "{\n  \"name\": \"citrus\",\n  \"rows\": 10000,\n  \"fields\": [\n    {\n      \"column\": \"name\",\n      \"properties\": {\n        \"dtype\": \"category\",\n        \"num_unique_values\": 2,\n        \"samples\": [\n          \"grapefruit\",\n          \"orange\"\n        ],\n        \"semantic_type\": \"\",\n        \"description\": \"\"\n      }\n    },\n    {\n      \"column\": \"diameter\",\n      \"properties\": {\n        \"dtype\": \"number\",\n        \"std\": 1.9478436590925432,\n        \"min\": 2.96,\n        \"max\": 16.45,\n        \"num_unique_values\": 940,\n        \"samples\": [\n          11.37,\n          5.8\n        ],\n        \"semantic_type\": \"\",\n        \"description\": \"\"\n      }\n    },\n    {\n      \"column\": \"weight\",\n      \"properties\": {\n        \"dtype\": \"number\",\n        \"std\": 29.21211926177066,\n        \"min\": 86.76,\n        \"max\": 261.51,\n        \"num_unique_values\": 6627,\n        \"samples\": [\n          192.1,\n          190.16\n        ],\n        \"semantic_type\": \"\",\n        \"description\": \"\"\n      }\n    },\n    {\n      \"column\": \"red\",\n      \"properties\": {\n        \"dtype\": \"number\",\n        \"std\": 10,\n        \"min\": 115,\n        \"max\": 192,\n        \"num_unique_values\": 75,\n        \"samples\": [\n          161,\n          130\n        ],\n        \"semantic_type\": \"\",\n        \"description\": \"\"\n      }\n    },\n    {\n      \"column\": \"green\",\n      \"properties\": {\n        \"dtype\": \"number\",\n        \"std\": 11,\n        \"min\": 31,\n        \"max\": 116,\n        \"num_unique_values\": 80,\n        \"samples\": [\n          91,\n          85\n        ],\n        \"semantic_type\": \"\",\n        \"description\": \"\"\n      }\n    },\n    {\n      \"column\": \"blue\",\n      \"properties\": {\n        \"dtype\": \"number\",\n        \"std\": 9,\n        \"min\": 2,\n        \"max\": 56,\n        \"num_unique_values\": 48,\n        \"samples\": [\n          26,\n          39\n        ],\n        \"semantic_type\": \"\",\n        \"description\": \"\"\n      }\n    }\n  ]\n}"
            }
          },
          "metadata": {},
          "execution_count": 7
        },
        {
          "output_type": "stream",
          "name": "stdout",
          "text": [
            "time: 218 ms (started: 2024-06-28 07:02:01 +00:00)\n"
          ]
        }
      ]
    },
    {
      "cell_type": "code",
      "source": [
        "citrus.info() # name 이 response variable"
      ],
      "metadata": {
        "colab": {
          "base_uri": "https://localhost:8080/"
        },
        "id": "YB88WYiaf_e1",
        "outputId": "fde05e05-dd7d-4ffd-b37e-e93d9461f4be"
      },
      "execution_count": null,
      "outputs": [
        {
          "output_type": "stream",
          "name": "stdout",
          "text": [
            "<class 'pandas.core.frame.DataFrame'>\n",
            "RangeIndex: 10000 entries, 0 to 9999\n",
            "Data columns (total 6 columns):\n",
            " #   Column    Non-Null Count  Dtype  \n",
            "---  ------    --------------  -----  \n",
            " 0   name      10000 non-null  object \n",
            " 1   diameter  10000 non-null  float64\n",
            " 2   weight    10000 non-null  float64\n",
            " 3   red       10000 non-null  int64  \n",
            " 4   green     10000 non-null  int64  \n",
            " 5   blue      10000 non-null  int64  \n",
            "dtypes: float64(2), int64(3), object(1)\n",
            "memory usage: 468.9+ KB\n",
            "time: 117 ms (started: 2024-06-28 07:02:02 +00:00)\n"
          ]
        }
      ]
    },
    {
      "cell_type": "code",
      "source": [
        "df=citrus.copy()"
      ],
      "metadata": {
        "id": "hIi2mT1dgBCL",
        "colab": {
          "base_uri": "https://localhost:8080/"
        },
        "outputId": "ee391d78-af7c-4034-bad3-c4c877f90a85"
      },
      "execution_count": null,
      "outputs": [
        {
          "output_type": "stream",
          "name": "stdout",
          "text": [
            "time: 2.72 ms (started: 2024-06-28 07:02:03 +00:00)\n"
          ]
        }
      ]
    },
    {
      "cell_type": "code",
      "source": [
        "df.describe()"
      ],
      "metadata": {
        "colab": {
          "base_uri": "https://localhost:8080/",
          "height": 317
        },
        "id": "uMxBpmLLgXaD",
        "outputId": "9c9d30d2-2a0d-45c8-9eb5-693be5345e0f"
      },
      "execution_count": null,
      "outputs": [
        {
          "output_type": "execute_result",
          "data": {
            "text/plain": [
              "           diameter        weight           red         green          blue\n",
              "count  10000.000000  10000.000000  10000.000000  10000.000000  10000.000000\n",
              "mean       9.975685    175.050792    153.847800     76.010600     11.363200\n",
              "std        1.947844     29.212119     10.432954     11.708433      9.061275\n",
              "min        2.960000     86.760000    115.000000     31.000000      2.000000\n",
              "25%        8.460000    152.220000    147.000000     68.000000      2.000000\n",
              "50%        9.980000    174.985000    154.000000     76.000000     10.000000\n",
              "75%       11.480000    197.722500    161.000000     84.000000     17.000000\n",
              "max       16.450000    261.510000    192.000000    116.000000     56.000000"
            ],
            "text/html": [
              "\n",
              "  <div id=\"df-6d8aeef7-5390-4a6f-b1a2-50773afefdfe\" class=\"colab-df-container\">\n",
              "    <div>\n",
              "<style scoped>\n",
              "    .dataframe tbody tr th:only-of-type {\n",
              "        vertical-align: middle;\n",
              "    }\n",
              "\n",
              "    .dataframe tbody tr th {\n",
              "        vertical-align: top;\n",
              "    }\n",
              "\n",
              "    .dataframe thead th {\n",
              "        text-align: right;\n",
              "    }\n",
              "</style>\n",
              "<table border=\"1\" class=\"dataframe\">\n",
              "  <thead>\n",
              "    <tr style=\"text-align: right;\">\n",
              "      <th></th>\n",
              "      <th>diameter</th>\n",
              "      <th>weight</th>\n",
              "      <th>red</th>\n",
              "      <th>green</th>\n",
              "      <th>blue</th>\n",
              "    </tr>\n",
              "  </thead>\n",
              "  <tbody>\n",
              "    <tr>\n",
              "      <th>count</th>\n",
              "      <td>10000.000000</td>\n",
              "      <td>10000.000000</td>\n",
              "      <td>10000.000000</td>\n",
              "      <td>10000.000000</td>\n",
              "      <td>10000.000000</td>\n",
              "    </tr>\n",
              "    <tr>\n",
              "      <th>mean</th>\n",
              "      <td>9.975685</td>\n",
              "      <td>175.050792</td>\n",
              "      <td>153.847800</td>\n",
              "      <td>76.010600</td>\n",
              "      <td>11.363200</td>\n",
              "    </tr>\n",
              "    <tr>\n",
              "      <th>std</th>\n",
              "      <td>1.947844</td>\n",
              "      <td>29.212119</td>\n",
              "      <td>10.432954</td>\n",
              "      <td>11.708433</td>\n",
              "      <td>9.061275</td>\n",
              "    </tr>\n",
              "    <tr>\n",
              "      <th>min</th>\n",
              "      <td>2.960000</td>\n",
              "      <td>86.760000</td>\n",
              "      <td>115.000000</td>\n",
              "      <td>31.000000</td>\n",
              "      <td>2.000000</td>\n",
              "    </tr>\n",
              "    <tr>\n",
              "      <th>25%</th>\n",
              "      <td>8.460000</td>\n",
              "      <td>152.220000</td>\n",
              "      <td>147.000000</td>\n",
              "      <td>68.000000</td>\n",
              "      <td>2.000000</td>\n",
              "    </tr>\n",
              "    <tr>\n",
              "      <th>50%</th>\n",
              "      <td>9.980000</td>\n",
              "      <td>174.985000</td>\n",
              "      <td>154.000000</td>\n",
              "      <td>76.000000</td>\n",
              "      <td>10.000000</td>\n",
              "    </tr>\n",
              "    <tr>\n",
              "      <th>75%</th>\n",
              "      <td>11.480000</td>\n",
              "      <td>197.722500</td>\n",
              "      <td>161.000000</td>\n",
              "      <td>84.000000</td>\n",
              "      <td>17.000000</td>\n",
              "    </tr>\n",
              "    <tr>\n",
              "      <th>max</th>\n",
              "      <td>16.450000</td>\n",
              "      <td>261.510000</td>\n",
              "      <td>192.000000</td>\n",
              "      <td>116.000000</td>\n",
              "      <td>56.000000</td>\n",
              "    </tr>\n",
              "  </tbody>\n",
              "</table>\n",
              "</div>\n",
              "    <div class=\"colab-df-buttons\">\n",
              "\n",
              "  <div class=\"colab-df-container\">\n",
              "    <button class=\"colab-df-convert\" onclick=\"convertToInteractive('df-6d8aeef7-5390-4a6f-b1a2-50773afefdfe')\"\n",
              "            title=\"Convert this dataframe to an interactive table.\"\n",
              "            style=\"display:none;\">\n",
              "\n",
              "  <svg xmlns=\"http://www.w3.org/2000/svg\" height=\"24px\" viewBox=\"0 -960 960 960\">\n",
              "    <path d=\"M120-120v-720h720v720H120Zm60-500h600v-160H180v160Zm220 220h160v-160H400v160Zm0 220h160v-160H400v160ZM180-400h160v-160H180v160Zm440 0h160v-160H620v160ZM180-180h160v-160H180v160Zm440 0h160v-160H620v160Z\"/>\n",
              "  </svg>\n",
              "    </button>\n",
              "\n",
              "  <style>\n",
              "    .colab-df-container {\n",
              "      display:flex;\n",
              "      gap: 12px;\n",
              "    }\n",
              "\n",
              "    .colab-df-convert {\n",
              "      background-color: #E8F0FE;\n",
              "      border: none;\n",
              "      border-radius: 50%;\n",
              "      cursor: pointer;\n",
              "      display: none;\n",
              "      fill: #1967D2;\n",
              "      height: 32px;\n",
              "      padding: 0 0 0 0;\n",
              "      width: 32px;\n",
              "    }\n",
              "\n",
              "    .colab-df-convert:hover {\n",
              "      background-color: #E2EBFA;\n",
              "      box-shadow: 0px 1px 2px rgba(60, 64, 67, 0.3), 0px 1px 3px 1px rgba(60, 64, 67, 0.15);\n",
              "      fill: #174EA6;\n",
              "    }\n",
              "\n",
              "    .colab-df-buttons div {\n",
              "      margin-bottom: 4px;\n",
              "    }\n",
              "\n",
              "    [theme=dark] .colab-df-convert {\n",
              "      background-color: #3B4455;\n",
              "      fill: #D2E3FC;\n",
              "    }\n",
              "\n",
              "    [theme=dark] .colab-df-convert:hover {\n",
              "      background-color: #434B5C;\n",
              "      box-shadow: 0px 1px 3px 1px rgba(0, 0, 0, 0.15);\n",
              "      filter: drop-shadow(0px 1px 2px rgba(0, 0, 0, 0.3));\n",
              "      fill: #FFFFFF;\n",
              "    }\n",
              "  </style>\n",
              "\n",
              "    <script>\n",
              "      const buttonEl =\n",
              "        document.querySelector('#df-6d8aeef7-5390-4a6f-b1a2-50773afefdfe button.colab-df-convert');\n",
              "      buttonEl.style.display =\n",
              "        google.colab.kernel.accessAllowed ? 'block' : 'none';\n",
              "\n",
              "      async function convertToInteractive(key) {\n",
              "        const element = document.querySelector('#df-6d8aeef7-5390-4a6f-b1a2-50773afefdfe');\n",
              "        const dataTable =\n",
              "          await google.colab.kernel.invokeFunction('convertToInteractive',\n",
              "                                                    [key], {});\n",
              "        if (!dataTable) return;\n",
              "\n",
              "        const docLinkHtml = 'Like what you see? Visit the ' +\n",
              "          '<a target=\"_blank\" href=https://colab.research.google.com/notebooks/data_table.ipynb>data table notebook</a>'\n",
              "          + ' to learn more about interactive tables.';\n",
              "        element.innerHTML = '';\n",
              "        dataTable['output_type'] = 'display_data';\n",
              "        await google.colab.output.renderOutput(dataTable, element);\n",
              "        const docLink = document.createElement('div');\n",
              "        docLink.innerHTML = docLinkHtml;\n",
              "        element.appendChild(docLink);\n",
              "      }\n",
              "    </script>\n",
              "  </div>\n",
              "\n",
              "\n",
              "<div id=\"df-1883c4f7-94ac-4187-8883-fb34d73d5f0f\">\n",
              "  <button class=\"colab-df-quickchart\" onclick=\"quickchart('df-1883c4f7-94ac-4187-8883-fb34d73d5f0f')\"\n",
              "            title=\"Suggest charts\"\n",
              "            style=\"display:none;\">\n",
              "\n",
              "<svg xmlns=\"http://www.w3.org/2000/svg\" height=\"24px\"viewBox=\"0 0 24 24\"\n",
              "     width=\"24px\">\n",
              "    <g>\n",
              "        <path d=\"M19 3H5c-1.1 0-2 .9-2 2v14c0 1.1.9 2 2 2h14c1.1 0 2-.9 2-2V5c0-1.1-.9-2-2-2zM9 17H7v-7h2v7zm4 0h-2V7h2v10zm4 0h-2v-4h2v4z\"/>\n",
              "    </g>\n",
              "</svg>\n",
              "  </button>\n",
              "\n",
              "<style>\n",
              "  .colab-df-quickchart {\n",
              "      --bg-color: #E8F0FE;\n",
              "      --fill-color: #1967D2;\n",
              "      --hover-bg-color: #E2EBFA;\n",
              "      --hover-fill-color: #174EA6;\n",
              "      --disabled-fill-color: #AAA;\n",
              "      --disabled-bg-color: #DDD;\n",
              "  }\n",
              "\n",
              "  [theme=dark] .colab-df-quickchart {\n",
              "      --bg-color: #3B4455;\n",
              "      --fill-color: #D2E3FC;\n",
              "      --hover-bg-color: #434B5C;\n",
              "      --hover-fill-color: #FFFFFF;\n",
              "      --disabled-bg-color: #3B4455;\n",
              "      --disabled-fill-color: #666;\n",
              "  }\n",
              "\n",
              "  .colab-df-quickchart {\n",
              "    background-color: var(--bg-color);\n",
              "    border: none;\n",
              "    border-radius: 50%;\n",
              "    cursor: pointer;\n",
              "    display: none;\n",
              "    fill: var(--fill-color);\n",
              "    height: 32px;\n",
              "    padding: 0;\n",
              "    width: 32px;\n",
              "  }\n",
              "\n",
              "  .colab-df-quickchart:hover {\n",
              "    background-color: var(--hover-bg-color);\n",
              "    box-shadow: 0 1px 2px rgba(60, 64, 67, 0.3), 0 1px 3px 1px rgba(60, 64, 67, 0.15);\n",
              "    fill: var(--button-hover-fill-color);\n",
              "  }\n",
              "\n",
              "  .colab-df-quickchart-complete:disabled,\n",
              "  .colab-df-quickchart-complete:disabled:hover {\n",
              "    background-color: var(--disabled-bg-color);\n",
              "    fill: var(--disabled-fill-color);\n",
              "    box-shadow: none;\n",
              "  }\n",
              "\n",
              "  .colab-df-spinner {\n",
              "    border: 2px solid var(--fill-color);\n",
              "    border-color: transparent;\n",
              "    border-bottom-color: var(--fill-color);\n",
              "    animation:\n",
              "      spin 1s steps(1) infinite;\n",
              "  }\n",
              "\n",
              "  @keyframes spin {\n",
              "    0% {\n",
              "      border-color: transparent;\n",
              "      border-bottom-color: var(--fill-color);\n",
              "      border-left-color: var(--fill-color);\n",
              "    }\n",
              "    20% {\n",
              "      border-color: transparent;\n",
              "      border-left-color: var(--fill-color);\n",
              "      border-top-color: var(--fill-color);\n",
              "    }\n",
              "    30% {\n",
              "      border-color: transparent;\n",
              "      border-left-color: var(--fill-color);\n",
              "      border-top-color: var(--fill-color);\n",
              "      border-right-color: var(--fill-color);\n",
              "    }\n",
              "    40% {\n",
              "      border-color: transparent;\n",
              "      border-right-color: var(--fill-color);\n",
              "      border-top-color: var(--fill-color);\n",
              "    }\n",
              "    60% {\n",
              "      border-color: transparent;\n",
              "      border-right-color: var(--fill-color);\n",
              "    }\n",
              "    80% {\n",
              "      border-color: transparent;\n",
              "      border-right-color: var(--fill-color);\n",
              "      border-bottom-color: var(--fill-color);\n",
              "    }\n",
              "    90% {\n",
              "      border-color: transparent;\n",
              "      border-bottom-color: var(--fill-color);\n",
              "    }\n",
              "  }\n",
              "</style>\n",
              "\n",
              "  <script>\n",
              "    async function quickchart(key) {\n",
              "      const quickchartButtonEl =\n",
              "        document.querySelector('#' + key + ' button');\n",
              "      quickchartButtonEl.disabled = true;  // To prevent multiple clicks.\n",
              "      quickchartButtonEl.classList.add('colab-df-spinner');\n",
              "      try {\n",
              "        const charts = await google.colab.kernel.invokeFunction(\n",
              "            'suggestCharts', [key], {});\n",
              "      } catch (error) {\n",
              "        console.error('Error during call to suggestCharts:', error);\n",
              "      }\n",
              "      quickchartButtonEl.classList.remove('colab-df-spinner');\n",
              "      quickchartButtonEl.classList.add('colab-df-quickchart-complete');\n",
              "    }\n",
              "    (() => {\n",
              "      let quickchartButtonEl =\n",
              "        document.querySelector('#df-1883c4f7-94ac-4187-8883-fb34d73d5f0f button');\n",
              "      quickchartButtonEl.style.display =\n",
              "        google.colab.kernel.accessAllowed ? 'block' : 'none';\n",
              "    })();\n",
              "  </script>\n",
              "</div>\n",
              "\n",
              "    </div>\n",
              "  </div>\n"
            ],
            "application/vnd.google.colaboratory.intrinsic+json": {
              "type": "dataframe",
              "summary": "{\n  \"name\": \"df\",\n  \"rows\": 8,\n  \"fields\": [\n    {\n      \"column\": \"diameter\",\n      \"properties\": {\n        \"dtype\": \"number\",\n        \"std\": 3532.4431612835365,\n        \"min\": 1.9478436590925432,\n        \"max\": 10000.0,\n        \"num_unique_values\": 8,\n        \"samples\": [\n          9.975685,\n          9.98,\n          10000.0\n        ],\n        \"semantic_type\": \"\",\n        \"description\": \"\"\n      }\n    },\n    {\n      \"column\": \"weight\",\n      \"properties\": {\n        \"dtype\": \"number\",\n        \"std\": 3481.8207393267035,\n        \"min\": 29.21211926177066,\n        \"max\": 10000.0,\n        \"num_unique_values\": 8,\n        \"samples\": [\n          175.050792,\n          174.985,\n          10000.0\n        ],\n        \"semantic_type\": \"\",\n        \"description\": \"\"\n      }\n    },\n    {\n      \"column\": \"red\",\n      \"properties\": {\n        \"dtype\": \"number\",\n        \"std\": 3488.8195811270084,\n        \"min\": 10.43295355170247,\n        \"max\": 10000.0,\n        \"num_unique_values\": 8,\n        \"samples\": [\n          153.8478,\n          154.0,\n          10000.0\n        ],\n        \"semantic_type\": \"\",\n        \"description\": \"\"\n      }\n    },\n    {\n      \"column\": \"green\",\n      \"properties\": {\n        \"dtype\": \"number\",\n        \"std\": 3512.3095068639036,\n        \"min\": 11.70843270380959,\n        \"max\": 10000.0,\n        \"num_unique_values\": 8,\n        \"samples\": [\n          76.0106,\n          76.0,\n          10000.0\n        ],\n        \"semantic_type\": \"\",\n        \"description\": \"\"\n      }\n    },\n    {\n      \"column\": \"blue\",\n      \"properties\": {\n        \"dtype\": \"number\",\n        \"std\": 3530.150554062305,\n        \"min\": 2.0,\n        \"max\": 10000.0,\n        \"num_unique_values\": 7,\n        \"samples\": [\n          10000.0,\n          11.3632,\n          17.0\n        ],\n        \"semantic_type\": \"\",\n        \"description\": \"\"\n      }\n    }\n  ]\n}"
            }
          },
          "metadata": {},
          "execution_count": 10
        },
        {
          "output_type": "stream",
          "name": "stdout",
          "text": [
            "time: 173 ms (started: 2024-06-28 07:02:04 +00:00)\n"
          ]
        }
      ]
    },
    {
      "cell_type": "markdown",
      "source": [
        "## 범주형 변수"
      ],
      "metadata": {
        "id": "sjkOOZFYhRP7"
      }
    },
    {
      "cell_type": "code",
      "source": [
        "df['name'].unique()"
      ],
      "metadata": {
        "colab": {
          "base_uri": "https://localhost:8080/"
        },
        "id": "CShqnp-ehkvk",
        "outputId": "2235e94b-3738-483a-c71c-0d4e02ee95bb"
      },
      "execution_count": null,
      "outputs": [
        {
          "output_type": "execute_result",
          "data": {
            "text/plain": [
              "array(['orange', 'grapefruit'], dtype=object)"
            ]
          },
          "metadata": {},
          "execution_count": 11
        },
        {
          "output_type": "stream",
          "name": "stdout",
          "text": [
            "time: 14.8 ms (started: 2024-06-28 07:02:08 +00:00)\n"
          ]
        }
      ]
    },
    {
      "cell_type": "code",
      "source": [
        "df['name'].value_counts()"
      ],
      "metadata": {
        "colab": {
          "base_uri": "https://localhost:8080/"
        },
        "id": "W9ZT_Gxzhv_I",
        "outputId": "b47440eb-99b3-429e-f183-dfae6e165264"
      },
      "execution_count": null,
      "outputs": [
        {
          "output_type": "execute_result",
          "data": {
            "text/plain": [
              "name\n",
              "orange        5000\n",
              "grapefruit    5000\n",
              "Name: count, dtype: int64"
            ]
          },
          "metadata": {},
          "execution_count": 12
        },
        {
          "output_type": "stream",
          "name": "stdout",
          "text": [
            "time: 8.11 ms (started: 2024-06-28 07:02:08 +00:00)\n"
          ]
        }
      ]
    },
    {
      "cell_type": "code",
      "source": [
        "df['name'].value_counts().plot(kind='bar',figsize=(5,5))"
      ],
      "metadata": {
        "colab": {
          "base_uri": "https://localhost:8080/",
          "height": 555
        },
        "id": "xxckLdWliB7m",
        "outputId": "c96feec4-c105-413d-f6f3-30f6e0aa5b92"
      },
      "execution_count": null,
      "outputs": [
        {
          "output_type": "execute_result",
          "data": {
            "text/plain": [
              "<Axes: xlabel='name'>"
            ]
          },
          "metadata": {},
          "execution_count": 13
        },
        {
          "output_type": "display_data",
          "data": {
            "text/plain": [
              "<Figure size 500x500 with 1 Axes>"
            ],
            "image/png": "[encoded data removed]"
          },
          "metadata": {}
        },
        {
          "output_type": "stream",
          "name": "stdout",
          "text": [
            "time: 748 ms (started: 2024-06-28 07:02:08 +00:00)\n"
          ]
        }
      ]
    },
    {
      "cell_type": "markdown",
      "source": [
        "## 연속형 변수"
      ],
      "metadata": {
        "id": "Lwy23vsiiO31"
      }
    },
    {
      "cell_type": "code",
      "source": [
        "df_orange = df[df['name']=='orange']\n",
        "plt.hist(df_orange['red'],bins=10,color='r')\n",
        "plt.hist(df_orange['green'],bins=10,color='g')\n",
        "plt.hist(df_orange['blue'],bins=10,color='b')\n",
        "plt.show()"
      ],
      "metadata": {
        "colab": {
          "base_uri": "https://localhost:8080/",
          "height": 447
        },
        "id": "n9Ceq9AKitE6",
        "outputId": "efb1e1a5-60d8-4655-fe43-b1f46cc52ab3"
      },
      "execution_count": null,
      "outputs": [
        {
          "output_type": "display_data",
          "data": {
            "text/plain": [
              "<Figure size 640x480 with 1 Axes>"
            ],
            "image/png": "[encoded data removed]"
          },
          "metadata": {}
        },
        {
          "output_type": "stream",
          "name": "stdout",
          "text": [
            "time: 2.77 s (started: 2024-06-28 07:02:11 +00:00)\n"
          ]
        }
      ]
    },
    {
      "cell_type": "code",
      "source": [
        "df_orange = df[df['name']=='orange']\n",
        "df_graphe= df[df['name']=='grapefruit']\n",
        "plt.hist(df_orange['weight'],bins=50,color='r')\n",
        "plt.hist(df_graphe['weight'],bins=50,color='g')\n",
        "plt.show()"
      ],
      "metadata": {
        "colab": {
          "base_uri": "https://localhost:8080/",
          "height": 447
        },
        "id": "MrD2xSJci0Ap",
        "outputId": "6db1ad5e-6baf-4d8a-add2-f5ba7569cc41"
      },
      "execution_count": null,
      "outputs": [
        {
          "output_type": "display_data",
          "data": {
            "text/plain": [
              "<Figure size 640x480 with 1 Axes>"
            ],
            "image/png": "[encoded data removed]"
          },
          "metadata": {}
        },
        {
          "output_type": "stream",
          "name": "stdout",
          "text": [
            "time: 2.06 s (started: 2024-06-28 07:02:19 +00:00)\n"
          ]
        }
      ]
    },
    {
      "cell_type": "code",
      "source": [
        "df.columns"
      ],
      "metadata": {
        "colab": {
          "base_uri": "https://localhost:8080/"
        },
        "id": "LpYuINyYkjra",
        "outputId": "541b1534-1cb3-4fa1-8621-3d21badd3c91"
      },
      "execution_count": null,
      "outputs": [
        {
          "output_type": "execute_result",
          "data": {
            "text/plain": [
              "Index(['name', 'diameter', 'weight', 'red', 'green', 'blue'], dtype='object')"
            ]
          },
          "metadata": {},
          "execution_count": 16
        },
        {
          "output_type": "stream",
          "name": "stdout",
          "text": [
            "time: 28.2 ms (started: 2024-06-28 07:02:21 +00:00)\n"
          ]
        }
      ]
    },
    {
      "cell_type": "code",
      "source": [
        "plt.boxplot(df[['diameter', 'weight', 'red', 'green', 'blue']])\n",
        "plt.show()"
      ],
      "metadata": {
        "colab": {
          "base_uri": "https://localhost:8080/",
          "height": 447
        },
        "id": "dXX7TXvDkksv",
        "outputId": "d98f8609-e141-4e72-db6e-521ce4e7fe08"
      },
      "execution_count": null,
      "outputs": [
        {
          "output_type": "display_data",
          "data": {
            "text/plain": [
              "<Figure size 640x480 with 1 Axes>"
            ],
            "image/png": "[encoded data removed]"
          },
          "metadata": {}
        },
        {
          "output_type": "stream",
          "name": "stdout",
          "text": [
            "time: 617 ms (started: 2024-06-28 07:02:21 +00:00)\n"
          ]
        }
      ]
    },
    {
      "cell_type": "markdown",
      "source": [
        "## 결측치(Missing Value)"
      ],
      "metadata": {
        "id": "Oa6ow7ZRktLr"
      }
    },
    {
      "cell_type": "code",
      "source": [
        "df.info()"
      ],
      "metadata": {
        "colab": {
          "base_uri": "https://localhost:8080/"
        },
        "id": "ys6b4vlalWsu",
        "outputId": "e6ea8589-b474-4bd0-dbd8-b639c56f005a"
      },
      "execution_count": null,
      "outputs": [
        {
          "output_type": "stream",
          "name": "stdout",
          "text": [
            "<class 'pandas.core.frame.DataFrame'>\n",
            "RangeIndex: 10000 entries, 0 to 9999\n",
            "Data columns (total 6 columns):\n",
            " #   Column    Non-Null Count  Dtype  \n",
            "---  ------    --------------  -----  \n",
            " 0   name      10000 non-null  object \n",
            " 1   diameter  10000 non-null  float64\n",
            " 2   weight    10000 non-null  float64\n",
            " 3   red       10000 non-null  int64  \n",
            " 4   green     10000 non-null  int64  \n",
            " 5   blue      10000 non-null  int64  \n",
            "dtypes: float64(2), int64(3), object(1)\n",
            "memory usage: 468.9+ KB\n"
          ]
        }
      ]
    },
    {
      "cell_type": "code",
      "source": [
        "df.isna().sum(axis=0) # Default: axis=0"
      ],
      "metadata": {
        "colab": {
          "base_uri": "https://localhost:8080/"
        },
        "id": "xlcgWTWmlXw5",
        "outputId": "671be045-28b3-4b56-8952-42220b6f1b4f"
      },
      "execution_count": null,
      "outputs": [
        {
          "output_type": "execute_result",
          "data": {
            "text/plain": [
              "name        0\n",
              "diameter    0\n",
              "weight      0\n",
              "red         0\n",
              "green       0\n",
              "blue        0\n",
              "dtype: int64"
            ]
          },
          "metadata": {},
          "execution_count": 278
        }
      ]
    },
    {
      "cell_type": "markdown",
      "source": [
        "## 중복값"
      ],
      "metadata": {
        "id": "2G16T4KZl2bY"
      }
    },
    {
      "cell_type": "code",
      "source": [
        "df.duplicated().sum()"
      ],
      "metadata": {
        "colab": {
          "base_uri": "https://localhost:8080/"
        },
        "id": "vGBu7KedlaOA",
        "outputId": "f15b9737-35f2-4c1b-ae50-41f42235c46a"
      },
      "execution_count": null,
      "outputs": [
        {
          "output_type": "execute_result",
          "data": {
            "text/plain": [
              "0"
            ]
          },
          "metadata": {},
          "execution_count": 279
        }
      ]
    },
    {
      "cell_type": "markdown",
      "source": [
        "## 2. 데이터 스플릿"
      ],
      "metadata": {
        "id": "lo-lbM3slpzt"
      }
    },
    {
      "cell_type": "code",
      "source": [
        "df = df.sample(frac=1,random_state=SEED) # 데이터가 0~4999까지 오렌지 나머지 포도라 데이터를 섞을 필요가 있다."
      ],
      "metadata": {
        "id": "diWrcl2fmHzW"
      },
      "execution_count": null,
      "outputs": []
    },
    {
      "cell_type": "code",
      "source": [
        "df.head()"
      ],
      "metadata": {
        "colab": {
          "base_uri": "https://localhost:8080/",
          "height": 206
        },
        "id": "GjqaVEuSmf16",
        "outputId": "014c60c0-cbc5-4f81-8fd5-b333e06da813"
      },
      "execution_count": null,
      "outputs": [
        {
          "output_type": "execute_result",
          "data": {
            "text/plain": [
              "            name  diameter  weight  red  green  blue\n",
              "6252  grapefruit     10.66  184.37  166     60    18\n",
              "4684      orange     10.40  181.34  166    109    13\n",
              "1731      orange      7.99  145.45  150     72     2\n",
              "4742      orange     10.55  182.99  151     84     2\n",
              "4521      orange     10.10  177.31  160     72     2"
            ],
            "text/html": [
              "\n",
              "  <div id=\"df-b9024bbc-3ca5-4d6c-b5d3-a4325935a329\" class=\"colab-df-container\">\n",
              "    <div>\n",
              "<style scoped>\n",
              "    .dataframe tbody tr th:only-of-type {\n",
              "        vertical-align: middle;\n",
              "    }\n",
              "\n",
              "    .dataframe tbody tr th {\n",
              "        vertical-align: top;\n",
              "    }\n",
              "\n",
              "    .dataframe thead th {\n",
              "        text-align: right;\n",
              "    }\n",
              "</style>\n",
              "<table border=\"1\" class=\"dataframe\">\n",
              "  <thead>\n",
              "    <tr style=\"text-align: right;\">\n",
              "      <th></th>\n",
              "      <th>name</th>\n",
              "      <th>diameter</th>\n",
              "      <th>weight</th>\n",
              "      <th>red</th>\n",
              "      <th>green</th>\n",
              "      <th>blue</th>\n",
              "    </tr>\n",
              "  </thead>\n",
              "  <tbody>\n",
              "    <tr>\n",
              "      <th>6252</th>\n",
              "      <td>grapefruit</td>\n",
              "      <td>10.66</td>\n",
              "      <td>184.37</td>\n",
              "      <td>166</td>\n",
              "      <td>60</td>\n",
              "      <td>18</td>\n",
              "    </tr>\n",
              "    <tr>\n",
              "      <th>4684</th>\n",
              "      <td>orange</td>\n",
              "      <td>10.40</td>\n",
              "      <td>181.34</td>\n",
              "      <td>166</td>\n",
              "      <td>109</td>\n",
              "      <td>13</td>\n",
              "    </tr>\n",
              "    <tr>\n",
              "      <th>1731</th>\n",
              "      <td>orange</td>\n",
              "      <td>7.99</td>\n",
              "      <td>145.45</td>\n",
              "      <td>150</td>\n",
              "      <td>72</td>\n",
              "      <td>2</td>\n",
              "    </tr>\n",
              "    <tr>\n",
              "      <th>4742</th>\n",
              "      <td>orange</td>\n",
              "      <td>10.55</td>\n",
              "      <td>182.99</td>\n",
              "      <td>151</td>\n",
              "      <td>84</td>\n",
              "      <td>2</td>\n",
              "    </tr>\n",
              "    <tr>\n",
              "      <th>4521</th>\n",
              "      <td>orange</td>\n",
              "      <td>10.10</td>\n",
              "      <td>177.31</td>\n",
              "      <td>160</td>\n",
              "      <td>72</td>\n",
              "      <td>2</td>\n",
              "    </tr>\n",
              "  </tbody>\n",
              "</table>\n",
              "</div>\n",
              "    <div class=\"colab-df-buttons\">\n",
              "\n",
              "  <div class=\"colab-df-container\">\n",
              "    <button class=\"colab-df-convert\" onclick=\"convertToInteractive('df-b9024bbc-3ca5-4d6c-b5d3-a4325935a329')\"\n",
              "            title=\"Convert this dataframe to an interactive table.\"\n",
              "            style=\"display:none;\">\n",
              "\n",
              "  <svg xmlns=\"http://www.w3.org/2000/svg\" height=\"24px\" viewBox=\"0 -960 960 960\">\n",
              "    <path d=\"M120-120v-720h720v720H120Zm60-500h600v-160H180v160Zm220 220h160v-160H400v160Zm0 220h160v-160H400v160ZM180-400h160v-160H180v160Zm440 0h160v-160H620v160ZM180-180h160v-160H180v160Zm440 0h160v-160H620v160Z\"/>\n",
              "  </svg>\n",
              "    </button>\n",
              "\n",
              "  <style>\n",
              "    .colab-df-container {\n",
              "      display:flex;\n",
              "      gap: 12px;\n",
              "    }\n",
              "\n",
              "    .colab-df-convert {\n",
              "      background-color: #E8F0FE;\n",
              "      border: none;\n",
              "      border-radius: 50%;\n",
              "      cursor: pointer;\n",
              "      display: none;\n",
              "      fill: #1967D2;\n",
              "      height: 32px;\n",
              "      padding: 0 0 0 0;\n",
              "      width: 32px;\n",
              "    }\n",
              "\n",
              "    .colab-df-convert:hover {\n",
              "      background-color: #E2EBFA;\n",
              "      box-shadow: 0px 1px 2px rgba(60, 64, 67, 0.3), 0px 1px 3px 1px rgba(60, 64, 67, 0.15);\n",
              "      fill: #174EA6;\n",
              "    }\n",
              "\n",
              "    .colab-df-buttons div {\n",
              "      margin-bottom: 4px;\n",
              "    }\n",
              "\n",
              "    [theme=dark] .colab-df-convert {\n",
              "      background-color: #3B4455;\n",
              "      fill: #D2E3FC;\n",
              "    }\n",
              "\n",
              "    [theme=dark] .colab-df-convert:hover {\n",
              "      background-color: #434B5C;\n",
              "      box-shadow: 0px 1px 3px 1px rgba(0, 0, 0, 0.15);\n",
              "      filter: drop-shadow(0px 1px 2px rgba(0, 0, 0, 0.3));\n",
              "      fill: #FFFFFF;\n",
              "    }\n",
              "  </style>\n",
              "\n",
              "    <script>\n",
              "      const buttonEl =\n",
              "        document.querySelector('#df-b9024bbc-3ca5-4d6c-b5d3-a4325935a329 button.colab-df-convert');\n",
              "      buttonEl.style.display =\n",
              "        google.colab.kernel.accessAllowed ? 'block' : 'none';\n",
              "\n",
              "      async function convertToInteractive(key) {\n",
              "        const element = document.querySelector('#df-b9024bbc-3ca5-4d6c-b5d3-a4325935a329');\n",
              "        const dataTable =\n",
              "          await google.colab.kernel.invokeFunction('convertToInteractive',\n",
              "                                                    [key], {});\n",
              "        if (!dataTable) return;\n",
              "\n",
              "        const docLinkHtml = 'Like what you see? Visit the ' +\n",
              "          '<a target=\"_blank\" href=https://colab.research.google.com/notebooks/data_table.ipynb>data table notebook</a>'\n",
              "          + ' to learn more about interactive tables.';\n",
              "        element.innerHTML = '';\n",
              "        dataTable['output_type'] = 'display_data';\n",
              "        await google.colab.output.renderOutput(dataTable, element);\n",
              "        const docLink = document.createElement('div');\n",
              "        docLink.innerHTML = docLinkHtml;\n",
              "        element.appendChild(docLink);\n",
              "      }\n",
              "    </script>\n",
              "  </div>\n",
              "\n",
              "\n",
              "<div id=\"df-7a85a165-855b-4062-879f-0e683b26cb14\">\n",
              "  <button class=\"colab-df-quickchart\" onclick=\"quickchart('df-7a85a165-855b-4062-879f-0e683b26cb14')\"\n",
              "            title=\"Suggest charts\"\n",
              "            style=\"display:none;\">\n",
              "\n",
              "<svg xmlns=\"http://www.w3.org/2000/svg\" height=\"24px\"viewBox=\"0 0 24 24\"\n",
              "     width=\"24px\">\n",
              "    <g>\n",
              "        <path d=\"M19 3H5c-1.1 0-2 .9-2 2v14c0 1.1.9 2 2 2h14c1.1 0 2-.9 2-2V5c0-1.1-.9-2-2-2zM9 17H7v-7h2v7zm4 0h-2V7h2v10zm4 0h-2v-4h2v4z\"/>\n",
              "    </g>\n",
              "</svg>\n",
              "  </button>\n",
              "\n",
              "<style>\n",
              "  .colab-df-quickchart {\n",
              "      --bg-color: #E8F0FE;\n",
              "      --fill-color: #1967D2;\n",
              "      --hover-bg-color: #E2EBFA;\n",
              "      --hover-fill-color: #174EA6;\n",
              "      --disabled-fill-color: #AAA;\n",
              "      --disabled-bg-color: #DDD;\n",
              "  }\n",
              "\n",
              "  [theme=dark] .colab-df-quickchart {\n",
              "      --bg-color: #3B4455;\n",
              "      --fill-color: #D2E3FC;\n",
              "      --hover-bg-color: #434B5C;\n",
              "      --hover-fill-color: #FFFFFF;\n",
              "      --disabled-bg-color: #3B4455;\n",
              "      --disabled-fill-color: #666;\n",
              "  }\n",
              "\n",
              "  .colab-df-quickchart {\n",
              "    background-color: var(--bg-color);\n",
              "    border: none;\n",
              "    border-radius: 50%;\n",
              "    cursor: pointer;\n",
              "    display: none;\n",
              "    fill: var(--fill-color);\n",
              "    height: 32px;\n",
              "    padding: 0;\n",
              "    width: 32px;\n",
              "  }\n",
              "\n",
              "  .colab-df-quickchart:hover {\n",
              "    background-color: var(--hover-bg-color);\n",
              "    box-shadow: 0 1px 2px rgba(60, 64, 67, 0.3), 0 1px 3px 1px rgba(60, 64, 67, 0.15);\n",
              "    fill: var(--button-hover-fill-color);\n",
              "  }\n",
              "\n",
              "  .colab-df-quickchart-complete:disabled,\n",
              "  .colab-df-quickchart-complete:disabled:hover {\n",
              "    background-color: var(--disabled-bg-color);\n",
              "    fill: var(--disabled-fill-color);\n",
              "    box-shadow: none;\n",
              "  }\n",
              "\n",
              "  .colab-df-spinner {\n",
              "    border: 2px solid var(--fill-color);\n",
              "    border-color: transparent;\n",
              "    border-bottom-color: var(--fill-color);\n",
              "    animation:\n",
              "      spin 1s steps(1) infinite;\n",
              "  }\n",
              "\n",
              "  @keyframes spin {\n",
              "    0% {\n",
              "      border-color: transparent;\n",
              "      border-bottom-color: var(--fill-color);\n",
              "      border-left-color: var(--fill-color);\n",
              "    }\n",
              "    20% {\n",
              "      border-color: transparent;\n",
              "      border-left-color: var(--fill-color);\n",
              "      border-top-color: var(--fill-color);\n",
              "    }\n",
              "    30% {\n",
              "      border-color: transparent;\n",
              "      border-left-color: var(--fill-color);\n",
              "      border-top-color: var(--fill-color);\n",
              "      border-right-color: var(--fill-color);\n",
              "    }\n",
              "    40% {\n",
              "      border-color: transparent;\n",
              "      border-right-color: var(--fill-color);\n",
              "      border-top-color: var(--fill-color);\n",
              "    }\n",
              "    60% {\n",
              "      border-color: transparent;\n",
              "      border-right-color: var(--fill-color);\n",
              "    }\n",
              "    80% {\n",
              "      border-color: transparent;\n",
              "      border-right-color: var(--fill-color);\n",
              "      border-bottom-color: var(--fill-color);\n",
              "    }\n",
              "    90% {\n",
              "      border-color: transparent;\n",
              "      border-bottom-color: var(--fill-color);\n",
              "    }\n",
              "  }\n",
              "</style>\n",
              "\n",
              "  <script>\n",
              "    async function quickchart(key) {\n",
              "      const quickchartButtonEl =\n",
              "        document.querySelector('#' + key + ' button');\n",
              "      quickchartButtonEl.disabled = true;  // To prevent multiple clicks.\n",
              "      quickchartButtonEl.classList.add('colab-df-spinner');\n",
              "      try {\n",
              "        const charts = await google.colab.kernel.invokeFunction(\n",
              "            'suggestCharts', [key], {});\n",
              "      } catch (error) {\n",
              "        console.error('Error during call to suggestCharts:', error);\n",
              "      }\n",
              "      quickchartButtonEl.classList.remove('colab-df-spinner');\n",
              "      quickchartButtonEl.classList.add('colab-df-quickchart-complete');\n",
              "    }\n",
              "    (() => {\n",
              "      let quickchartButtonEl =\n",
              "        document.querySelector('#df-7a85a165-855b-4062-879f-0e683b26cb14 button');\n",
              "      quickchartButtonEl.style.display =\n",
              "        google.colab.kernel.accessAllowed ? 'block' : 'none';\n",
              "    })();\n",
              "  </script>\n",
              "</div>\n",
              "\n",
              "    </div>\n",
              "  </div>\n"
            ],
            "application/vnd.google.colaboratory.intrinsic+json": {
              "type": "dataframe",
              "variable_name": "df",
              "summary": "{\n  \"name\": \"df\",\n  \"rows\": 10000,\n  \"fields\": [\n    {\n      \"column\": \"name\",\n      \"properties\": {\n        \"dtype\": \"category\",\n        \"num_unique_values\": 2,\n        \"samples\": [\n          \"orange\",\n          \"grapefruit\"\n        ],\n        \"semantic_type\": \"\",\n        \"description\": \"\"\n      }\n    },\n    {\n      \"column\": \"diameter\",\n      \"properties\": {\n        \"dtype\": \"number\",\n        \"std\": 1.9478436590925432,\n        \"min\": 2.96,\n        \"max\": 16.45,\n        \"num_unique_values\": 940,\n        \"samples\": [\n          14.3,\n          11.9\n        ],\n        \"semantic_type\": \"\",\n        \"description\": \"\"\n      }\n    },\n    {\n      \"column\": \"weight\",\n      \"properties\": {\n        \"dtype\": \"number\",\n        \"std\": 29.21211926177066,\n        \"min\": 86.76,\n        \"max\": 261.51,\n        \"num_unique_values\": 6627,\n        \"samples\": [\n          147.23,\n          145.92\n        ],\n        \"semantic_type\": \"\",\n        \"description\": \"\"\n      }\n    },\n    {\n      \"column\": \"red\",\n      \"properties\": {\n        \"dtype\": \"number\",\n        \"std\": 10,\n        \"min\": 115,\n        \"max\": 192,\n        \"num_unique_values\": 75,\n        \"samples\": [\n          167,\n          120\n        ],\n        \"semantic_type\": \"\",\n        \"description\": \"\"\n      }\n    },\n    {\n      \"column\": \"green\",\n      \"properties\": {\n        \"dtype\": \"number\",\n        \"std\": 11,\n        \"min\": 31,\n        \"max\": 116,\n        \"num_unique_values\": 80,\n        \"samples\": [\n          61,\n          60\n        ],\n        \"semantic_type\": \"\",\n        \"description\": \"\"\n      }\n    },\n    {\n      \"column\": \"blue\",\n      \"properties\": {\n        \"dtype\": \"number\",\n        \"std\": 9,\n        \"min\": 2,\n        \"max\": 56,\n        \"num_unique_values\": 48,\n        \"samples\": [\n          22,\n          40\n        ],\n        \"semantic_type\": \"\",\n        \"description\": \"\"\n      }\n    }\n  ]\n}"
            }
          },
          "metadata": {},
          "execution_count": 281
        }
      ]
    },
    {
      "cell_type": "markdown",
      "source": [
        "## 데이터 셋 분리"
      ],
      "metadata": {
        "id": "Z48TfFkhqF4a"
      }
    },
    {
      "cell_type": "code",
      "source": [
        "from sklearn.model_selection import train_test_split\n",
        "df_train,df_test = train_test_split(df,test_size=0.2,shuffle=True,random_state=SEED)\n",
        "df_train.shape, df_test.shape"
      ],
      "metadata": {
        "id": "uAzSwRJOmhPk",
        "colab": {
          "base_uri": "https://localhost:8080/"
        },
        "outputId": "0f176821-0e4e-4b8e-80c9-98e31724fc21"
      },
      "execution_count": null,
      "outputs": [
        {
          "output_type": "execute_result",
          "data": {
            "text/plain": [
              "((8000, 6), (2000, 6))"
            ]
          },
          "metadata": {},
          "execution_count": 18
        },
        {
          "output_type": "stream",
          "name": "stdout",
          "text": [
            "time: 307 ms (started: 2024-06-28 07:05:12 +00:00)\n"
          ]
        }
      ]
    },
    {
      "cell_type": "markdown",
      "source": [
        "## X,y 변수 분리"
      ],
      "metadata": {
        "id": "CkiyLrCz2dKw"
      }
    },
    {
      "cell_type": "code",
      "source": [
        "y_train=df_train['name']\n",
        "X_train=df_train.drop('name',axis=1)"
      ],
      "metadata": {
        "id": "oLBug8zs23gv",
        "colab": {
          "base_uri": "https://localhost:8080/"
        },
        "outputId": "8090ecf4-96eb-4085-b030-0eb9949ba721"
      },
      "execution_count": null,
      "outputs": [
        {
          "output_type": "stream",
          "name": "stdout",
          "text": [
            "time: 3.42 ms (started: 2024-06-28 07:05:34 +00:00)\n"
          ]
        }
      ]
    },
    {
      "cell_type": "markdown",
      "source": [
        "## 스케일링"
      ],
      "metadata": {
        "id": "1nUGQTuJ3zRH"
      }
    },
    {
      "cell_type": "code",
      "source": [
        "from sklearn.preprocessing import RobustScaler\n",
        "rs = RobustScaler()\n",
        "X_train_s= rs.fit_transform(X_train)\n",
        "X_train_s.shape"
      ],
      "metadata": {
        "colab": {
          "base_uri": "https://localhost:8080/"
        },
        "id": "scJAbY2Rqnqs",
        "outputId": "e015ca99-fc12-4d74-f0b0-98804a77276a"
      },
      "execution_count": null,
      "outputs": [
        {
          "output_type": "execute_result",
          "data": {
            "text/plain": [
              "(8000, 5)"
            ]
          },
          "metadata": {},
          "execution_count": 25
        },
        {
          "output_type": "stream",
          "name": "stdout",
          "text": [
            "time: 38.6 ms (started: 2024-06-28 07:08:40 +00:00)\n"
          ]
        }
      ]
    },
    {
      "cell_type": "code",
      "source": [
        "from sklearn.preprocessing import LabelEncoder\n",
        "le =LabelEncoder()\n",
        "y_train_e =le.fit_transform(y_train)\n",
        "y_train_e , y_train_e.shape"
      ],
      "metadata": {
        "colab": {
          "base_uri": "https://localhost:8080/"
        },
        "id": "oegfcog8rNZA",
        "outputId": "3f1d3222-6705-43c4-91f8-f783175eae27"
      },
      "execution_count": null,
      "outputs": [
        {
          "output_type": "execute_result",
          "data": {
            "text/plain": [
              "(array([0, 1, 1, ..., 0, 1, 0]), (8000,))"
            ]
          },
          "metadata": {},
          "execution_count": 27
        },
        {
          "output_type": "stream",
          "name": "stdout",
          "text": [
            "time: 9.39 ms (started: 2024-06-28 07:09:34 +00:00)\n"
          ]
        }
      ]
    },
    {
      "cell_type": "code",
      "source": [
        "print(X_train_s.shape, y_train_e.shape)\n",
        "print(type(X_train_s),type(y_train_e))"
      ],
      "metadata": {
        "colab": {
          "base_uri": "https://localhost:8080/"
        },
        "id": "X9QIRL6trNLQ",
        "outputId": "1f1a5e43-653b-4f01-b346-c0257616d457"
      },
      "execution_count": null,
      "outputs": [
        {
          "output_type": "stream",
          "name": "stdout",
          "text": [
            "(8000, 5) (8000,)\n",
            "<class 'numpy.ndarray'> <class 'numpy.ndarray'>\n",
            "time: 5.34 ms (started: 2024-06-28 07:09:55 +00:00)\n"
          ]
        }
      ]
    },
    {
      "cell_type": "markdown",
      "source": [
        "## 모델 적합"
      ],
      "metadata": {
        "id": "DL7QkxIbtwoi"
      }
    },
    {
      "cell_type": "code",
      "source": [
        "from keras import layers\n",
        "\n",
        "model = keras.Sequential([\n",
        "    layers.Dense(units=5,activation='relu',input_shape=(5,)),\n",
        "    layers.Dense(units=3,activation='relu'),\n",
        "    layers.Dense(units=1,activation='sigmoid'),\n",
        "\n",
        "])"
      ],
      "metadata": {
        "colab": {
          "base_uri": "https://localhost:8080/"
        },
        "id": "y4JuuvdErMw5",
        "outputId": "53ce9c8d-8698-4b43-e6d7-9eb747a4668f"
      },
      "execution_count": null,
      "outputs": [
        {
          "output_type": "stream",
          "name": "stdout",
          "text": [
            "time: 456 ms (started: 2024-06-28 07:11:02 +00:00)\n"
          ]
        }
      ]
    },
    {
      "cell_type": "code",
      "source": [
        "model.summary()"
      ],
      "metadata": {
        "colab": {
          "base_uri": "https://localhost:8080/"
        },
        "id": "LL4yuJNkp2RF",
        "outputId": "76b6de02-76cf-4d18-946e-62848d609a16"
      },
      "execution_count": null,
      "outputs": [
        {
          "output_type": "stream",
          "name": "stdout",
          "text": [
            "Model: \"sequential\"\n",
            "_________________________________________________________________\n",
            " Layer (type)                Output Shape              Param #   \n",
            "=================================================================\n",
            " dense (Dense)               (None, 5)                 30        \n",
            "                                                                 \n",
            " dense_1 (Dense)             (None, 3)                 18        \n",
            "                                                                 \n",
            " dense_2 (Dense)             (None, 1)                 4         \n",
            "                                                                 \n",
            "=================================================================\n",
            "Total params: 52 (208.00 Byte)\n",
            "Trainable params: 52 (208.00 Byte)\n",
            "Non-trainable params: 0 (0.00 Byte)\n",
            "_________________________________________________________________\n",
            "time: 50.1 ms (started: 2024-06-28 07:11:36 +00:00)\n"
          ]
        }
      ]
    },
    {
      "cell_type": "code",
      "source": [
        "model.compile(loss='binary_crossentropy', optimizer='adam',\n",
        " metrics=['accuracy'])"
      ],
      "metadata": {
        "colab": {
          "base_uri": "https://localhost:8080/"
        },
        "id": "1bjCnAdpp2L3",
        "outputId": "83c583f0-8446-4ed7-f18f-1f7222b42da5"
      },
      "execution_count": null,
      "outputs": [
        {
          "output_type": "stream",
          "name": "stdout",
          "text": [
            "time: 42.4 ms (started: 2024-06-28 07:11:47 +00:00)\n"
          ]
        }
      ]
    },
    {
      "cell_type": "code",
      "source": [
        "EPOCHS=100\n",
        "BATCH_SIZE=16\n",
        "history= model.fit(X_train_s,y_train_e,\n",
        "          epochs=EPOCHS,\n",
        "          batch_size=BATCH_SIZE,\n",
        "          validation_split=0.2\n",
        "          )"
      ],
      "metadata": {
        "colab": {
          "base_uri": "https://localhost:8080/"
        },
        "id": "UCA9tgKMr6kj",
        "outputId": "1942b6c2-40c9-478e-9fce-c8f8b6313e66"
      },
      "execution_count": null,
      "outputs": [
        {
          "output_type": "stream",
          "name": "stdout",
          "text": [
            "Epoch 1/100\n",
            "400/400 [==============================] - 2s 2ms/step - loss: 0.4641 - accuracy: 0.8420 - val_loss: 0.2757 - val_accuracy: 0.9187\n",
            "Epoch 2/100\n",
            "400/400 [==============================] - 1s 2ms/step - loss: 0.2139 - accuracy: 0.9234 - val_loss: 0.2005 - val_accuracy: 0.9256\n",
            "Epoch 3/100\n",
            "400/400 [==============================] - 1s 2ms/step - loss: 0.1851 - accuracy: 0.9269 - val_loss: 0.1921 - val_accuracy: 0.9237\n",
            "Epoch 4/100\n",
            "400/400 [==============================] - 1s 3ms/step - loss: 0.1812 - accuracy: 0.9275 - val_loss: 0.1893 - val_accuracy: 0.9237\n",
            "Epoch 5/100\n",
            "400/400 [==============================] - 1s 3ms/step - loss: 0.1792 - accuracy: 0.9270 - val_loss: 0.1873 - val_accuracy: 0.9237\n",
            "Epoch 6/100\n",
            "400/400 [==============================] - 1s 3ms/step - loss: 0.1781 - accuracy: 0.9283 - val_loss: 0.1870 - val_accuracy: 0.9250\n",
            "Epoch 7/100\n",
            "400/400 [==============================] - 1s 2ms/step - loss: 0.1770 - accuracy: 0.9283 - val_loss: 0.1850 - val_accuracy: 0.9237\n",
            "Epoch 8/100\n",
            "400/400 [==============================] - 1s 2ms/step - loss: 0.1758 - accuracy: 0.9281 - val_loss: 0.1849 - val_accuracy: 0.9262\n",
            "Epoch 9/100\n",
            "400/400 [==============================] - 1s 3ms/step - loss: 0.1754 - accuracy: 0.9295 - val_loss: 0.1824 - val_accuracy: 0.9244\n",
            "Epoch 10/100\n",
            "400/400 [==============================] - 1s 3ms/step - loss: 0.1745 - accuracy: 0.9283 - val_loss: 0.1823 - val_accuracy: 0.9244\n",
            "Epoch 11/100\n",
            "400/400 [==============================] - 1s 3ms/step - loss: 0.1738 - accuracy: 0.9297 - val_loss: 0.1806 - val_accuracy: 0.9250\n",
            "Epoch 12/100\n",
            "400/400 [==============================] - 1s 2ms/step - loss: 0.1732 - accuracy: 0.9292 - val_loss: 0.1800 - val_accuracy: 0.9262\n",
            "Epoch 13/100\n",
            "400/400 [==============================] - 1s 2ms/step - loss: 0.1728 - accuracy: 0.9295 - val_loss: 0.1795 - val_accuracy: 0.9256\n",
            "Epoch 14/100\n",
            "400/400 [==============================] - 1s 2ms/step - loss: 0.1718 - accuracy: 0.9295 - val_loss: 0.1789 - val_accuracy: 0.9262\n",
            "Epoch 15/100\n",
            "400/400 [==============================] - 1s 2ms/step - loss: 0.1715 - accuracy: 0.9306 - val_loss: 0.1782 - val_accuracy: 0.9256\n",
            "Epoch 16/100\n",
            "400/400 [==============================] - 1s 2ms/step - loss: 0.1708 - accuracy: 0.9302 - val_loss: 0.1780 - val_accuracy: 0.9256\n",
            "Epoch 17/100\n",
            "400/400 [==============================] - 1s 2ms/step - loss: 0.1700 - accuracy: 0.9306 - val_loss: 0.1774 - val_accuracy: 0.9256\n",
            "Epoch 18/100\n",
            "400/400 [==============================] - 1s 2ms/step - loss: 0.1694 - accuracy: 0.9306 - val_loss: 0.1783 - val_accuracy: 0.9269\n",
            "Epoch 19/100\n",
            "400/400 [==============================] - 1s 2ms/step - loss: 0.1694 - accuracy: 0.9316 - val_loss: 0.1766 - val_accuracy: 0.9269\n",
            "Epoch 20/100\n",
            "400/400 [==============================] - 1s 2ms/step - loss: 0.1686 - accuracy: 0.9308 - val_loss: 0.1756 - val_accuracy: 0.9275\n",
            "Epoch 21/100\n",
            "400/400 [==============================] - 1s 2ms/step - loss: 0.1678 - accuracy: 0.9314 - val_loss: 0.1748 - val_accuracy: 0.9275\n",
            "Epoch 22/100\n",
            "400/400 [==============================] - 1s 2ms/step - loss: 0.1668 - accuracy: 0.9319 - val_loss: 0.1746 - val_accuracy: 0.9281\n",
            "Epoch 23/100\n",
            "400/400 [==============================] - 1s 2ms/step - loss: 0.1665 - accuracy: 0.9312 - val_loss: 0.1739 - val_accuracy: 0.9269\n",
            "Epoch 24/100\n",
            "400/400 [==============================] - 1s 2ms/step - loss: 0.1658 - accuracy: 0.9317 - val_loss: 0.1734 - val_accuracy: 0.9287\n",
            "Epoch 25/100\n",
            "400/400 [==============================] - 1s 3ms/step - loss: 0.1649 - accuracy: 0.9342 - val_loss: 0.1725 - val_accuracy: 0.9281\n",
            "Epoch 26/100\n",
            "400/400 [==============================] - 1s 3ms/step - loss: 0.1648 - accuracy: 0.9337 - val_loss: 0.1719 - val_accuracy: 0.9281\n",
            "Epoch 27/100\n",
            "400/400 [==============================] - 1s 2ms/step - loss: 0.1638 - accuracy: 0.9337 - val_loss: 0.1714 - val_accuracy: 0.9294\n",
            "Epoch 28/100\n",
            "400/400 [==============================] - 1s 2ms/step - loss: 0.1627 - accuracy: 0.9348 - val_loss: 0.1712 - val_accuracy: 0.9312\n",
            "Epoch 29/100\n",
            "400/400 [==============================] - 1s 2ms/step - loss: 0.1621 - accuracy: 0.9353 - val_loss: 0.1697 - val_accuracy: 0.9300\n",
            "Epoch 30/100\n",
            "400/400 [==============================] - 1s 2ms/step - loss: 0.1611 - accuracy: 0.9347 - val_loss: 0.1691 - val_accuracy: 0.9300\n",
            "Epoch 31/100\n",
            "400/400 [==============================] - 1s 2ms/step - loss: 0.1604 - accuracy: 0.9356 - val_loss: 0.1678 - val_accuracy: 0.9312\n",
            "Epoch 32/100\n",
            "400/400 [==============================] - 1s 2ms/step - loss: 0.1594 - accuracy: 0.9356 - val_loss: 0.1677 - val_accuracy: 0.9312\n",
            "Epoch 33/100\n",
            "400/400 [==============================] - 1s 2ms/step - loss: 0.1578 - accuracy: 0.9375 - val_loss: 0.1668 - val_accuracy: 0.9325\n",
            "Epoch 34/100\n",
            "400/400 [==============================] - 1s 2ms/step - loss: 0.1569 - accuracy: 0.9372 - val_loss: 0.1671 - val_accuracy: 0.9331\n",
            "Epoch 35/100\n",
            "400/400 [==============================] - 1s 2ms/step - loss: 0.1563 - accuracy: 0.9373 - val_loss: 0.1647 - val_accuracy: 0.9312\n",
            "Epoch 36/100\n",
            "400/400 [==============================] - 1s 2ms/step - loss: 0.1549 - accuracy: 0.9386 - val_loss: 0.1639 - val_accuracy: 0.9319\n",
            "Epoch 37/100\n",
            "400/400 [==============================] - 1s 2ms/step - loss: 0.1539 - accuracy: 0.9384 - val_loss: 0.1633 - val_accuracy: 0.9331\n",
            "Epoch 38/100\n",
            "400/400 [==============================] - 1s 2ms/step - loss: 0.1529 - accuracy: 0.9392 - val_loss: 0.1615 - val_accuracy: 0.9344\n",
            "Epoch 39/100\n",
            "400/400 [==============================] - 1s 2ms/step - loss: 0.1513 - accuracy: 0.9402 - val_loss: 0.1602 - val_accuracy: 0.9350\n",
            "Epoch 40/100\n",
            "400/400 [==============================] - 1s 3ms/step - loss: 0.1503 - accuracy: 0.9405 - val_loss: 0.1598 - val_accuracy: 0.9362\n",
            "Epoch 41/100\n",
            "400/400 [==============================] - 1s 3ms/step - loss: 0.1490 - accuracy: 0.9406 - val_loss: 0.1588 - val_accuracy: 0.9375\n",
            "Epoch 42/100\n",
            "400/400 [==============================] - 1s 2ms/step - loss: 0.1465 - accuracy: 0.9431 - val_loss: 0.1591 - val_accuracy: 0.9356\n",
            "Epoch 43/100\n",
            "400/400 [==============================] - 1s 2ms/step - loss: 0.1455 - accuracy: 0.9428 - val_loss: 0.1587 - val_accuracy: 0.9381\n",
            "Epoch 44/100\n",
            "400/400 [==============================] - 1s 2ms/step - loss: 0.1448 - accuracy: 0.9438 - val_loss: 0.1548 - val_accuracy: 0.9362\n",
            "Epoch 45/100\n",
            "400/400 [==============================] - 1s 2ms/step - loss: 0.1427 - accuracy: 0.9450 - val_loss: 0.1532 - val_accuracy: 0.9356\n",
            "Epoch 46/100\n",
            "400/400 [==============================] - 1s 2ms/step - loss: 0.1417 - accuracy: 0.9470 - val_loss: 0.1534 - val_accuracy: 0.9356\n",
            "Epoch 47/100\n",
            "400/400 [==============================] - 1s 2ms/step - loss: 0.1403 - accuracy: 0.9464 - val_loss: 0.1520 - val_accuracy: 0.9381\n",
            "Epoch 48/100\n",
            "400/400 [==============================] - 1s 2ms/step - loss: 0.1378 - accuracy: 0.9463 - val_loss: 0.1512 - val_accuracy: 0.9400\n",
            "Epoch 49/100\n",
            "400/400 [==============================] - 1s 2ms/step - loss: 0.1367 - accuracy: 0.9483 - val_loss: 0.1482 - val_accuracy: 0.9413\n",
            "Epoch 50/100\n",
            "400/400 [==============================] - 1s 2ms/step - loss: 0.1350 - accuracy: 0.9491 - val_loss: 0.1466 - val_accuracy: 0.9413\n",
            "Epoch 51/100\n",
            "400/400 [==============================] - 1s 2ms/step - loss: 0.1333 - accuracy: 0.9491 - val_loss: 0.1452 - val_accuracy: 0.9438\n",
            "Epoch 52/100\n",
            "400/400 [==============================] - 1s 2ms/step - loss: 0.1320 - accuracy: 0.9506 - val_loss: 0.1446 - val_accuracy: 0.9438\n",
            "Epoch 53/100\n",
            "400/400 [==============================] - 1s 2ms/step - loss: 0.1307 - accuracy: 0.9520 - val_loss: 0.1443 - val_accuracy: 0.9444\n",
            "Epoch 54/100\n",
            "400/400 [==============================] - 1s 2ms/step - loss: 0.1287 - accuracy: 0.9538 - val_loss: 0.1429 - val_accuracy: 0.9425\n",
            "Epoch 55/100\n",
            "400/400 [==============================] - 1s 3ms/step - loss: 0.1277 - accuracy: 0.9519 - val_loss: 0.1408 - val_accuracy: 0.9450\n",
            "Epoch 56/100\n",
            "400/400 [==============================] - 1s 3ms/step - loss: 0.1267 - accuracy: 0.9550 - val_loss: 0.1428 - val_accuracy: 0.9463\n",
            "Epoch 57/100\n",
            "400/400 [==============================] - 1s 2ms/step - loss: 0.1247 - accuracy: 0.9558 - val_loss: 0.1397 - val_accuracy: 0.9463\n",
            "Epoch 58/100\n",
            "400/400 [==============================] - 1s 2ms/step - loss: 0.1236 - accuracy: 0.9556 - val_loss: 0.1382 - val_accuracy: 0.9475\n",
            "Epoch 59/100\n",
            "400/400 [==============================] - 1s 2ms/step - loss: 0.1218 - accuracy: 0.9575 - val_loss: 0.1370 - val_accuracy: 0.9463\n",
            "Epoch 60/100\n",
            "400/400 [==============================] - 1s 2ms/step - loss: 0.1201 - accuracy: 0.9580 - val_loss: 0.1367 - val_accuracy: 0.9500\n",
            "Epoch 61/100\n",
            "400/400 [==============================] - 1s 4ms/step - loss: 0.1192 - accuracy: 0.9580 - val_loss: 0.1370 - val_accuracy: 0.9500\n",
            "Epoch 62/100\n",
            "400/400 [==============================] - 1s 2ms/step - loss: 0.1181 - accuracy: 0.9588 - val_loss: 0.1345 - val_accuracy: 0.9500\n",
            "Epoch 63/100\n",
            "400/400 [==============================] - 1s 2ms/step - loss: 0.1169 - accuracy: 0.9588 - val_loss: 0.1376 - val_accuracy: 0.9500\n",
            "Epoch 64/100\n",
            "400/400 [==============================] - 1s 2ms/step - loss: 0.1157 - accuracy: 0.9606 - val_loss: 0.1335 - val_accuracy: 0.9519\n",
            "Epoch 65/100\n",
            "400/400 [==============================] - 1s 2ms/step - loss: 0.1150 - accuracy: 0.9608 - val_loss: 0.1356 - val_accuracy: 0.9469\n",
            "Epoch 66/100\n",
            "400/400 [==============================] - 1s 2ms/step - loss: 0.1140 - accuracy: 0.9597 - val_loss: 0.1329 - val_accuracy: 0.9500\n",
            "Epoch 67/100\n",
            "400/400 [==============================] - 1s 2ms/step - loss: 0.1133 - accuracy: 0.9627 - val_loss: 0.1313 - val_accuracy: 0.9525\n",
            "Epoch 68/100\n",
            "400/400 [==============================] - 1s 2ms/step - loss: 0.1126 - accuracy: 0.9633 - val_loss: 0.1331 - val_accuracy: 0.9531\n",
            "Epoch 69/100\n",
            "400/400 [==============================] - 1s 3ms/step - loss: 0.1121 - accuracy: 0.9619 - val_loss: 0.1295 - val_accuracy: 0.9563\n",
            "Epoch 70/100\n",
            "400/400 [==============================] - 1s 3ms/step - loss: 0.1115 - accuracy: 0.9630 - val_loss: 0.1321 - val_accuracy: 0.9600\n",
            "Epoch 71/100\n",
            "400/400 [==============================] - 2s 4ms/step - loss: 0.1110 - accuracy: 0.9627 - val_loss: 0.1289 - val_accuracy: 0.9550\n",
            "Epoch 72/100\n",
            "400/400 [==============================] - 1s 4ms/step - loss: 0.1104 - accuracy: 0.9611 - val_loss: 0.1288 - val_accuracy: 0.9556\n",
            "Epoch 73/100\n",
            "400/400 [==============================] - 1s 2ms/step - loss: 0.1101 - accuracy: 0.9634 - val_loss: 0.1294 - val_accuracy: 0.9538\n",
            "Epoch 74/100\n",
            "400/400 [==============================] - 1s 2ms/step - loss: 0.1091 - accuracy: 0.9638 - val_loss: 0.1341 - val_accuracy: 0.9594\n",
            "Epoch 75/100\n",
            "400/400 [==============================] - 1s 2ms/step - loss: 0.1086 - accuracy: 0.9633 - val_loss: 0.1312 - val_accuracy: 0.9563\n",
            "Epoch 76/100\n",
            "400/400 [==============================] - 1s 2ms/step - loss: 0.1078 - accuracy: 0.9647 - val_loss: 0.1281 - val_accuracy: 0.9550\n",
            "Epoch 77/100\n",
            "400/400 [==============================] - 1s 2ms/step - loss: 0.1087 - accuracy: 0.9648 - val_loss: 0.1286 - val_accuracy: 0.9556\n",
            "Epoch 78/100\n",
            "400/400 [==============================] - 1s 2ms/step - loss: 0.1085 - accuracy: 0.9644 - val_loss: 0.1273 - val_accuracy: 0.9594\n",
            "Epoch 79/100\n",
            "400/400 [==============================] - 1s 2ms/step - loss: 0.1080 - accuracy: 0.9645 - val_loss: 0.1266 - val_accuracy: 0.9575\n",
            "Epoch 80/100\n",
            "400/400 [==============================] - 1s 2ms/step - loss: 0.1076 - accuracy: 0.9656 - val_loss: 0.1269 - val_accuracy: 0.9575\n",
            "Epoch 81/100\n",
            "400/400 [==============================] - 1s 2ms/step - loss: 0.1066 - accuracy: 0.9642 - val_loss: 0.1282 - val_accuracy: 0.9550\n",
            "Epoch 82/100\n",
            "400/400 [==============================] - 1s 3ms/step - loss: 0.1069 - accuracy: 0.9642 - val_loss: 0.1296 - val_accuracy: 0.9619\n",
            "Epoch 83/100\n",
            "400/400 [==============================] - 1s 3ms/step - loss: 0.1072 - accuracy: 0.9656 - val_loss: 0.1271 - val_accuracy: 0.9600\n",
            "Epoch 84/100\n",
            "400/400 [==============================] - 1s 3ms/step - loss: 0.1057 - accuracy: 0.9666 - val_loss: 0.1295 - val_accuracy: 0.9513\n",
            "Epoch 85/100\n",
            "400/400 [==============================] - 1s 2ms/step - loss: 0.1065 - accuracy: 0.9661 - val_loss: 0.1280 - val_accuracy: 0.9600\n",
            "Epoch 86/100\n",
            "400/400 [==============================] - 1s 2ms/step - loss: 0.1056 - accuracy: 0.9648 - val_loss: 0.1261 - val_accuracy: 0.9644\n",
            "Epoch 87/100\n",
            "400/400 [==============================] - 1s 2ms/step - loss: 0.1057 - accuracy: 0.9659 - val_loss: 0.1233 - val_accuracy: 0.9588\n",
            "Epoch 88/100\n",
            "400/400 [==============================] - 1s 2ms/step - loss: 0.1051 - accuracy: 0.9664 - val_loss: 0.1243 - val_accuracy: 0.9581\n",
            "Epoch 89/100\n",
            "400/400 [==============================] - 1s 2ms/step - loss: 0.1047 - accuracy: 0.9653 - val_loss: 0.1263 - val_accuracy: 0.9638\n",
            "Epoch 90/100\n",
            "400/400 [==============================] - 1s 2ms/step - loss: 0.1048 - accuracy: 0.9661 - val_loss: 0.1240 - val_accuracy: 0.9663\n",
            "Epoch 91/100\n",
            "400/400 [==============================] - 1s 2ms/step - loss: 0.1040 - accuracy: 0.9667 - val_loss: 0.1263 - val_accuracy: 0.9650\n",
            "Epoch 92/100\n",
            "400/400 [==============================] - 1s 2ms/step - loss: 0.1040 - accuracy: 0.9670 - val_loss: 0.1240 - val_accuracy: 0.9656\n",
            "Epoch 93/100\n",
            "400/400 [==============================] - 1s 2ms/step - loss: 0.1039 - accuracy: 0.9677 - val_loss: 0.1241 - val_accuracy: 0.9606\n",
            "Epoch 94/100\n",
            "400/400 [==============================] - 1s 2ms/step - loss: 0.1040 - accuracy: 0.9669 - val_loss: 0.1231 - val_accuracy: 0.9638\n",
            "Epoch 95/100\n",
            "400/400 [==============================] - 1s 2ms/step - loss: 0.1032 - accuracy: 0.9672 - val_loss: 0.1240 - val_accuracy: 0.9619\n",
            "Epoch 96/100\n",
            "400/400 [==============================] - 1s 2ms/step - loss: 0.1039 - accuracy: 0.9667 - val_loss: 0.1239 - val_accuracy: 0.9650\n",
            "Epoch 97/100\n",
            "400/400 [==============================] - 1s 3ms/step - loss: 0.1033 - accuracy: 0.9659 - val_loss: 0.1224 - val_accuracy: 0.9669\n",
            "Epoch 98/100\n",
            "400/400 [==============================] - 1s 3ms/step - loss: 0.1032 - accuracy: 0.9669 - val_loss: 0.1229 - val_accuracy: 0.9650\n",
            "Epoch 99/100\n",
            "400/400 [==============================] - 1s 3ms/step - loss: 0.1028 - accuracy: 0.9689 - val_loss: 0.1241 - val_accuracy: 0.9669\n",
            "Epoch 100/100\n",
            "400/400 [==============================] - 1s 2ms/step - loss: 0.1027 - accuracy: 0.9666 - val_loss: 0.1248 - val_accuracy: 0.9675\n",
            "time: 1min 32s (started: 2024-06-28 07:12:08 +00:00)\n"
          ]
        }
      ]
    },
    {
      "cell_type": "code",
      "source": [
        "def plot_history(history):\n",
        "    hist = pd.DataFrame(history.history)\n",
        "    hist['epoch'] = history.epoch\n",
        "\n",
        "    plt.figure(figsize=(16, 8))\n",
        "    plt.subplot(1, 2, 1)\n",
        "    plt.xlabel('epochs')\n",
        "    plt.ylabel('loss')\n",
        "    plt.plot(hist['epoch'], hist['loss'], label='train loss')\n",
        "    plt.plot(hist['epoch'], hist['val_loss'], label='val loss')\n",
        "    plt.title('Loss Curve')\n",
        "    plt.legend()\n",
        "\n",
        "    plt.subplot(1, 2, 2)\n",
        "    plt.xlabel('epochs')\n",
        "    plt.ylabel('accuracy')\n",
        "    plt.plot(hist['epoch'], hist['accuracy'], label='train accuracy')\n",
        "    plt.plot(hist['epoch'], hist['val_accuracy'], label='val accuracy')\n",
        "    plt.title('Accuracy Curve')\n",
        "    plt.legend()\n",
        "    plt.show()\n"
      ],
      "metadata": {
        "colab": {
          "base_uri": "https://localhost:8080/"
        },
        "id": "_PtlRMHtr6dV",
        "outputId": "cd4b4a18-028b-450f-c5b7-c168b644135d"
      },
      "execution_count": null,
      "outputs": [
        {
          "output_type": "stream",
          "name": "stdout",
          "text": [
            "time: 1.44 ms (started: 2024-06-28 07:14:10 +00:00)\n"
          ]
        }
      ]
    },
    {
      "cell_type": "code",
      "source": [
        "plot_history(history)"
      ],
      "metadata": {
        "colab": {
          "base_uri": "https://localhost:8080/",
          "height": 654
        },
        "id": "b294Ar96sfRg",
        "outputId": "223d0b2f-cb55-4044-ce7c-2d5547eb87f7"
      },
      "execution_count": null,
      "outputs": [
        {
          "output_type": "display_data",
          "data": {
            "text/plain": [
              "<Figure size 1600x800 with 2 Axes>"
            ],
            "image/png": "[encoded data removed]"
          },
          "metadata": {}
        },
        {
          "output_type": "stream",
          "name": "stdout",
          "text": [
            "time: 992 ms (started: 2024-06-28 07:14:23 +00:00)\n"
          ]
        }
      ]
    },
    {
      "cell_type": "markdown",
      "source": [
        "## 모델 검증\n"
      ],
      "metadata": {
        "id": "FEhYwMwq8mvV"
      }
    },
    {
      "cell_type": "code",
      "source": [
        "X_test=df_test.drop('name',axis=1)\n",
        "y_test=df_test['name']"
      ],
      "metadata": {
        "colab": {
          "base_uri": "https://localhost:8080/"
        },
        "id": "4myZc-Q49aDu",
        "outputId": "919e980a-1c2a-46ed-fb14-6451a4214d5a"
      },
      "execution_count": null,
      "outputs": [
        {
          "output_type": "stream",
          "name": "stdout",
          "text": [
            "time: 5.2 ms (started: 2024-06-28 07:15:35 +00:00)\n"
          ]
        }
      ]
    },
    {
      "cell_type": "code",
      "source": [
        "from sklearn.preprocessing import RobustScaler\n",
        "rs = RobustScaler()\n",
        "X_test_s= rs.fit_transform(X_test)\n",
        "X_test_s.shape"
      ],
      "metadata": {
        "colab": {
          "base_uri": "https://localhost:8080/"
        },
        "id": "j8R7bBt6smxS",
        "outputId": "c8cc8bcd-e2e3-4acc-e26d-7530e2c4b743"
      },
      "execution_count": null,
      "outputs": [
        {
          "output_type": "execute_result",
          "data": {
            "text/plain": [
              "(2000, 5)"
            ]
          },
          "metadata": {},
          "execution_count": 36
        },
        {
          "output_type": "stream",
          "name": "stdout",
          "text": [
            "time: 29.9 ms (started: 2024-06-28 07:16:41 +00:00)\n"
          ]
        }
      ]
    },
    {
      "cell_type": "code",
      "source": [
        "from sklearn.preprocessing import LabelEncoder\n",
        "le =LabelEncoder()\n",
        "y_test_e =le.fit_transform(y_test)\n",
        "y_test_e , y_test_e.shape"
      ],
      "metadata": {
        "colab": {
          "base_uri": "https://localhost:8080/"
        },
        "id": "cKQp4LMOsmuf",
        "outputId": "67b8f56f-9cf8-4bf3-a5a4-e9ebd2d16b29"
      },
      "execution_count": null,
      "outputs": [
        {
          "output_type": "execute_result",
          "data": {
            "text/plain": [
              "(array([0, 1, 1, ..., 0, 1, 0]), (2000,))"
            ]
          },
          "metadata": {},
          "execution_count": 37
        },
        {
          "output_type": "stream",
          "name": "stdout",
          "text": [
            "time: 13.8 ms (started: 2024-06-28 07:17:04 +00:00)\n"
          ]
        }
      ]
    },
    {
      "cell_type": "code",
      "source": [
        "print(X_test_s.shape, y_test_e.shape)\n",
        "print(type(X_test_s),type(y_test_e))"
      ],
      "metadata": {
        "colab": {
          "base_uri": "https://localhost:8080/"
        },
        "id": "-afVPiVzsmrz",
        "outputId": "d75d66b4-a8c4-4e55-df04-3023b62cff66"
      },
      "execution_count": null,
      "outputs": [
        {
          "output_type": "stream",
          "name": "stdout",
          "text": [
            "(2000, 5) (2000,)\n",
            "<class 'numpy.ndarray'> <class 'numpy.ndarray'>\n",
            "time: 919 µs (started: 2024-06-28 07:17:52 +00:00)\n"
          ]
        }
      ]
    },
    {
      "cell_type": "code",
      "source": [
        "y_pred = model.predict(X_test_s)"
      ],
      "metadata": {
        "colab": {
          "base_uri": "https://localhost:8080/"
        },
        "id": "jiDHi5E-smof",
        "outputId": "361b5a78-e07d-4d2c-ff8c-48cd2505cdde"
      },
      "execution_count": null,
      "outputs": [
        {
          "output_type": "stream",
          "name": "stdout",
          "text": [
            "63/63 [==============================] - 0s 2ms/step\n",
            "time: 454 ms (started: 2024-06-28 07:18:12 +00:00)\n"
          ]
        }
      ]
    },
    {
      "cell_type": "code",
      "source": [
        "y_pred\n",
        "y_pred=(y_pred>0.5).astype(int).reshape(-1)\n",
        "# (y_pred>0.5).astype(int).shape"
      ],
      "metadata": {
        "colab": {
          "base_uri": "https://localhost:8080/"
        },
        "id": "NziutCBetY7y",
        "outputId": "81948a13-e284-485a-ef6c-56e1ee637e04"
      },
      "execution_count": null,
      "outputs": [
        {
          "output_type": "stream",
          "name": "stdout",
          "text": [
            "time: 1.11 ms (started: 2024-06-28 07:18:27 +00:00)\n"
          ]
        }
      ]
    },
    {
      "cell_type": "code",
      "source": [
        "y_pred"
      ],
      "metadata": {
        "colab": {
          "base_uri": "https://localhost:8080/"
        },
        "id": "eWI0Skv0tY0z",
        "outputId": "16092264-f90a-4056-d078-c1a2040e1b4c"
      },
      "execution_count": null,
      "outputs": [
        {
          "output_type": "execute_result",
          "data": {
            "text/plain": [
              "array([0, 1, 1, ..., 0, 1, 0])"
            ]
          },
          "metadata": {},
          "execution_count": 41
        },
        {
          "output_type": "stream",
          "name": "stdout",
          "text": [
            "time: 15.3 ms (started: 2024-06-28 07:18:35 +00:00)\n"
          ]
        }
      ]
    },
    {
      "cell_type": "code",
      "source": [
        "y_test_e"
      ],
      "metadata": {
        "colab": {
          "base_uri": "https://localhost:8080/"
        },
        "id": "awGrroGCtYsw",
        "outputId": "2fa05e5b-af98-454f-9397-71d6a6c8f73c"
      },
      "execution_count": null,
      "outputs": [
        {
          "output_type": "execute_result",
          "data": {
            "text/plain": [
              "array([0, 1, 1, ..., 0, 1, 0])"
            ]
          },
          "metadata": {},
          "execution_count": 42
        },
        {
          "output_type": "stream",
          "name": "stdout",
          "text": [
            "time: 9.16 ms (started: 2024-06-28 07:18:46 +00:00)\n"
          ]
        }
      ]
    },
    {
      "cell_type": "code",
      "source": [
        "from sklearn.metrics import accuracy_score, recall_score, precision_score, f1_score\n",
        "from sklearn.metrics import confusion_matrix\n",
        "\n",
        "def print_metrics(y_true,y_pred,aver='binary'):\n",
        "  print('accuracy',accuracy_score(y_true,y_pred))\n",
        "  print('recall',recall_score(y_true,y_pred,average=aver))\n",
        "  print('precision',precision_score(y_true,y_pred,average=aver))\n",
        "  print('f1_score',f1_score(y_true,y_pred, average=aver))\n",
        "\n",
        "  cfm = confusion_matrix(y_true,y_pred)\n",
        "  s = sns.heatmap(cfm,annot=True,cmap='Blues',fmt='d',cbar=False)\n",
        "  s.set(xlabel='Actual',ylabel='Prediction')\n",
        "  plt.show()"
      ],
      "metadata": {
        "colab": {
          "base_uri": "https://localhost:8080/"
        },
        "id": "s8Ym1YT0tiV0",
        "outputId": "8b282625-5d85-4a02-e3ec-b54e2225e476"
      },
      "execution_count": null,
      "outputs": [
        {
          "output_type": "stream",
          "name": "stdout",
          "text": [
            "time: 1.39 ms (started: 2024-06-28 07:19:00 +00:00)\n"
          ]
        }
      ]
    },
    {
      "cell_type": "code",
      "source": [
        "print_metrics(y_test_e,y_pred)"
      ],
      "metadata": {
        "colab": {
          "base_uri": "https://localhost:8080/",
          "height": 536
        },
        "id": "6hAtcQBltjse",
        "outputId": "0e73afd6-3266-46a6-bd96-86c16f5d38ed"
      },
      "execution_count": null,
      "outputs": [
        {
          "output_type": "stream",
          "name": "stdout",
          "text": [
            "accuracy 0.967\n",
            "recall 0.941699604743083\n",
            "precision 0.9927083333333333\n",
            "f1_score 0.9665314401622718\n"
          ]
        },
        {
          "output_type": "display_data",
          "data": {
            "text/plain": [
              "<Figure size 640x480 with 1 Axes>"
            ],
            "image/png": "[encoded data removed]"
          },
          "metadata": {}
        },
        {
          "output_type": "stream",
          "name": "stdout",
          "text": [
            "time: 384 ms (started: 2024-06-28 07:19:09 +00:00)\n"
          ]
        }
      ]
    },
    {
      "cell_type": "code",
      "source": [],
      "metadata": {
        "id": "r1OBbGSgGQyl"
      },
      "execution_count": null,
      "outputs": []
    }
  ]
}