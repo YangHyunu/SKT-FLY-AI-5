{
  "nbformat": 4,
  "nbformat_minor": 0,
  "metadata": {
    "colab": {
      "provenance": [],
      "mount_file_id": "1HBavs3ofLsdE-iT8jGKRpMnvGCPFt4yF",
      "authorship_tag": "ABX9TyOMh9yHF00tuq25OYTpXaLi",
      "include_colab_link": true
    },
    "kernelspec": {
      "name": "python3",
      "display_name": "Python 3"
    },
    "language_info": {
      "name": "python"
    }
  },
  "cells": [
    {
      "cell_type": "markdown",
      "metadata": {
        "id": "view-in-github",
        "colab_type": "text"
      },
      "source": [
        "<a href=\"https://colab.research.google.com/github/YangHyunu/Signiture/blob/main/10_nn_lr_autompg.ipynb\" target=\"_parent\"><img src=\"https://colab.research.google.com/assets/colab-badge.svg\" alt=\"Open In Colab\"/></a>"
      ]
    },
    {
      "cell_type": "markdown",
      "source": [
        "## 데이터 불러오기\n",
        "-선형회귀 , 자동차 연비 데이터"
      ],
      "metadata": {
        "id": "2iHS5uMfHulc"
      }
    },
    {
      "cell_type": "code",
      "source": [
        "cd /content/drive/MyDrive/Colab Notebooks/Github/Signiture"
      ],
      "metadata": {
        "colab": {
          "base_uri": "https://localhost:8080/"
        },
        "id": "Pp0b3i98EEWv",
        "outputId": "7490c9d9-dc8f-47ac-c44a-94ce3baa9865"
      },
      "execution_count": 35,
      "outputs": [
        {
          "output_type": "stream",
          "name": "stdout",
          "text": [
            "/content/drive/MyDrive/Colab Notebooks/Github/Signiture\n"
          ]
        }
      ]
    },
    {
      "cell_type": "code",
      "source": [
        "!git config --global user.email 'prop30909@gmail.com'\n",
        "!git config --global user.name 'YangHyunu'"
      ],
      "metadata": {
        "id": "mY4WvcB183q1"
      },
      "execution_count": 36,
      "outputs": []
    },
    {
      "cell_type": "code",
      "source": [
        "!git add 10_nn_lr_autompg.ipynb\n",
        "!git commit -m \"Connect Google Colab and Drive\""
      ],
      "metadata": {
        "id": "_FxWgiJT9Lwx",
        "colab": {
          "base_uri": "https://localhost:8080/"
        },
        "outputId": "463a5c40-0a67-417b-b68b-71f0c3eae3b7"
      },
      "execution_count": 37,
      "outputs": [
        {
          "output_type": "stream",
          "name": "stdout",
          "text": [
            "[main d1e0c68] Connect Google Colab and Drive\n",
            " 1 file changed, 1 insertion(+)\n",
            " create mode 100644 10_nn_lr_autompg.ipynb\n"
          ]
        }
      ]
    },
    {
      "cell_type": "code",
      "source": [
        "!git push -u origin main"
      ],
      "metadata": {
        "id": "5826erX6Dk_e",
        "colab": {
          "base_uri": "https://localhost:8080/"
        },
        "outputId": "d10a82d1-72af-417b-ef1e-9f132af3a11a"
      },
      "execution_count": 38,
      "outputs": [
        {
          "output_type": "stream",
          "name": "stdout",
          "text": [
            "To https://github.com/YangHyunu/Signiture.git\n",
            " \u001b[31m! [rejected]       \u001b[m main -> main (fetch first)\n",
            "\u001b[31merror: failed to push some refs to 'https://github.com/YangHyunu/Signiture.git'\n",
            "\u001b[m\u001b[33mhint: Updates were rejected because the remote contains work that you do\u001b[m\n",
            "\u001b[33mhint: not have locally. This is usually caused by another repository pushing\u001b[m\n",
            "\u001b[33mhint: to the same ref. You may want to first integrate the remote changes\u001b[m\n",
            "\u001b[33mhint: (e.g., 'git pull ...') before pushing again.\u001b[m\n",
            "\u001b[33mhint: See the 'Note about fast-forwards' in 'git push --help' for details.\u001b[m\n"
          ]
        }
      ]
    },
    {
      "cell_type": "code",
      "source": [
        "pip install --q ipython-autotime"
      ],
      "metadata": {
        "id": "gfv6Ko25IM9O",
        "collapsed": true
      },
      "execution_count": null,
      "outputs": []
    },
    {
      "cell_type": "code",
      "source": [
        "import tensorflow as tf\n",
        "import keras\n",
        "import pandas as pd\n",
        "import numpy as np"
      ],
      "metadata": {
        "id": "x1xCoDTKIUPb"
      },
      "execution_count": null,
      "outputs": []
    },
    {
      "cell_type": "code",
      "source": [
        "! wget https://raw.githubusercontent.com/devdio/flyai_datasets/main/auto-mpg.csv"
      ],
      "metadata": {
        "colab": {
          "base_uri": "https://localhost:8080/"
        },
        "id": "RCLQxN6YIA4s",
        "outputId": "59ba91b5-1a04-472c-db4a-366e4c8ae602"
      },
      "execution_count": null,
      "outputs": [
        {
          "output_type": "stream",
          "name": "stdout",
          "text": [
            "--2024-07-07 06:22:28--  https://raw.githubusercontent.com/devdio/flyai_datasets/main/auto-mpg.csv\n",
            "Resolving raw.githubusercontent.com (raw.githubusercontent.com)... 185.199.111.133, 185.199.110.133, 185.199.108.133, ...\n",
            "Connecting to raw.githubusercontent.com (raw.githubusercontent.com)|185.199.111.133|:443... connected.\n",
            "HTTP request sent, awaiting response... 200 OK\n",
            "Length: 18131 (18K) [text/plain]\n",
            "Saving to: ‘auto-mpg.csv.3’\n",
            "\n",
            "\rauto-mpg.csv.3        0%[                    ]       0  --.-KB/s               \rauto-mpg.csv.3      100%[===================>]  17.71K  --.-KB/s    in 0.001s  \n",
            "\n",
            "2024-07-07 06:22:28 (26.6 MB/s) - ‘auto-mpg.csv.3’ saved [18131/18131]\n",
            "\n"
          ]
        }
      ]
    },
    {
      "cell_type": "code",
      "source": [
        "auto = pd.read_csv('auto-mpg.csv')"
      ],
      "metadata": {
        "id": "6NEBg3f2IruI"
      },
      "execution_count": null,
      "outputs": []
    },
    {
      "cell_type": "code",
      "source": [
        "auto.shape"
      ],
      "metadata": {
        "colab": {
          "base_uri": "https://localhost:8080/"
        },
        "id": "k79JJN9EI0ys",
        "outputId": "19d7bf60-2f48-44f6-a2ed-171868000ca7"
      },
      "execution_count": null,
      "outputs": [
        {
          "output_type": "execute_result",
          "data": {
            "text/plain": [
              "(398, 9)"
            ]
          },
          "metadata": {},
          "execution_count": 74
        }
      ]
    },
    {
      "cell_type": "code",
      "source": [
        "auto.head()"
      ],
      "metadata": {
        "colab": {
          "base_uri": "https://localhost:8080/",
          "height": 206
        },
        "id": "I1MswSBaI3VW",
        "outputId": "a73a906b-931f-4b7a-b7e7-9b37268d5fa6"
      },
      "execution_count": null,
      "outputs": [
        {
          "output_type": "execute_result",
          "data": {
            "text/plain": [
              "    mpg  cylinders  displacement horsepower  weight  acceleration  model year  \\\n",
              "0  18.0          8         307.0        130    3504          12.0          70   \n",
              "1  15.0          8         350.0        165    3693          11.5          70   \n",
              "2  18.0          8         318.0        150    3436          11.0          70   \n",
              "3  16.0          8         304.0        150    3433          12.0          70   \n",
              "4  17.0          8         302.0        140    3449          10.5          70   \n",
              "\n",
              "   origin                   car name  \n",
              "0       1  chevrolet chevelle malibu  \n",
              "1       1          buick skylark 320  \n",
              "2       1         plymouth satellite  \n",
              "3       1              amc rebel sst  \n",
              "4       1                ford torino  "
            ],
            "text/html": [
              "\n",
              "  <div id=\"df-295c0404-46a9-4633-8d42-00890ad150be\" class=\"colab-df-container\">\n",
              "    <div>\n",
              "<style scoped>\n",
              "    .dataframe tbody tr th:only-of-type {\n",
              "        vertical-align: middle;\n",
              "    }\n",
              "\n",
              "    .dataframe tbody tr th {\n",
              "        vertical-align: top;\n",
              "    }\n",
              "\n",
              "    .dataframe thead th {\n",
              "        text-align: right;\n",
              "    }\n",
              "</style>\n",
              "<table border=\"1\" class=\"dataframe\">\n",
              "  <thead>\n",
              "    <tr style=\"text-align: right;\">\n",
              "      <th></th>\n",
              "      <th>mpg</th>\n",
              "      <th>cylinders</th>\n",
              "      <th>displacement</th>\n",
              "      <th>horsepower</th>\n",
              "      <th>weight</th>\n",
              "      <th>acceleration</th>\n",
              "      <th>model year</th>\n",
              "      <th>origin</th>\n",
              "      <th>car name</th>\n",
              "    </tr>\n",
              "  </thead>\n",
              "  <tbody>\n",
              "    <tr>\n",
              "      <th>0</th>\n",
              "      <td>18.0</td>\n",
              "      <td>8</td>\n",
              "      <td>307.0</td>\n",
              "      <td>130</td>\n",
              "      <td>3504</td>\n",
              "      <td>12.0</td>\n",
              "      <td>70</td>\n",
              "      <td>1</td>\n",
              "      <td>chevrolet chevelle malibu</td>\n",
              "    </tr>\n",
              "    <tr>\n",
              "      <th>1</th>\n",
              "      <td>15.0</td>\n",
              "      <td>8</td>\n",
              "      <td>350.0</td>\n",
              "      <td>165</td>\n",
              "      <td>3693</td>\n",
              "      <td>11.5</td>\n",
              "      <td>70</td>\n",
              "      <td>1</td>\n",
              "      <td>buick skylark 320</td>\n",
              "    </tr>\n",
              "    <tr>\n",
              "      <th>2</th>\n",
              "      <td>18.0</td>\n",
              "      <td>8</td>\n",
              "      <td>318.0</td>\n",
              "      <td>150</td>\n",
              "      <td>3436</td>\n",
              "      <td>11.0</td>\n",
              "      <td>70</td>\n",
              "      <td>1</td>\n",
              "      <td>plymouth satellite</td>\n",
              "    </tr>\n",
              "    <tr>\n",
              "      <th>3</th>\n",
              "      <td>16.0</td>\n",
              "      <td>8</td>\n",
              "      <td>304.0</td>\n",
              "      <td>150</td>\n",
              "      <td>3433</td>\n",
              "      <td>12.0</td>\n",
              "      <td>70</td>\n",
              "      <td>1</td>\n",
              "      <td>amc rebel sst</td>\n",
              "    </tr>\n",
              "    <tr>\n",
              "      <th>4</th>\n",
              "      <td>17.0</td>\n",
              "      <td>8</td>\n",
              "      <td>302.0</td>\n",
              "      <td>140</td>\n",
              "      <td>3449</td>\n",
              "      <td>10.5</td>\n",
              "      <td>70</td>\n",
              "      <td>1</td>\n",
              "      <td>ford torino</td>\n",
              "    </tr>\n",
              "  </tbody>\n",
              "</table>\n",
              "</div>\n",
              "    <div class=\"colab-df-buttons\">\n",
              "\n",
              "  <div class=\"colab-df-container\">\n",
              "    <button class=\"colab-df-convert\" onclick=\"convertToInteractive('df-295c0404-46a9-4633-8d42-00890ad150be')\"\n",
              "            title=\"Convert this dataframe to an interactive table.\"\n",
              "            style=\"display:none;\">\n",
              "\n",
              "  <svg xmlns=\"http://www.w3.org/2000/svg\" height=\"24px\" viewBox=\"0 -960 960 960\">\n",
              "    <path d=\"M120-120v-720h720v720H120Zm60-500h600v-160H180v160Zm220 220h160v-160H400v160Zm0 220h160v-160H400v160ZM180-400h160v-160H180v160Zm440 0h160v-160H620v160ZM180-180h160v-160H180v160Zm440 0h160v-160H620v160Z\"/>\n",
              "  </svg>\n",
              "    </button>\n",
              "\n",
              "  <style>\n",
              "    .colab-df-container {\n",
              "      display:flex;\n",
              "      gap: 12px;\n",
              "    }\n",
              "\n",
              "    .colab-df-convert {\n",
              "      background-color: #E8F0FE;\n",
              "      border: none;\n",
              "      border-radius: 50%;\n",
              "      cursor: pointer;\n",
              "      display: none;\n",
              "      fill: #1967D2;\n",
              "      height: 32px;\n",
              "      padding: 0 0 0 0;\n",
              "      width: 32px;\n",
              "    }\n",
              "\n",
              "    .colab-df-convert:hover {\n",
              "      background-color: #E2EBFA;\n",
              "      box-shadow: 0px 1px 2px rgba(60, 64, 67, 0.3), 0px 1px 3px 1px rgba(60, 64, 67, 0.15);\n",
              "      fill: #174EA6;\n",
              "    }\n",
              "\n",
              "    .colab-df-buttons div {\n",
              "      margin-bottom: 4px;\n",
              "    }\n",
              "\n",
              "    [theme=dark] .colab-df-convert {\n",
              "      background-color: #3B4455;\n",
              "      fill: #D2E3FC;\n",
              "    }\n",
              "\n",
              "    [theme=dark] .colab-df-convert:hover {\n",
              "      background-color: #434B5C;\n",
              "      box-shadow: 0px 1px 3px 1px rgba(0, 0, 0, 0.15);\n",
              "      filter: drop-shadow(0px 1px 2px rgba(0, 0, 0, 0.3));\n",
              "      fill: #FFFFFF;\n",
              "    }\n",
              "  </style>\n",
              "\n",
              "    <script>\n",
              "      const buttonEl =\n",
              "        document.querySelector('#df-295c0404-46a9-4633-8d42-00890ad150be button.colab-df-convert');\n",
              "      buttonEl.style.display =\n",
              "        google.colab.kernel.accessAllowed ? 'block' : 'none';\n",
              "\n",
              "      async function convertToInteractive(key) {\n",
              "        const element = document.querySelector('#df-295c0404-46a9-4633-8d42-00890ad150be');\n",
              "        const dataTable =\n",
              "          await google.colab.kernel.invokeFunction('convertToInteractive',\n",
              "                                                    [key], {});\n",
              "        if (!dataTable) return;\n",
              "\n",
              "        const docLinkHtml = 'Like what you see? Visit the ' +\n",
              "          '<a target=\"_blank\" href=https://colab.research.google.com/notebooks/data_table.ipynb>data table notebook</a>'\n",
              "          + ' to learn more about interactive tables.';\n",
              "        element.innerHTML = '';\n",
              "        dataTable['output_type'] = 'display_data';\n",
              "        await google.colab.output.renderOutput(dataTable, element);\n",
              "        const docLink = document.createElement('div');\n",
              "        docLink.innerHTML = docLinkHtml;\n",
              "        element.appendChild(docLink);\n",
              "      }\n",
              "    </script>\n",
              "  </div>\n",
              "\n",
              "\n",
              "<div id=\"df-19a7699a-a7c4-42d4-9b76-bb86f94cd4d0\">\n",
              "  <button class=\"colab-df-quickchart\" onclick=\"quickchart('df-19a7699a-a7c4-42d4-9b76-bb86f94cd4d0')\"\n",
              "            title=\"Suggest charts\"\n",
              "            style=\"display:none;\">\n",
              "\n",
              "<svg xmlns=\"http://www.w3.org/2000/svg\" height=\"24px\"viewBox=\"0 0 24 24\"\n",
              "     width=\"24px\">\n",
              "    <g>\n",
              "        <path d=\"M19 3H5c-1.1 0-2 .9-2 2v14c0 1.1.9 2 2 2h14c1.1 0 2-.9 2-2V5c0-1.1-.9-2-2-2zM9 17H7v-7h2v7zm4 0h-2V7h2v10zm4 0h-2v-4h2v4z\"/>\n",
              "    </g>\n",
              "</svg>\n",
              "  </button>\n",
              "\n",
              "<style>\n",
              "  .colab-df-quickchart {\n",
              "      --bg-color: #E8F0FE;\n",
              "      --fill-color: #1967D2;\n",
              "      --hover-bg-color: #E2EBFA;\n",
              "      --hover-fill-color: #174EA6;\n",
              "      --disabled-fill-color: #AAA;\n",
              "      --disabled-bg-color: #DDD;\n",
              "  }\n",
              "\n",
              "  [theme=dark] .colab-df-quickchart {\n",
              "      --bg-color: #3B4455;\n",
              "      --fill-color: #D2E3FC;\n",
              "      --hover-bg-color: #434B5C;\n",
              "      --hover-fill-color: #FFFFFF;\n",
              "      --disabled-bg-color: #3B4455;\n",
              "      --disabled-fill-color: #666;\n",
              "  }\n",
              "\n",
              "  .colab-df-quickchart {\n",
              "    background-color: var(--bg-color);\n",
              "    border: none;\n",
              "    border-radius: 50%;\n",
              "    cursor: pointer;\n",
              "    display: none;\n",
              "    fill: var(--fill-color);\n",
              "    height: 32px;\n",
              "    padding: 0;\n",
              "    width: 32px;\n",
              "  }\n",
              "\n",
              "  .colab-df-quickchart:hover {\n",
              "    background-color: var(--hover-bg-color);\n",
              "    box-shadow: 0 1px 2px rgba(60, 64, 67, 0.3), 0 1px 3px 1px rgba(60, 64, 67, 0.15);\n",
              "    fill: var(--button-hover-fill-color);\n",
              "  }\n",
              "\n",
              "  .colab-df-quickchart-complete:disabled,\n",
              "  .colab-df-quickchart-complete:disabled:hover {\n",
              "    background-color: var(--disabled-bg-color);\n",
              "    fill: var(--disabled-fill-color);\n",
              "    box-shadow: none;\n",
              "  }\n",
              "\n",
              "  .colab-df-spinner {\n",
              "    border: 2px solid var(--fill-color);\n",
              "    border-color: transparent;\n",
              "    border-bottom-color: var(--fill-color);\n",
              "    animation:\n",
              "      spin 1s steps(1) infinite;\n",
              "  }\n",
              "\n",
              "  @keyframes spin {\n",
              "    0% {\n",
              "      border-color: transparent;\n",
              "      border-bottom-color: var(--fill-color);\n",
              "      border-left-color: var(--fill-color);\n",
              "    }\n",
              "    20% {\n",
              "      border-color: transparent;\n",
              "      border-left-color: var(--fill-color);\n",
              "      border-top-color: var(--fill-color);\n",
              "    }\n",
              "    30% {\n",
              "      border-color: transparent;\n",
              "      border-left-color: var(--fill-color);\n",
              "      border-top-color: var(--fill-color);\n",
              "      border-right-color: var(--fill-color);\n",
              "    }\n",
              "    40% {\n",
              "      border-color: transparent;\n",
              "      border-right-color: var(--fill-color);\n",
              "      border-top-color: var(--fill-color);\n",
              "    }\n",
              "    60% {\n",
              "      border-color: transparent;\n",
              "      border-right-color: var(--fill-color);\n",
              "    }\n",
              "    80% {\n",
              "      border-color: transparent;\n",
              "      border-right-color: var(--fill-color);\n",
              "      border-bottom-color: var(--fill-color);\n",
              "    }\n",
              "    90% {\n",
              "      border-color: transparent;\n",
              "      border-bottom-color: var(--fill-color);\n",
              "    }\n",
              "  }\n",
              "</style>\n",
              "\n",
              "  <script>\n",
              "    async function quickchart(key) {\n",
              "      const quickchartButtonEl =\n",
              "        document.querySelector('#' + key + ' button');\n",
              "      quickchartButtonEl.disabled = true;  // To prevent multiple clicks.\n",
              "      quickchartButtonEl.classList.add('colab-df-spinner');\n",
              "      try {\n",
              "        const charts = await google.colab.kernel.invokeFunction(\n",
              "            'suggestCharts', [key], {});\n",
              "      } catch (error) {\n",
              "        console.error('Error during call to suggestCharts:', error);\n",
              "      }\n",
              "      quickchartButtonEl.classList.remove('colab-df-spinner');\n",
              "      quickchartButtonEl.classList.add('colab-df-quickchart-complete');\n",
              "    }\n",
              "    (() => {\n",
              "      let quickchartButtonEl =\n",
              "        document.querySelector('#df-19a7699a-a7c4-42d4-9b76-bb86f94cd4d0 button');\n",
              "      quickchartButtonEl.style.display =\n",
              "        google.colab.kernel.accessAllowed ? 'block' : 'none';\n",
              "    })();\n",
              "  </script>\n",
              "</div>\n",
              "\n",
              "    </div>\n",
              "  </div>\n"
            ],
            "application/vnd.google.colaboratory.intrinsic+json": {
              "type": "dataframe",
              "variable_name": "auto",
              "summary": "{\n  \"name\": \"auto\",\n  \"rows\": 398,\n  \"fields\": [\n    {\n      \"column\": \"mpg\",\n      \"properties\": {\n        \"dtype\": \"number\",\n        \"std\": 7.815984312565782,\n        \"min\": 9.0,\n        \"max\": 46.6,\n        \"num_unique_values\": 129,\n        \"samples\": [\n          17.7,\n          30.5,\n          30.0\n        ],\n        \"semantic_type\": \"\",\n        \"description\": \"\"\n      }\n    },\n    {\n      \"column\": \"cylinders\",\n      \"properties\": {\n        \"dtype\": \"number\",\n        \"std\": 1,\n        \"min\": 3,\n        \"max\": 8,\n        \"num_unique_values\": 5,\n        \"samples\": [\n          4,\n          5,\n          6\n        ],\n        \"semantic_type\": \"\",\n        \"description\": \"\"\n      }\n    },\n    {\n      \"column\": \"displacement\",\n      \"properties\": {\n        \"dtype\": \"number\",\n        \"std\": 104.26983817119591,\n        \"min\": 68.0,\n        \"max\": 455.0,\n        \"num_unique_values\": 82,\n        \"samples\": [\n          122.0,\n          307.0,\n          360.0\n        ],\n        \"semantic_type\": \"\",\n        \"description\": \"\"\n      }\n    },\n    {\n      \"column\": \"horsepower\",\n      \"properties\": {\n        \"dtype\": \"category\",\n        \"num_unique_values\": 94,\n        \"samples\": [\n          \"112\",\n          \"?\",\n          \"78\"\n        ],\n        \"semantic_type\": \"\",\n        \"description\": \"\"\n      }\n    },\n    {\n      \"column\": \"weight\",\n      \"properties\": {\n        \"dtype\": \"number\",\n        \"std\": 846,\n        \"min\": 1613,\n        \"max\": 5140,\n        \"num_unique_values\": 351,\n        \"samples\": [\n          3730,\n          1995,\n          2215\n        ],\n        \"semantic_type\": \"\",\n        \"description\": \"\"\n      }\n    },\n    {\n      \"column\": \"acceleration\",\n      \"properties\": {\n        \"dtype\": \"number\",\n        \"std\": 2.757688929812676,\n        \"min\": 8.0,\n        \"max\": 24.8,\n        \"num_unique_values\": 95,\n        \"samples\": [\n          14.7,\n          18.0,\n          14.3\n        ],\n        \"semantic_type\": \"\",\n        \"description\": \"\"\n      }\n    },\n    {\n      \"column\": \"model year\",\n      \"properties\": {\n        \"dtype\": \"number\",\n        \"std\": 3,\n        \"min\": 70,\n        \"max\": 82,\n        \"num_unique_values\": 13,\n        \"samples\": [\n          81,\n          79,\n          70\n        ],\n        \"semantic_type\": \"\",\n        \"description\": \"\"\n      }\n    },\n    {\n      \"column\": \"origin\",\n      \"properties\": {\n        \"dtype\": \"number\",\n        \"std\": 0,\n        \"min\": 1,\n        \"max\": 3,\n        \"num_unique_values\": 3,\n        \"samples\": [\n          1,\n          3,\n          2\n        ],\n        \"semantic_type\": \"\",\n        \"description\": \"\"\n      }\n    },\n    {\n      \"column\": \"car name\",\n      \"properties\": {\n        \"dtype\": \"string\",\n        \"num_unique_values\": 305,\n        \"samples\": [\n          \"mazda rx-4\",\n          \"ford f108\",\n          \"buick century luxus (sw)\"\n        ],\n        \"semantic_type\": \"\",\n        \"description\": \"\"\n      }\n    }\n  ]\n}"
            }
          },
          "metadata": {},
          "execution_count": 75
        }
      ]
    },
    {
      "cell_type": "code",
      "source": [
        "auto.info()"
      ],
      "metadata": {
        "colab": {
          "base_uri": "https://localhost:8080/"
        },
        "id": "POdkgHEdI4e4",
        "outputId": "412bff2d-1619-4580-f32c-5ec9110482d9"
      },
      "execution_count": null,
      "outputs": [
        {
          "output_type": "stream",
          "name": "stdout",
          "text": [
            "<class 'pandas.core.frame.DataFrame'>\n",
            "RangeIndex: 398 entries, 0 to 397\n",
            "Data columns (total 9 columns):\n",
            " #   Column        Non-Null Count  Dtype  \n",
            "---  ------        --------------  -----  \n",
            " 0   mpg           398 non-null    float64\n",
            " 1   cylinders     398 non-null    int64  \n",
            " 2   displacement  398 non-null    float64\n",
            " 3   horsepower    398 non-null    object \n",
            " 4   weight        398 non-null    int64  \n",
            " 5   acceleration  398 non-null    float64\n",
            " 6   model year    398 non-null    int64  \n",
            " 7   origin        398 non-null    int64  \n",
            " 8   car name      398 non-null    object \n",
            "dtypes: float64(3), int64(4), object(2)\n",
            "memory usage: 28.1+ KB\n"
          ]
        }
      ]
    },
    {
      "cell_type": "code",
      "source": [
        "auto.columns=[i.replace(' ','_') for i in auto.columns]"
      ],
      "metadata": {
        "id": "eXd6C1M3I5et"
      },
      "execution_count": null,
      "outputs": []
    },
    {
      "cell_type": "code",
      "source": [],
      "metadata": {
        "id": "IpPViPeBsl-r"
      },
      "execution_count": null,
      "outputs": []
    },
    {
      "cell_type": "code",
      "source": [
        "auto.head()"
      ],
      "metadata": {
        "colab": {
          "base_uri": "https://localhost:8080/",
          "height": 206
        },
        "id": "xIi_UlPzJTp7",
        "outputId": "89c56559-1471-4d67-c3fd-b08481320286"
      },
      "execution_count": null,
      "outputs": [
        {
          "output_type": "execute_result",
          "data": {
            "text/plain": [
              "    mpg  cylinders  displacement horsepower  weight  acceleration  model_year  \\\n",
              "0  18.0          8         307.0        130    3504          12.0          70   \n",
              "1  15.0          8         350.0        165    3693          11.5          70   \n",
              "2  18.0          8         318.0        150    3436          11.0          70   \n",
              "3  16.0          8         304.0        150    3433          12.0          70   \n",
              "4  17.0          8         302.0        140    3449          10.5          70   \n",
              "\n",
              "   origin                   car_name  \n",
              "0       1  chevrolet chevelle malibu  \n",
              "1       1          buick skylark 320  \n",
              "2       1         plymouth satellite  \n",
              "3       1              amc rebel sst  \n",
              "4       1                ford torino  "
            ],
            "text/html": [
              "\n",
              "  <div id=\"df-feec809b-6274-4ab8-968c-7be3e48140bb\" class=\"colab-df-container\">\n",
              "    <div>\n",
              "<style scoped>\n",
              "    .dataframe tbody tr th:only-of-type {\n",
              "        vertical-align: middle;\n",
              "    }\n",
              "\n",
              "    .dataframe tbody tr th {\n",
              "        vertical-align: top;\n",
              "    }\n",
              "\n",
              "    .dataframe thead th {\n",
              "        text-align: right;\n",
              "    }\n",
              "</style>\n",
              "<table border=\"1\" class=\"dataframe\">\n",
              "  <thead>\n",
              "    <tr style=\"text-align: right;\">\n",
              "      <th></th>\n",
              "      <th>mpg</th>\n",
              "      <th>cylinders</th>\n",
              "      <th>displacement</th>\n",
              "      <th>horsepower</th>\n",
              "      <th>weight</th>\n",
              "      <th>acceleration</th>\n",
              "      <th>model_year</th>\n",
              "      <th>origin</th>\n",
              "      <th>car_name</th>\n",
              "    </tr>\n",
              "  </thead>\n",
              "  <tbody>\n",
              "    <tr>\n",
              "      <th>0</th>\n",
              "      <td>18.0</td>\n",
              "      <td>8</td>\n",
              "      <td>307.0</td>\n",
              "      <td>130</td>\n",
              "      <td>3504</td>\n",
              "      <td>12.0</td>\n",
              "      <td>70</td>\n",
              "      <td>1</td>\n",
              "      <td>chevrolet chevelle malibu</td>\n",
              "    </tr>\n",
              "    <tr>\n",
              "      <th>1</th>\n",
              "      <td>15.0</td>\n",
              "      <td>8</td>\n",
              "      <td>350.0</td>\n",
              "      <td>165</td>\n",
              "      <td>3693</td>\n",
              "      <td>11.5</td>\n",
              "      <td>70</td>\n",
              "      <td>1</td>\n",
              "      <td>buick skylark 320</td>\n",
              "    </tr>\n",
              "    <tr>\n",
              "      <th>2</th>\n",
              "      <td>18.0</td>\n",
              "      <td>8</td>\n",
              "      <td>318.0</td>\n",
              "      <td>150</td>\n",
              "      <td>3436</td>\n",
              "      <td>11.0</td>\n",
              "      <td>70</td>\n",
              "      <td>1</td>\n",
              "      <td>plymouth satellite</td>\n",
              "    </tr>\n",
              "    <tr>\n",
              "      <th>3</th>\n",
              "      <td>16.0</td>\n",
              "      <td>8</td>\n",
              "      <td>304.0</td>\n",
              "      <td>150</td>\n",
              "      <td>3433</td>\n",
              "      <td>12.0</td>\n",
              "      <td>70</td>\n",
              "      <td>1</td>\n",
              "      <td>amc rebel sst</td>\n",
              "    </tr>\n",
              "    <tr>\n",
              "      <th>4</th>\n",
              "      <td>17.0</td>\n",
              "      <td>8</td>\n",
              "      <td>302.0</td>\n",
              "      <td>140</td>\n",
              "      <td>3449</td>\n",
              "      <td>10.5</td>\n",
              "      <td>70</td>\n",
              "      <td>1</td>\n",
              "      <td>ford torino</td>\n",
              "    </tr>\n",
              "  </tbody>\n",
              "</table>\n",
              "</div>\n",
              "    <div class=\"colab-df-buttons\">\n",
              "\n",
              "  <div class=\"colab-df-container\">\n",
              "    <button class=\"colab-df-convert\" onclick=\"convertToInteractive('df-feec809b-6274-4ab8-968c-7be3e48140bb')\"\n",
              "            title=\"Convert this dataframe to an interactive table.\"\n",
              "            style=\"display:none;\">\n",
              "\n",
              "  <svg xmlns=\"http://www.w3.org/2000/svg\" height=\"24px\" viewBox=\"0 -960 960 960\">\n",
              "    <path d=\"M120-120v-720h720v720H120Zm60-500h600v-160H180v160Zm220 220h160v-160H400v160Zm0 220h160v-160H400v160ZM180-400h160v-160H180v160Zm440 0h160v-160H620v160ZM180-180h160v-160H180v160Zm440 0h160v-160H620v160Z\"/>\n",
              "  </svg>\n",
              "    </button>\n",
              "\n",
              "  <style>\n",
              "    .colab-df-container {\n",
              "      display:flex;\n",
              "      gap: 12px;\n",
              "    }\n",
              "\n",
              "    .colab-df-convert {\n",
              "      background-color: #E8F0FE;\n",
              "      border: none;\n",
              "      border-radius: 50%;\n",
              "      cursor: pointer;\n",
              "      display: none;\n",
              "      fill: #1967D2;\n",
              "      height: 32px;\n",
              "      padding: 0 0 0 0;\n",
              "      width: 32px;\n",
              "    }\n",
              "\n",
              "    .colab-df-convert:hover {\n",
              "      background-color: #E2EBFA;\n",
              "      box-shadow: 0px 1px 2px rgba(60, 64, 67, 0.3), 0px 1px 3px 1px rgba(60, 64, 67, 0.15);\n",
              "      fill: #174EA6;\n",
              "    }\n",
              "\n",
              "    .colab-df-buttons div {\n",
              "      margin-bottom: 4px;\n",
              "    }\n",
              "\n",
              "    [theme=dark] .colab-df-convert {\n",
              "      background-color: #3B4455;\n",
              "      fill: #D2E3FC;\n",
              "    }\n",
              "\n",
              "    [theme=dark] .colab-df-convert:hover {\n",
              "      background-color: #434B5C;\n",
              "      box-shadow: 0px 1px 3px 1px rgba(0, 0, 0, 0.15);\n",
              "      filter: drop-shadow(0px 1px 2px rgba(0, 0, 0, 0.3));\n",
              "      fill: #FFFFFF;\n",
              "    }\n",
              "  </style>\n",
              "\n",
              "    <script>\n",
              "      const buttonEl =\n",
              "        document.querySelector('#df-feec809b-6274-4ab8-968c-7be3e48140bb button.colab-df-convert');\n",
              "      buttonEl.style.display =\n",
              "        google.colab.kernel.accessAllowed ? 'block' : 'none';\n",
              "\n",
              "      async function convertToInteractive(key) {\n",
              "        const element = document.querySelector('#df-feec809b-6274-4ab8-968c-7be3e48140bb');\n",
              "        const dataTable =\n",
              "          await google.colab.kernel.invokeFunction('convertToInteractive',\n",
              "                                                    [key], {});\n",
              "        if (!dataTable) return;\n",
              "\n",
              "        const docLinkHtml = 'Like what you see? Visit the ' +\n",
              "          '<a target=\"_blank\" href=https://colab.research.google.com/notebooks/data_table.ipynb>data table notebook</a>'\n",
              "          + ' to learn more about interactive tables.';\n",
              "        element.innerHTML = '';\n",
              "        dataTable['output_type'] = 'display_data';\n",
              "        await google.colab.output.renderOutput(dataTable, element);\n",
              "        const docLink = document.createElement('div');\n",
              "        docLink.innerHTML = docLinkHtml;\n",
              "        element.appendChild(docLink);\n",
              "      }\n",
              "    </script>\n",
              "  </div>\n",
              "\n",
              "\n",
              "<div id=\"df-d42f364b-9ec9-4768-ac84-b916eb8d44c7\">\n",
              "  <button class=\"colab-df-quickchart\" onclick=\"quickchart('df-d42f364b-9ec9-4768-ac84-b916eb8d44c7')\"\n",
              "            title=\"Suggest charts\"\n",
              "            style=\"display:none;\">\n",
              "\n",
              "<svg xmlns=\"http://www.w3.org/2000/svg\" height=\"24px\"viewBox=\"0 0 24 24\"\n",
              "     width=\"24px\">\n",
              "    <g>\n",
              "        <path d=\"M19 3H5c-1.1 0-2 .9-2 2v14c0 1.1.9 2 2 2h14c1.1 0 2-.9 2-2V5c0-1.1-.9-2-2-2zM9 17H7v-7h2v7zm4 0h-2V7h2v10zm4 0h-2v-4h2v4z\"/>\n",
              "    </g>\n",
              "</svg>\n",
              "  </button>\n",
              "\n",
              "<style>\n",
              "  .colab-df-quickchart {\n",
              "      --bg-color: #E8F0FE;\n",
              "      --fill-color: #1967D2;\n",
              "      --hover-bg-color: #E2EBFA;\n",
              "      --hover-fill-color: #174EA6;\n",
              "      --disabled-fill-color: #AAA;\n",
              "      --disabled-bg-color: #DDD;\n",
              "  }\n",
              "\n",
              "  [theme=dark] .colab-df-quickchart {\n",
              "      --bg-color: #3B4455;\n",
              "      --fill-color: #D2E3FC;\n",
              "      --hover-bg-color: #434B5C;\n",
              "      --hover-fill-color: #FFFFFF;\n",
              "      --disabled-bg-color: #3B4455;\n",
              "      --disabled-fill-color: #666;\n",
              "  }\n",
              "\n",
              "  .colab-df-quickchart {\n",
              "    background-color: var(--bg-color);\n",
              "    border: none;\n",
              "    border-radius: 50%;\n",
              "    cursor: pointer;\n",
              "    display: none;\n",
              "    fill: var(--fill-color);\n",
              "    height: 32px;\n",
              "    padding: 0;\n",
              "    width: 32px;\n",
              "  }\n",
              "\n",
              "  .colab-df-quickchart:hover {\n",
              "    background-color: var(--hover-bg-color);\n",
              "    box-shadow: 0 1px 2px rgba(60, 64, 67, 0.3), 0 1px 3px 1px rgba(60, 64, 67, 0.15);\n",
              "    fill: var(--button-hover-fill-color);\n",
              "  }\n",
              "\n",
              "  .colab-df-quickchart-complete:disabled,\n",
              "  .colab-df-quickchart-complete:disabled:hover {\n",
              "    background-color: var(--disabled-bg-color);\n",
              "    fill: var(--disabled-fill-color);\n",
              "    box-shadow: none;\n",
              "  }\n",
              "\n",
              "  .colab-df-spinner {\n",
              "    border: 2px solid var(--fill-color);\n",
              "    border-color: transparent;\n",
              "    border-bottom-color: var(--fill-color);\n",
              "    animation:\n",
              "      spin 1s steps(1) infinite;\n",
              "  }\n",
              "\n",
              "  @keyframes spin {\n",
              "    0% {\n",
              "      border-color: transparent;\n",
              "      border-bottom-color: var(--fill-color);\n",
              "      border-left-color: var(--fill-color);\n",
              "    }\n",
              "    20% {\n",
              "      border-color: transparent;\n",
              "      border-left-color: var(--fill-color);\n",
              "      border-top-color: var(--fill-color);\n",
              "    }\n",
              "    30% {\n",
              "      border-color: transparent;\n",
              "      border-left-color: var(--fill-color);\n",
              "      border-top-color: var(--fill-color);\n",
              "      border-right-color: var(--fill-color);\n",
              "    }\n",
              "    40% {\n",
              "      border-color: transparent;\n",
              "      border-right-color: var(--fill-color);\n",
              "      border-top-color: var(--fill-color);\n",
              "    }\n",
              "    60% {\n",
              "      border-color: transparent;\n",
              "      border-right-color: var(--fill-color);\n",
              "    }\n",
              "    80% {\n",
              "      border-color: transparent;\n",
              "      border-right-color: var(--fill-color);\n",
              "      border-bottom-color: var(--fill-color);\n",
              "    }\n",
              "    90% {\n",
              "      border-color: transparent;\n",
              "      border-bottom-color: var(--fill-color);\n",
              "    }\n",
              "  }\n",
              "</style>\n",
              "\n",
              "  <script>\n",
              "    async function quickchart(key) {\n",
              "      const quickchartButtonEl =\n",
              "        document.querySelector('#' + key + ' button');\n",
              "      quickchartButtonEl.disabled = true;  // To prevent multiple clicks.\n",
              "      quickchartButtonEl.classList.add('colab-df-spinner');\n",
              "      try {\n",
              "        const charts = await google.colab.kernel.invokeFunction(\n",
              "            'suggestCharts', [key], {});\n",
              "      } catch (error) {\n",
              "        console.error('Error during call to suggestCharts:', error);\n",
              "      }\n",
              "      quickchartButtonEl.classList.remove('colab-df-spinner');\n",
              "      quickchartButtonEl.classList.add('colab-df-quickchart-complete');\n",
              "    }\n",
              "    (() => {\n",
              "      let quickchartButtonEl =\n",
              "        document.querySelector('#df-d42f364b-9ec9-4768-ac84-b916eb8d44c7 button');\n",
              "      quickchartButtonEl.style.display =\n",
              "        google.colab.kernel.accessAllowed ? 'block' : 'none';\n",
              "    })();\n",
              "  </script>\n",
              "</div>\n",
              "\n",
              "    </div>\n",
              "  </div>\n"
            ],
            "application/vnd.google.colaboratory.intrinsic+json": {
              "type": "dataframe",
              "variable_name": "auto",
              "summary": "{\n  \"name\": \"auto\",\n  \"rows\": 398,\n  \"fields\": [\n    {\n      \"column\": \"mpg\",\n      \"properties\": {\n        \"dtype\": \"number\",\n        \"std\": 7.815984312565782,\n        \"min\": 9.0,\n        \"max\": 46.6,\n        \"num_unique_values\": 129,\n        \"samples\": [\n          17.7,\n          30.5,\n          30.0\n        ],\n        \"semantic_type\": \"\",\n        \"description\": \"\"\n      }\n    },\n    {\n      \"column\": \"cylinders\",\n      \"properties\": {\n        \"dtype\": \"number\",\n        \"std\": 1,\n        \"min\": 3,\n        \"max\": 8,\n        \"num_unique_values\": 5,\n        \"samples\": [\n          4,\n          5,\n          6\n        ],\n        \"semantic_type\": \"\",\n        \"description\": \"\"\n      }\n    },\n    {\n      \"column\": \"displacement\",\n      \"properties\": {\n        \"dtype\": \"number\",\n        \"std\": 104.26983817119591,\n        \"min\": 68.0,\n        \"max\": 455.0,\n        \"num_unique_values\": 82,\n        \"samples\": [\n          122.0,\n          307.0,\n          360.0\n        ],\n        \"semantic_type\": \"\",\n        \"description\": \"\"\n      }\n    },\n    {\n      \"column\": \"horsepower\",\n      \"properties\": {\n        \"dtype\": \"category\",\n        \"num_unique_values\": 94,\n        \"samples\": [\n          \"112\",\n          \"?\",\n          \"78\"\n        ],\n        \"semantic_type\": \"\",\n        \"description\": \"\"\n      }\n    },\n    {\n      \"column\": \"weight\",\n      \"properties\": {\n        \"dtype\": \"number\",\n        \"std\": 846,\n        \"min\": 1613,\n        \"max\": 5140,\n        \"num_unique_values\": 351,\n        \"samples\": [\n          3730,\n          1995,\n          2215\n        ],\n        \"semantic_type\": \"\",\n        \"description\": \"\"\n      }\n    },\n    {\n      \"column\": \"acceleration\",\n      \"properties\": {\n        \"dtype\": \"number\",\n        \"std\": 2.757688929812676,\n        \"min\": 8.0,\n        \"max\": 24.8,\n        \"num_unique_values\": 95,\n        \"samples\": [\n          14.7,\n          18.0,\n          14.3\n        ],\n        \"semantic_type\": \"\",\n        \"description\": \"\"\n      }\n    },\n    {\n      \"column\": \"model_year\",\n      \"properties\": {\n        \"dtype\": \"number\",\n        \"std\": 3,\n        \"min\": 70,\n        \"max\": 82,\n        \"num_unique_values\": 13,\n        \"samples\": [\n          81,\n          79,\n          70\n        ],\n        \"semantic_type\": \"\",\n        \"description\": \"\"\n      }\n    },\n    {\n      \"column\": \"origin\",\n      \"properties\": {\n        \"dtype\": \"number\",\n        \"std\": 0,\n        \"min\": 1,\n        \"max\": 3,\n        \"num_unique_values\": 3,\n        \"samples\": [\n          1,\n          3,\n          2\n        ],\n        \"semantic_type\": \"\",\n        \"description\": \"\"\n      }\n    },\n    {\n      \"column\": \"car_name\",\n      \"properties\": {\n        \"dtype\": \"string\",\n        \"num_unique_values\": 305,\n        \"samples\": [\n          \"mazda rx-4\",\n          \"ford f108\",\n          \"buick century luxus (sw)\"\n        ],\n        \"semantic_type\": \"\",\n        \"description\": \"\"\n      }\n    }\n  ]\n}"
            }
          },
          "metadata": {},
          "execution_count": 78
        }
      ]
    },
    {
      "cell_type": "code",
      "source": [
        "auto.isna().sum()"
      ],
      "metadata": {
        "colab": {
          "base_uri": "https://localhost:8080/"
        },
        "id": "omLyHpmnJbzT",
        "outputId": "b78bbc3b-f535-4497-c63a-9ca61c194afd"
      },
      "execution_count": null,
      "outputs": [
        {
          "output_type": "execute_result",
          "data": {
            "text/plain": [
              "mpg             0\n",
              "cylinders       0\n",
              "displacement    0\n",
              "horsepower      0\n",
              "weight          0\n",
              "acceleration    0\n",
              "model_year      0\n",
              "origin          0\n",
              "car_name        0\n",
              "dtype: int64"
            ]
          },
          "metadata": {},
          "execution_count": 79
        }
      ]
    },
    {
      "cell_type": "code",
      "source": [
        "#for column in auto.columns:\n",
        "  #auto[column] = pd.to_numeric(auto[column],errors='coerce')"
      ],
      "metadata": {
        "id": "b3CabMAOz3rq"
      },
      "execution_count": null,
      "outputs": []
    },
    {
      "cell_type": "code",
      "source": [
        "auto['horsepower'].value_counts()"
      ],
      "metadata": {
        "colab": {
          "base_uri": "https://localhost:8080/"
        },
        "id": "Izpnyv6zJUy-",
        "outputId": "988a363e-be78-4925-ce99-abfa3511b3e5"
      },
      "execution_count": null,
      "outputs": [
        {
          "output_type": "execute_result",
          "data": {
            "text/plain": [
              "horsepower\n",
              "150    22\n",
              "90     20\n",
              "88     19\n",
              "110    18\n",
              "100    17\n",
              "       ..\n",
              "61      1\n",
              "93      1\n",
              "148     1\n",
              "152     1\n",
              "82      1\n",
              "Name: count, Length: 94, dtype: int64"
            ]
          },
          "metadata": {},
          "execution_count": 81
        }
      ]
    },
    {
      "cell_type": "code",
      "source": [
        "auto['horsepower'].unique()"
      ],
      "metadata": {
        "colab": {
          "base_uri": "https://localhost:8080/"
        },
        "id": "BEk6HMkaJrKD",
        "outputId": "abceb51d-b76b-4e80-af27-18e692e92eb5"
      },
      "execution_count": null,
      "outputs": [
        {
          "output_type": "execute_result",
          "data": {
            "text/plain": [
              "array(['130', '165', '150', '140', '198', '220', '215', '225', '190',\n",
              "       '170', '160', '95', '97', '85', '88', '46', '87', '90', '113',\n",
              "       '200', '210', '193', '?', '100', '105', '175', '153', '180', '110',\n",
              "       '72', '86', '70', '76', '65', '69', '60', '80', '54', '208', '155',\n",
              "       '112', '92', '145', '137', '158', '167', '94', '107', '230', '49',\n",
              "       '75', '91', '122', '67', '83', '78', '52', '61', '93', '148',\n",
              "       '129', '96', '71', '98', '115', '53', '81', '79', '120', '152',\n",
              "       '102', '108', '68', '58', '149', '89', '63', '48', '66', '139',\n",
              "       '103', '125', '133', '138', '135', '142', '77', '62', '132', '84',\n",
              "       '64', '74', '116', '82'], dtype=object)"
            ]
          },
          "metadata": {},
          "execution_count": 82
        }
      ]
    },
    {
      "cell_type": "markdown",
      "source": [
        "'?'를 Nan값으로 변경"
      ],
      "metadata": {
        "id": "ttRpEQjoKVYE"
      }
    },
    {
      "cell_type": "code",
      "source": [
        "auto.loc[auto['horsepower']=='?','horsepower'] =np.nan"
      ],
      "metadata": {
        "id": "Z0CoFK9AJ5r8"
      },
      "execution_count": null,
      "outputs": []
    },
    {
      "cell_type": "code",
      "source": [
        "auto['horsepower'].unique()"
      ],
      "metadata": {
        "colab": {
          "base_uri": "https://localhost:8080/"
        },
        "id": "Hbtk_9VaKYKu",
        "outputId": "2ce527b1-19d7-4047-bf5b-c44fca0d0bd3"
      },
      "execution_count": null,
      "outputs": [
        {
          "output_type": "execute_result",
          "data": {
            "text/plain": [
              "array(['130', '165', '150', '140', '198', '220', '215', '225', '190',\n",
              "       '170', '160', '95', '97', '85', '88', '46', '87', '90', '113',\n",
              "       '200', '210', '193', nan, '100', '105', '175', '153', '180', '110',\n",
              "       '72', '86', '70', '76', '65', '69', '60', '80', '54', '208', '155',\n",
              "       '112', '92', '145', '137', '158', '167', '94', '107', '230', '49',\n",
              "       '75', '91', '122', '67', '83', '78', '52', '61', '93', '148',\n",
              "       '129', '96', '71', '98', '115', '53', '81', '79', '120', '152',\n",
              "       '102', '108', '68', '58', '149', '89', '63', '48', '66', '139',\n",
              "       '103', '125', '133', '138', '135', '142', '77', '62', '132', '84',\n",
              "       '64', '74', '116', '82'], dtype=object)"
            ]
          },
          "metadata": {},
          "execution_count": 84
        }
      ]
    },
    {
      "cell_type": "code",
      "source": [
        "auto.isna().sum()"
      ],
      "metadata": {
        "colab": {
          "base_uri": "https://localhost:8080/"
        },
        "id": "StYcIRwwKi2s",
        "outputId": "0855f57e-c160-48b7-aa24-24e920d44e9e"
      },
      "execution_count": null,
      "outputs": [
        {
          "output_type": "execute_result",
          "data": {
            "text/plain": [
              "mpg             0\n",
              "cylinders       0\n",
              "displacement    0\n",
              "horsepower      6\n",
              "weight          0\n",
              "acceleration    0\n",
              "model_year      0\n",
              "origin          0\n",
              "car_name        0\n",
              "dtype: int64"
            ]
          },
          "metadata": {},
          "execution_count": 85
        }
      ]
    },
    {
      "cell_type": "code",
      "source": [
        "auto.dropna(inplace=True)"
      ],
      "metadata": {
        "id": "SdgzMqK0KpyK"
      },
      "execution_count": null,
      "outputs": []
    },
    {
      "cell_type": "code",
      "source": [
        "auto['horsepower']=auto['horsepower'].astype('int')"
      ],
      "metadata": {
        "id": "i81s2FkRKHlQ"
      },
      "execution_count": null,
      "outputs": []
    },
    {
      "cell_type": "code",
      "source": [
        "auto.info()"
      ],
      "metadata": {
        "colab": {
          "base_uri": "https://localhost:8080/"
        },
        "id": "e71GmgEvLOuK",
        "outputId": "ef5fb036-d4cc-407f-84b1-5b803d44c18e"
      },
      "execution_count": null,
      "outputs": [
        {
          "output_type": "stream",
          "name": "stdout",
          "text": [
            "<class 'pandas.core.frame.DataFrame'>\n",
            "Index: 392 entries, 0 to 397\n",
            "Data columns (total 9 columns):\n",
            " #   Column        Non-Null Count  Dtype  \n",
            "---  ------        --------------  -----  \n",
            " 0   mpg           392 non-null    float64\n",
            " 1   cylinders     392 non-null    int64  \n",
            " 2   displacement  392 non-null    float64\n",
            " 3   horsepower    392 non-null    int64  \n",
            " 4   weight        392 non-null    int64  \n",
            " 5   acceleration  392 non-null    float64\n",
            " 6   model_year    392 non-null    int64  \n",
            " 7   origin        392 non-null    int64  \n",
            " 8   car_name      392 non-null    object \n",
            "dtypes: float64(3), int64(5), object(1)\n",
            "memory usage: 30.6+ KB\n"
          ]
        }
      ]
    },
    {
      "cell_type": "code",
      "source": [
        "# origin과 , car_name칼럼은 드랍\n",
        "auto=auto.drop(['origin','car_name'],axis=1)\n",
        "auto.columns"
      ],
      "metadata": {
        "colab": {
          "base_uri": "https://localhost:8080/"
        },
        "id": "XRGaogvKMJ3v",
        "outputId": "01dea1c1-3b87-45f5-b32a-7d2ab9bba52d"
      },
      "execution_count": null,
      "outputs": [
        {
          "output_type": "execute_result",
          "data": {
            "text/plain": [
              "Index(['mpg', 'cylinders', 'displacement', 'horsepower', 'weight',\n",
              "       'acceleration', 'model_year'],\n",
              "      dtype='object')"
            ]
          },
          "metadata": {},
          "execution_count": 89
        }
      ]
    },
    {
      "cell_type": "markdown",
      "source": [
        "## 트레인 테스트 분리"
      ],
      "metadata": {
        "id": "AYEK9TKpLmwW"
      }
    },
    {
      "cell_type": "code",
      "source": [
        "from sklearn.model_selection import train_test_split\n",
        "auto_train, auto_test = train_test_split(auto,test_size=0.2,random_state=42)\n",
        "auto_train.shape, auto_test.shape"
      ],
      "metadata": {
        "colab": {
          "base_uri": "https://localhost:8080/"
        },
        "id": "2l77tn8wLo5I",
        "outputId": "ecdf7cd4-1b61-43bb-ebf0-5570e7ff4f20"
      },
      "execution_count": null,
      "outputs": [
        {
          "output_type": "execute_result",
          "data": {
            "text/plain": [
              "((313, 7), (79, 7))"
            ]
          },
          "metadata": {},
          "execution_count": 90
        }
      ]
    },
    {
      "cell_type": "markdown",
      "source": [
        "## X,y split"
      ],
      "metadata": {
        "id": "Zn2KtZS6MfKq"
      }
    },
    {
      "cell_type": "code",
      "source": [
        "X_train = auto_train.drop('mpg',axis=1)\n",
        "y_train = auto_train['mpg']\n",
        "X_train.shape, y_train.shape"
      ],
      "metadata": {
        "colab": {
          "base_uri": "https://localhost:8080/"
        },
        "id": "3EyyymZuMiGJ",
        "outputId": "0263a205-e605-4359-8f38-44e826519f02"
      },
      "execution_count": null,
      "outputs": [
        {
          "output_type": "execute_result",
          "data": {
            "text/plain": [
              "((313, 6), (313,))"
            ]
          },
          "metadata": {},
          "execution_count": 91
        }
      ]
    },
    {
      "cell_type": "code",
      "source": [],
      "metadata": {
        "id": "b8zADpb3NyKH"
      },
      "execution_count": null,
      "outputs": []
    },
    {
      "cell_type": "markdown",
      "source": [
        "## 스케일링"
      ],
      "metadata": {
        "id": "EVewaCvqLZKh"
      }
    },
    {
      "cell_type": "code",
      "source": [
        "X_train.describe()"
      ],
      "metadata": {
        "colab": {
          "base_uri": "https://localhost:8080/",
          "height": 300
        },
        "id": "OMHjXY5V00m8",
        "outputId": "16ff8858-3c14-4863-eecf-e12edf85f8f7"
      },
      "execution_count": null,
      "outputs": [
        {
          "output_type": "execute_result",
          "data": {
            "text/plain": [
              "        cylinders  displacement  horsepower       weight  acceleration  \\\n",
              "count  313.000000    313.000000  313.000000   313.000000    313.000000   \n",
              "mean     5.482428    195.517572  104.594249  2986.124601     15.544089   \n",
              "std      1.700446    103.766567   38.283669   841.133957      2.817864   \n",
              "min      3.000000     70.000000   46.000000  1613.000000      8.000000   \n",
              "25%      4.000000    105.000000   76.000000  2234.000000     13.500000   \n",
              "50%      4.000000    151.000000   95.000000  2855.000000     15.500000   \n",
              "75%      8.000000    302.000000  129.000000  3645.000000     17.300000   \n",
              "max      8.000000    455.000000  230.000000  5140.000000     24.800000   \n",
              "\n",
              "       model_year  \n",
              "count  313.000000  \n",
              "mean    76.207668  \n",
              "std      3.630136  \n",
              "min     70.000000  \n",
              "25%     73.000000  \n",
              "50%     76.000000  \n",
              "75%     79.000000  \n",
              "max     82.000000  "
            ],
            "text/html": [
              "\n",
              "  <div id=\"df-e6906418-ee39-486e-9be4-2c0685b31119\" class=\"colab-df-container\">\n",
              "    <div>\n",
              "<style scoped>\n",
              "    .dataframe tbody tr th:only-of-type {\n",
              "        vertical-align: middle;\n",
              "    }\n",
              "\n",
              "    .dataframe tbody tr th {\n",
              "        vertical-align: top;\n",
              "    }\n",
              "\n",
              "    .dataframe thead th {\n",
              "        text-align: right;\n",
              "    }\n",
              "</style>\n",
              "<table border=\"1\" class=\"dataframe\">\n",
              "  <thead>\n",
              "    <tr style=\"text-align: right;\">\n",
              "      <th></th>\n",
              "      <th>cylinders</th>\n",
              "      <th>displacement</th>\n",
              "      <th>horsepower</th>\n",
              "      <th>weight</th>\n",
              "      <th>acceleration</th>\n",
              "      <th>model_year</th>\n",
              "    </tr>\n",
              "  </thead>\n",
              "  <tbody>\n",
              "    <tr>\n",
              "      <th>count</th>\n",
              "      <td>313.000000</td>\n",
              "      <td>313.000000</td>\n",
              "      <td>313.000000</td>\n",
              "      <td>313.000000</td>\n",
              "      <td>313.000000</td>\n",
              "      <td>313.000000</td>\n",
              "    </tr>\n",
              "    <tr>\n",
              "      <th>mean</th>\n",
              "      <td>5.482428</td>\n",
              "      <td>195.517572</td>\n",
              "      <td>104.594249</td>\n",
              "      <td>2986.124601</td>\n",
              "      <td>15.544089</td>\n",
              "      <td>76.207668</td>\n",
              "    </tr>\n",
              "    <tr>\n",
              "      <th>std</th>\n",
              "      <td>1.700446</td>\n",
              "      <td>103.766567</td>\n",
              "      <td>38.283669</td>\n",
              "      <td>841.133957</td>\n",
              "      <td>2.817864</td>\n",
              "      <td>3.630136</td>\n",
              "    </tr>\n",
              "    <tr>\n",
              "      <th>min</th>\n",
              "      <td>3.000000</td>\n",
              "      <td>70.000000</td>\n",
              "      <td>46.000000</td>\n",
              "      <td>1613.000000</td>\n",
              "      <td>8.000000</td>\n",
              "      <td>70.000000</td>\n",
              "    </tr>\n",
              "    <tr>\n",
              "      <th>25%</th>\n",
              "      <td>4.000000</td>\n",
              "      <td>105.000000</td>\n",
              "      <td>76.000000</td>\n",
              "      <td>2234.000000</td>\n",
              "      <td>13.500000</td>\n",
              "      <td>73.000000</td>\n",
              "    </tr>\n",
              "    <tr>\n",
              "      <th>50%</th>\n",
              "      <td>4.000000</td>\n",
              "      <td>151.000000</td>\n",
              "      <td>95.000000</td>\n",
              "      <td>2855.000000</td>\n",
              "      <td>15.500000</td>\n",
              "      <td>76.000000</td>\n",
              "    </tr>\n",
              "    <tr>\n",
              "      <th>75%</th>\n",
              "      <td>8.000000</td>\n",
              "      <td>302.000000</td>\n",
              "      <td>129.000000</td>\n",
              "      <td>3645.000000</td>\n",
              "      <td>17.300000</td>\n",
              "      <td>79.000000</td>\n",
              "    </tr>\n",
              "    <tr>\n",
              "      <th>max</th>\n",
              "      <td>8.000000</td>\n",
              "      <td>455.000000</td>\n",
              "      <td>230.000000</td>\n",
              "      <td>5140.000000</td>\n",
              "      <td>24.800000</td>\n",
              "      <td>82.000000</td>\n",
              "    </tr>\n",
              "  </tbody>\n",
              "</table>\n",
              "</div>\n",
              "    <div class=\"colab-df-buttons\">\n",
              "\n",
              "  <div class=\"colab-df-container\">\n",
              "    <button class=\"colab-df-convert\" onclick=\"convertToInteractive('df-e6906418-ee39-486e-9be4-2c0685b31119')\"\n",
              "            title=\"Convert this dataframe to an interactive table.\"\n",
              "            style=\"display:none;\">\n",
              "\n",
              "  <svg xmlns=\"http://www.w3.org/2000/svg\" height=\"24px\" viewBox=\"0 -960 960 960\">\n",
              "    <path d=\"M120-120v-720h720v720H120Zm60-500h600v-160H180v160Zm220 220h160v-160H400v160Zm0 220h160v-160H400v160ZM180-400h160v-160H180v160Zm440 0h160v-160H620v160ZM180-180h160v-160H180v160Zm440 0h160v-160H620v160Z\"/>\n",
              "  </svg>\n",
              "    </button>\n",
              "\n",
              "  <style>\n",
              "    .colab-df-container {\n",
              "      display:flex;\n",
              "      gap: 12px;\n",
              "    }\n",
              "\n",
              "    .colab-df-convert {\n",
              "      background-color: #E8F0FE;\n",
              "      border: none;\n",
              "      border-radius: 50%;\n",
              "      cursor: pointer;\n",
              "      display: none;\n",
              "      fill: #1967D2;\n",
              "      height: 32px;\n",
              "      padding: 0 0 0 0;\n",
              "      width: 32px;\n",
              "    }\n",
              "\n",
              "    .colab-df-convert:hover {\n",
              "      background-color: #E2EBFA;\n",
              "      box-shadow: 0px 1px 2px rgba(60, 64, 67, 0.3), 0px 1px 3px 1px rgba(60, 64, 67, 0.15);\n",
              "      fill: #174EA6;\n",
              "    }\n",
              "\n",
              "    .colab-df-buttons div {\n",
              "      margin-bottom: 4px;\n",
              "    }\n",
              "\n",
              "    [theme=dark] .colab-df-convert {\n",
              "      background-color: #3B4455;\n",
              "      fill: #D2E3FC;\n",
              "    }\n",
              "\n",
              "    [theme=dark] .colab-df-convert:hover {\n",
              "      background-color: #434B5C;\n",
              "      box-shadow: 0px 1px 3px 1px rgba(0, 0, 0, 0.15);\n",
              "      filter: drop-shadow(0px 1px 2px rgba(0, 0, 0, 0.3));\n",
              "      fill: #FFFFFF;\n",
              "    }\n",
              "  </style>\n",
              "\n",
              "    <script>\n",
              "      const buttonEl =\n",
              "        document.querySelector('#df-e6906418-ee39-486e-9be4-2c0685b31119 button.colab-df-convert');\n",
              "      buttonEl.style.display =\n",
              "        google.colab.kernel.accessAllowed ? 'block' : 'none';\n",
              "\n",
              "      async function convertToInteractive(key) {\n",
              "        const element = document.querySelector('#df-e6906418-ee39-486e-9be4-2c0685b31119');\n",
              "        const dataTable =\n",
              "          await google.colab.kernel.invokeFunction('convertToInteractive',\n",
              "                                                    [key], {});\n",
              "        if (!dataTable) return;\n",
              "\n",
              "        const docLinkHtml = 'Like what you see? Visit the ' +\n",
              "          '<a target=\"_blank\" href=https://colab.research.google.com/notebooks/data_table.ipynb>data table notebook</a>'\n",
              "          + ' to learn more about interactive tables.';\n",
              "        element.innerHTML = '';\n",
              "        dataTable['output_type'] = 'display_data';\n",
              "        await google.colab.output.renderOutput(dataTable, element);\n",
              "        const docLink = document.createElement('div');\n",
              "        docLink.innerHTML = docLinkHtml;\n",
              "        element.appendChild(docLink);\n",
              "      }\n",
              "    </script>\n",
              "  </div>\n",
              "\n",
              "\n",
              "<div id=\"df-91b7d8c4-61ca-458c-9fbf-f30d13499d92\">\n",
              "  <button class=\"colab-df-quickchart\" onclick=\"quickchart('df-91b7d8c4-61ca-458c-9fbf-f30d13499d92')\"\n",
              "            title=\"Suggest charts\"\n",
              "            style=\"display:none;\">\n",
              "\n",
              "<svg xmlns=\"http://www.w3.org/2000/svg\" height=\"24px\"viewBox=\"0 0 24 24\"\n",
              "     width=\"24px\">\n",
              "    <g>\n",
              "        <path d=\"M19 3H5c-1.1 0-2 .9-2 2v14c0 1.1.9 2 2 2h14c1.1 0 2-.9 2-2V5c0-1.1-.9-2-2-2zM9 17H7v-7h2v7zm4 0h-2V7h2v10zm4 0h-2v-4h2v4z\"/>\n",
              "    </g>\n",
              "</svg>\n",
              "  </button>\n",
              "\n",
              "<style>\n",
              "  .colab-df-quickchart {\n",
              "      --bg-color: #E8F0FE;\n",
              "      --fill-color: #1967D2;\n",
              "      --hover-bg-color: #E2EBFA;\n",
              "      --hover-fill-color: #174EA6;\n",
              "      --disabled-fill-color: #AAA;\n",
              "      --disabled-bg-color: #DDD;\n",
              "  }\n",
              "\n",
              "  [theme=dark] .colab-df-quickchart {\n",
              "      --bg-color: #3B4455;\n",
              "      --fill-color: #D2E3FC;\n",
              "      --hover-bg-color: #434B5C;\n",
              "      --hover-fill-color: #FFFFFF;\n",
              "      --disabled-bg-color: #3B4455;\n",
              "      --disabled-fill-color: #666;\n",
              "  }\n",
              "\n",
              "  .colab-df-quickchart {\n",
              "    background-color: var(--bg-color);\n",
              "    border: none;\n",
              "    border-radius: 50%;\n",
              "    cursor: pointer;\n",
              "    display: none;\n",
              "    fill: var(--fill-color);\n",
              "    height: 32px;\n",
              "    padding: 0;\n",
              "    width: 32px;\n",
              "  }\n",
              "\n",
              "  .colab-df-quickchart:hover {\n",
              "    background-color: var(--hover-bg-color);\n",
              "    box-shadow: 0 1px 2px rgba(60, 64, 67, 0.3), 0 1px 3px 1px rgba(60, 64, 67, 0.15);\n",
              "    fill: var(--button-hover-fill-color);\n",
              "  }\n",
              "\n",
              "  .colab-df-quickchart-complete:disabled,\n",
              "  .colab-df-quickchart-complete:disabled:hover {\n",
              "    background-color: var(--disabled-bg-color);\n",
              "    fill: var(--disabled-fill-color);\n",
              "    box-shadow: none;\n",
              "  }\n",
              "\n",
              "  .colab-df-spinner {\n",
              "    border: 2px solid var(--fill-color);\n",
              "    border-color: transparent;\n",
              "    border-bottom-color: var(--fill-color);\n",
              "    animation:\n",
              "      spin 1s steps(1) infinite;\n",
              "  }\n",
              "\n",
              "  @keyframes spin {\n",
              "    0% {\n",
              "      border-color: transparent;\n",
              "      border-bottom-color: var(--fill-color);\n",
              "      border-left-color: var(--fill-color);\n",
              "    }\n",
              "    20% {\n",
              "      border-color: transparent;\n",
              "      border-left-color: var(--fill-color);\n",
              "      border-top-color: var(--fill-color);\n",
              "    }\n",
              "    30% {\n",
              "      border-color: transparent;\n",
              "      border-left-color: var(--fill-color);\n",
              "      border-top-color: var(--fill-color);\n",
              "      border-right-color: var(--fill-color);\n",
              "    }\n",
              "    40% {\n",
              "      border-color: transparent;\n",
              "      border-right-color: var(--fill-color);\n",
              "      border-top-color: var(--fill-color);\n",
              "    }\n",
              "    60% {\n",
              "      border-color: transparent;\n",
              "      border-right-color: var(--fill-color);\n",
              "    }\n",
              "    80% {\n",
              "      border-color: transparent;\n",
              "      border-right-color: var(--fill-color);\n",
              "      border-bottom-color: var(--fill-color);\n",
              "    }\n",
              "    90% {\n",
              "      border-color: transparent;\n",
              "      border-bottom-color: var(--fill-color);\n",
              "    }\n",
              "  }\n",
              "</style>\n",
              "\n",
              "  <script>\n",
              "    async function quickchart(key) {\n",
              "      const quickchartButtonEl =\n",
              "        document.querySelector('#' + key + ' button');\n",
              "      quickchartButtonEl.disabled = true;  // To prevent multiple clicks.\n",
              "      quickchartButtonEl.classList.add('colab-df-spinner');\n",
              "      try {\n",
              "        const charts = await google.colab.kernel.invokeFunction(\n",
              "            'suggestCharts', [key], {});\n",
              "      } catch (error) {\n",
              "        console.error('Error during call to suggestCharts:', error);\n",
              "      }\n",
              "      quickchartButtonEl.classList.remove('colab-df-spinner');\n",
              "      quickchartButtonEl.classList.add('colab-df-quickchart-complete');\n",
              "    }\n",
              "    (() => {\n",
              "      let quickchartButtonEl =\n",
              "        document.querySelector('#df-91b7d8c4-61ca-458c-9fbf-f30d13499d92 button');\n",
              "      quickchartButtonEl.style.display =\n",
              "        google.colab.kernel.accessAllowed ? 'block' : 'none';\n",
              "    })();\n",
              "  </script>\n",
              "</div>\n",
              "\n",
              "    </div>\n",
              "  </div>\n"
            ],
            "application/vnd.google.colaboratory.intrinsic+json": {
              "type": "dataframe",
              "summary": "{\n  \"name\": \"X_train\",\n  \"rows\": 8,\n  \"fields\": [\n    {\n      \"column\": \"cylinders\",\n      \"properties\": {\n        \"dtype\": \"number\",\n        \"std\": 108.9586782821656,\n        \"min\": 1.700446165652984,\n        \"max\": 313.0,\n        \"num_unique_values\": 6,\n        \"samples\": [\n          313.0,\n          5.482428115015974,\n          8.0\n        ],\n        \"semantic_type\": \"\",\n        \"description\": \"\"\n      }\n    },\n    {\n      \"column\": \"displacement\",\n      \"properties\": {\n        \"dtype\": \"number\",\n        \"std\": 133.45415602965423,\n        \"min\": 70.0,\n        \"max\": 455.0,\n        \"num_unique_values\": 8,\n        \"samples\": [\n          195.51757188498402,\n          151.0,\n          313.0\n        ],\n        \"semantic_type\": \"\",\n        \"description\": \"\"\n      }\n    },\n    {\n      \"column\": \"horsepower\",\n      \"properties\": {\n        \"dtype\": \"number\",\n        \"std\": 95.42094071362274,\n        \"min\": 38.28366917886364,\n        \"max\": 313.0,\n        \"num_unique_values\": 8,\n        \"samples\": [\n          104.59424920127796,\n          95.0,\n          313.0\n        ],\n        \"semantic_type\": \"\",\n        \"description\": \"\"\n      }\n    },\n    {\n      \"column\": \"weight\",\n      \"properties\": {\n        \"dtype\": \"number\",\n        \"std\": 1559.2090784749603,\n        \"min\": 313.0,\n        \"max\": 5140.0,\n        \"num_unique_values\": 8,\n        \"samples\": [\n          2986.1246006389774,\n          2855.0,\n          313.0\n        ],\n        \"semantic_type\": \"\",\n        \"description\": \"\"\n      }\n    },\n    {\n      \"column\": \"acceleration\",\n      \"properties\": {\n        \"dtype\": \"number\",\n        \"std\": 105.93765833133924,\n        \"min\": 2.8178640105078543,\n        \"max\": 313.0,\n        \"num_unique_values\": 8,\n        \"samples\": [\n          15.544089456869008,\n          15.5,\n          313.0\n        ],\n        \"semantic_type\": \"\",\n        \"description\": \"\"\n      }\n    },\n    {\n      \"column\": \"model_year\",\n      \"properties\": {\n        \"dtype\": \"number\",\n        \"std\": 91.1043378209192,\n        \"min\": 3.6301363246299334,\n        \"max\": 313.0,\n        \"num_unique_values\": 8,\n        \"samples\": [\n          76.2076677316294,\n          76.0,\n          313.0\n        ],\n        \"semantic_type\": \"\",\n        \"description\": \"\"\n      }\n    }\n  ]\n}"
            }
          },
          "metadata": {},
          "execution_count": 92
        }
      ]
    },
    {
      "cell_type": "code",
      "source": [
        "from sklearn.preprocessing import StandardScaler\n",
        "ss=StandardScaler()"
      ],
      "metadata": {
        "id": "acFHScnKLdTq"
      },
      "execution_count": null,
      "outputs": []
    },
    {
      "cell_type": "code",
      "source": [
        "X_train_s= ss.fit_transform(X_train)\n",
        "y_train = y_train.to_numpy()"
      ],
      "metadata": {
        "id": "euwUiNL8NzD1"
      },
      "execution_count": null,
      "outputs": []
    },
    {
      "cell_type": "code",
      "source": [
        "X_train_s.shape"
      ],
      "metadata": {
        "colab": {
          "base_uri": "https://localhost:8080/"
        },
        "id": "EdfoWCnbOK5W",
        "outputId": "3d2bd5f0-a966-435e-ae41-5db22cf658e9"
      },
      "execution_count": null,
      "outputs": [
        {
          "output_type": "execute_result",
          "data": {
            "text/plain": [
              "(313, 6)"
            ]
          },
          "metadata": {},
          "execution_count": 95
        }
      ]
    },
    {
      "cell_type": "code",
      "source": [
        "from keras import layers\n",
        "\n",
        "model = keras.Sequential([\n",
        "    layers.Dense(units=64,activation='relu',input_shape=(6,)), # input_shape에 입력되는 입력값의 수와 X_train의 칼럼의 수는 같아야 한다!\n",
        "    layers.Dense(units=64,activation='relu'),\n",
        "    layers.Dense(units=1),\n",
        "\n",
        "\n",
        "])"
      ],
      "metadata": {
        "id": "wHpaJYQCM1Q6"
      },
      "execution_count": null,
      "outputs": []
    },
    {
      "cell_type": "code",
      "source": [
        "model.summary()"
      ],
      "metadata": {
        "colab": {
          "base_uri": "https://localhost:8080/"
        },
        "id": "24htqlrUOxlm",
        "outputId": "d33678b4-867e-4da4-a752-b3efc10a6ed6"
      },
      "execution_count": null,
      "outputs": [
        {
          "output_type": "stream",
          "name": "stdout",
          "text": [
            "Model: \"sequential_1\"\n",
            "_________________________________________________________________\n",
            " Layer (type)                Output Shape              Param #   \n",
            "=================================================================\n",
            " dense_3 (Dense)             (None, 64)                448       \n",
            "                                                                 \n",
            " dense_4 (Dense)             (None, 64)                4160      \n",
            "                                                                 \n",
            " dense_5 (Dense)             (None, 1)                 65        \n",
            "                                                                 \n",
            "=================================================================\n",
            "Total params: 4673 (18.25 KB)\n",
            "Trainable params: 4673 (18.25 KB)\n",
            "Non-trainable params: 0 (0.00 Byte)\n",
            "_________________________________________________________________\n"
          ]
        }
      ]
    },
    {
      "cell_type": "code",
      "source": [
        "from keras import utils\n",
        "utils.plot_model(model)"
      ],
      "metadata": {
        "colab": {
          "base_uri": "https://localhost:8080/",
          "height": 369
        },
        "id": "6RYYzIYj1BoS",
        "outputId": "5ead1e0d-5074-4ca1-f715-0fe577d0f23f"
      },
      "execution_count": null,
      "outputs": [
        {
          "output_type": "execute_result",
          "data": {
            "image/png": "[encoded data removed]",
            "text/plain": [
              "<IPython.core.display.Image object>"
            ]
          },
          "metadata": {},
          "execution_count": 98
        }
      ]
    },
    {
      "cell_type": "markdown",
      "source": [
        "2개의 은닉층과 출력층을 가진 모델로 구성"
      ],
      "metadata": {
        "id": "v2NoN36Ybp06"
      }
    },
    {
      "cell_type": "code",
      "source": [
        "model.compile(loss='mse', optimizer='adam',\n",
        " metrics=['mae', 'mse'])"
      ],
      "metadata": {
        "id": "uNNPioJ8Oz9N"
      },
      "execution_count": null,
      "outputs": []
    },
    {
      "cell_type": "code",
      "source": [
        "EPOCHS=100\n",
        "BATCH_SIZE=32\n",
        "history= model.fit(X_train_s,y_train,\n",
        "          epochs=EPOCHS,\n",
        "          batch_size=BATCH_SIZE,\n",
        "          validation_split=0.2\n",
        "          )"
      ],
      "metadata": {
        "colab": {
          "base_uri": "https://localhost:8080/"
        },
        "id": "LOjOTZt9P9mm",
        "outputId": "21a47c80-5527-4666-a8ed-a23ecb9e8053"
      },
      "execution_count": null,
      "outputs": [
        {
          "output_type": "stream",
          "name": "stdout",
          "text": [
            "Epoch 1/100\n",
            "8/8 [==============================] - 1s 37ms/step - loss: 585.9217 - mae: 22.8594 - mse: 585.9217 - val_loss: 653.5610 - val_mae: 24.3180 - val_mse: 653.5610\n",
            "Epoch 2/100\n",
            "8/8 [==============================] - 0s 15ms/step - loss: 560.2494 - mae: 22.2334 - mse: 560.2494 - val_loss: 624.0005 - val_mae: 23.6667 - val_mse: 624.0005\n",
            "Epoch 3/100\n",
            "8/8 [==============================] - 0s 6ms/step - loss: 529.5963 - mae: 21.4727 - mse: 529.5963 - val_loss: 587.3211 - val_mae: 22.8352 - val_mse: 587.3211\n",
            "Epoch 4/100\n",
            "8/8 [==============================] - 0s 14ms/step - loss: 491.8847 - mae: 20.4896 - mse: 491.8847 - val_loss: 540.4725 - val_mae: 21.7373 - val_mse: 540.4725\n",
            "Epoch 5/100\n",
            "8/8 [==============================] - 0s 11ms/step - loss: 443.9519 - mae: 19.2031 - mse: 443.9519 - val_loss: 482.3088 - val_mae: 20.3021 - val_mse: 482.3088\n",
            "Epoch 6/100\n",
            "8/8 [==============================] - 0s 9ms/step - loss: 387.7408 - mae: 17.5951 - mse: 387.7408 - val_loss: 412.8832 - val_mae: 18.5022 - val_mse: 412.8832\n",
            "Epoch 7/100\n",
            "8/8 [==============================] - 0s 9ms/step - loss: 323.5376 - mae: 15.8034 - mse: 323.5376 - val_loss: 336.8563 - val_mae: 16.5857 - val_mse: 336.8563\n",
            "Epoch 8/100\n",
            "8/8 [==============================] - 0s 15ms/step - loss: 258.5019 - mae: 14.1530 - mse: 258.5019 - val_loss: 258.4839 - val_mae: 14.4502 - val_mse: 258.4839\n",
            "Epoch 9/100\n",
            "8/8 [==============================] - 0s 9ms/step - loss: 192.7558 - mae: 12.2997 - mse: 192.7558 - val_loss: 184.7239 - val_mae: 12.1395 - val_mse: 184.7239\n",
            "Epoch 10/100\n",
            "8/8 [==============================] - 0s 18ms/step - loss: 133.9048 - mae: 10.2260 - mse: 133.9048 - val_loss: 123.7935 - val_mae: 9.7158 - val_mse: 123.7935\n",
            "Epoch 11/100\n",
            "8/8 [==============================] - 0s 8ms/step - loss: 89.0268 - mae: 8.1529 - mse: 89.0268 - val_loss: 83.5384 - val_mae: 7.5272 - val_mse: 83.5384\n",
            "Epoch 12/100\n",
            "8/8 [==============================] - 0s 8ms/step - loss: 62.0617 - mae: 6.5437 - mse: 62.0617 - val_loss: 65.8178 - val_mae: 6.3588 - val_mse: 65.8178\n",
            "Epoch 13/100\n",
            "8/8 [==============================] - 0s 9ms/step - loss: 50.8933 - mae: 5.7369 - mse: 50.8933 - val_loss: 60.7092 - val_mae: 6.0155 - val_mse: 60.7092\n",
            "Epoch 14/100\n",
            "8/8 [==============================] - 0s 7ms/step - loss: 47.1827 - mae: 5.4610 - mse: 47.1827 - val_loss: 57.1111 - val_mae: 5.8137 - val_mse: 57.1111\n",
            "Epoch 15/100\n",
            "8/8 [==============================] - 0s 12ms/step - loss: 44.4339 - mae: 5.2846 - mse: 44.4339 - val_loss: 52.9620 - val_mae: 5.5828 - val_mse: 52.9620\n",
            "Epoch 16/100\n",
            "8/8 [==============================] - 0s 9ms/step - loss: 41.1565 - mae: 5.0624 - mse: 41.1565 - val_loss: 48.2745 - val_mae: 5.2970 - val_mse: 48.2745\n",
            "Epoch 17/100\n",
            "8/8 [==============================] - 0s 6ms/step - loss: 37.8655 - mae: 4.8490 - mse: 37.8655 - val_loss: 44.6033 - val_mae: 5.0851 - val_mse: 44.6033\n",
            "Epoch 18/100\n",
            "8/8 [==============================] - 0s 8ms/step - loss: 35.1355 - mae: 4.6630 - mse: 35.1355 - val_loss: 41.3016 - val_mae: 4.8713 - val_mse: 41.3016\n",
            "Epoch 19/100\n",
            "8/8 [==============================] - 0s 19ms/step - loss: 32.7340 - mae: 4.4938 - mse: 32.7340 - val_loss: 38.0923 - val_mae: 4.6447 - val_mse: 38.0923\n",
            "Epoch 20/100\n",
            "8/8 [==============================] - 0s 47ms/step - loss: 30.4595 - mae: 4.3100 - mse: 30.4595 - val_loss: 35.3908 - val_mae: 4.4344 - val_mse: 35.3908\n",
            "Epoch 21/100\n",
            "8/8 [==============================] - 0s 24ms/step - loss: 28.3660 - mae: 4.1590 - mse: 28.3660 - val_loss: 32.8132 - val_mae: 4.2342 - val_mse: 32.8132\n",
            "Epoch 22/100\n",
            "8/8 [==============================] - 0s 38ms/step - loss: 26.5608 - mae: 4.0173 - mse: 26.5608 - val_loss: 30.3737 - val_mae: 4.0296 - val_mse: 30.3737\n",
            "Epoch 23/100\n",
            "8/8 [==============================] - 1s 71ms/step - loss: 24.9735 - mae: 3.9003 - mse: 24.9735 - val_loss: 28.0787 - val_mae: 3.8326 - val_mse: 28.0787\n",
            "Epoch 24/100\n",
            "8/8 [==============================] - 0s 21ms/step - loss: 23.3464 - mae: 3.7717 - mse: 23.3464 - val_loss: 26.2060 - val_mae: 3.6673 - val_mse: 26.2060\n",
            "Epoch 25/100\n",
            "8/8 [==============================] - 0s 15ms/step - loss: 22.1231 - mae: 3.6738 - mse: 22.1231 - val_loss: 24.5436 - val_mae: 3.5391 - val_mse: 24.5436\n",
            "Epoch 26/100\n",
            "8/8 [==============================] - 0s 13ms/step - loss: 20.9194 - mae: 3.5602 - mse: 20.9194 - val_loss: 22.9877 - val_mae: 3.4151 - val_mse: 22.9877\n",
            "Epoch 27/100\n",
            "8/8 [==============================] - 0s 10ms/step - loss: 19.8484 - mae: 3.4619 - mse: 19.8484 - val_loss: 21.6711 - val_mae: 3.3120 - val_mse: 21.6711\n",
            "Epoch 28/100\n",
            "8/8 [==============================] - 0s 15ms/step - loss: 18.9861 - mae: 3.3898 - mse: 18.9861 - val_loss: 20.3178 - val_mae: 3.1989 - val_mse: 20.3178\n",
            "Epoch 29/100\n",
            "8/8 [==============================] - 0s 6ms/step - loss: 18.0393 - mae: 3.3083 - mse: 18.0393 - val_loss: 19.2892 - val_mae: 3.1158 - val_mse: 19.2892\n",
            "Epoch 30/100\n",
            "8/8 [==============================] - 0s 15ms/step - loss: 17.4275 - mae: 3.2452 - mse: 17.4275 - val_loss: 18.3156 - val_mae: 3.0432 - val_mse: 18.3156\n",
            "Epoch 31/100\n",
            "8/8 [==============================] - 0s 11ms/step - loss: 16.7121 - mae: 3.1612 - mse: 16.7121 - val_loss: 17.4193 - val_mae: 2.9780 - val_mse: 17.4193\n",
            "Epoch 32/100\n",
            "8/8 [==============================] - 0s 9ms/step - loss: 16.1739 - mae: 3.1211 - mse: 16.1739 - val_loss: 16.6425 - val_mae: 2.9168 - val_mse: 16.6425\n",
            "Epoch 33/100\n",
            "8/8 [==============================] - 0s 18ms/step - loss: 15.6208 - mae: 3.0550 - mse: 15.6208 - val_loss: 15.9371 - val_mae: 2.8529 - val_mse: 15.9371\n",
            "Epoch 34/100\n",
            "8/8 [==============================] - 0s 15ms/step - loss: 15.1406 - mae: 2.9972 - mse: 15.1406 - val_loss: 15.3285 - val_mae: 2.8002 - val_mse: 15.3285\n",
            "Epoch 35/100\n",
            "8/8 [==============================] - 0s 19ms/step - loss: 14.7936 - mae: 2.9546 - mse: 14.7936 - val_loss: 14.7669 - val_mae: 2.7481 - val_mse: 14.7669\n",
            "Epoch 36/100\n",
            "8/8 [==============================] - 0s 7ms/step - loss: 14.4526 - mae: 2.9213 - mse: 14.4526 - val_loss: 14.1401 - val_mae: 2.6965 - val_mse: 14.1401\n",
            "Epoch 37/100\n",
            "8/8 [==============================] - 0s 16ms/step - loss: 14.1319 - mae: 2.8875 - mse: 14.1319 - val_loss: 13.6870 - val_mae: 2.6649 - val_mse: 13.6870\n",
            "Epoch 38/100\n",
            "8/8 [==============================] - 0s 14ms/step - loss: 13.7857 - mae: 2.8430 - mse: 13.7857 - val_loss: 13.2945 - val_mae: 2.6159 - val_mse: 13.2945\n",
            "Epoch 39/100\n",
            "8/8 [==============================] - 0s 26ms/step - loss: 13.5366 - mae: 2.8072 - mse: 13.5366 - val_loss: 12.8252 - val_mae: 2.5763 - val_mse: 12.8252\n",
            "Epoch 40/100\n",
            "8/8 [==============================] - 0s 14ms/step - loss: 13.2445 - mae: 2.7718 - mse: 13.2445 - val_loss: 12.5353 - val_mae: 2.5389 - val_mse: 12.5353\n",
            "Epoch 41/100\n",
            "8/8 [==============================] - 0s 9ms/step - loss: 13.0434 - mae: 2.7454 - mse: 13.0434 - val_loss: 12.1769 - val_mae: 2.5080 - val_mse: 12.1769\n",
            "Epoch 42/100\n",
            "8/8 [==============================] - 0s 15ms/step - loss: 12.7801 - mae: 2.7154 - mse: 12.7801 - val_loss: 11.8301 - val_mae: 2.4833 - val_mse: 11.8301\n",
            "Epoch 43/100\n",
            "8/8 [==============================] - 0s 19ms/step - loss: 12.6223 - mae: 2.6887 - mse: 12.6223 - val_loss: 11.5655 - val_mae: 2.4568 - val_mse: 11.5655\n",
            "Epoch 44/100\n",
            "8/8 [==============================] - 0s 16ms/step - loss: 12.4227 - mae: 2.6599 - mse: 12.4227 - val_loss: 11.3132 - val_mae: 2.4247 - val_mse: 11.3132\n",
            "Epoch 45/100\n",
            "8/8 [==============================] - 0s 12ms/step - loss: 12.2570 - mae: 2.6433 - mse: 12.2570 - val_loss: 10.9586 - val_mae: 2.3719 - val_mse: 10.9586\n",
            "Epoch 46/100\n",
            "8/8 [==============================] - 0s 13ms/step - loss: 12.0762 - mae: 2.6302 - mse: 12.0762 - val_loss: 10.7617 - val_mae: 2.3466 - val_mse: 10.7617\n",
            "Epoch 47/100\n",
            "8/8 [==============================] - 0s 14ms/step - loss: 11.8812 - mae: 2.5999 - mse: 11.8812 - val_loss: 10.6031 - val_mae: 2.3373 - val_mse: 10.6031\n",
            "Epoch 48/100\n",
            "8/8 [==============================] - 0s 24ms/step - loss: 11.7371 - mae: 2.5762 - mse: 11.7371 - val_loss: 10.3725 - val_mae: 2.3160 - val_mse: 10.3725\n",
            "Epoch 49/100\n",
            "8/8 [==============================] - 0s 17ms/step - loss: 11.5799 - mae: 2.5611 - mse: 11.5799 - val_loss: 10.1372 - val_mae: 2.2859 - val_mse: 10.1372\n",
            "Epoch 50/100\n",
            "8/8 [==============================] - 0s 23ms/step - loss: 11.4674 - mae: 2.5506 - mse: 11.4674 - val_loss: 9.9048 - val_mae: 2.2636 - val_mse: 9.9048\n",
            "Epoch 51/100\n",
            "8/8 [==============================] - 0s 20ms/step - loss: 11.3104 - mae: 2.5312 - mse: 11.3104 - val_loss: 9.7682 - val_mae: 2.2303 - val_mse: 9.7682\n",
            "Epoch 52/100\n",
            "8/8 [==============================] - 0s 31ms/step - loss: 11.2025 - mae: 2.5203 - mse: 11.2025 - val_loss: 9.6035 - val_mae: 2.2156 - val_mse: 9.6035\n",
            "Epoch 53/100\n",
            "8/8 [==============================] - 0s 17ms/step - loss: 11.0504 - mae: 2.4992 - mse: 11.0504 - val_loss: 9.5103 - val_mae: 2.2043 - val_mse: 9.5103\n",
            "Epoch 54/100\n",
            "8/8 [==============================] - 0s 9ms/step - loss: 10.9257 - mae: 2.4853 - mse: 10.9257 - val_loss: 9.4200 - val_mae: 2.1887 - val_mse: 9.4200\n",
            "Epoch 55/100\n",
            "8/8 [==============================] - 0s 26ms/step - loss: 10.8131 - mae: 2.4695 - mse: 10.8131 - val_loss: 9.2971 - val_mae: 2.1767 - val_mse: 9.2971\n",
            "Epoch 56/100\n",
            "8/8 [==============================] - 0s 43ms/step - loss: 10.7183 - mae: 2.4581 - mse: 10.7183 - val_loss: 9.2368 - val_mae: 2.1806 - val_mse: 9.2368\n",
            "Epoch 57/100\n",
            "8/8 [==============================] - 0s 67ms/step - loss: 10.6097 - mae: 2.4440 - mse: 10.6097 - val_loss: 9.0540 - val_mae: 2.1614 - val_mse: 9.0540\n",
            "Epoch 58/100\n",
            "8/8 [==============================] - 0s 22ms/step - loss: 10.4942 - mae: 2.4325 - mse: 10.4942 - val_loss: 8.9167 - val_mae: 2.1443 - val_mse: 8.9167\n",
            "Epoch 59/100\n",
            "8/8 [==============================] - 0s 14ms/step - loss: 10.3719 - mae: 2.4167 - mse: 10.3719 - val_loss: 8.7665 - val_mae: 2.1062 - val_mse: 8.7665\n",
            "Epoch 60/100\n",
            "8/8 [==============================] - 0s 15ms/step - loss: 10.3159 - mae: 2.4046 - mse: 10.3159 - val_loss: 8.7404 - val_mae: 2.1128 - val_mse: 8.7404\n",
            "Epoch 61/100\n",
            "8/8 [==============================] - 0s 16ms/step - loss: 10.2155 - mae: 2.3962 - mse: 10.2155 - val_loss: 8.5114 - val_mae: 2.0839 - val_mse: 8.5114\n",
            "Epoch 62/100\n",
            "8/8 [==============================] - 0s 12ms/step - loss: 10.1355 - mae: 2.3875 - mse: 10.1355 - val_loss: 8.4391 - val_mae: 2.0700 - val_mse: 8.4391\n",
            "Epoch 63/100\n",
            "8/8 [==============================] - 0s 13ms/step - loss: 10.0362 - mae: 2.3643 - mse: 10.0362 - val_loss: 8.5133 - val_mae: 2.1079 - val_mse: 8.5133\n",
            "Epoch 64/100\n",
            "8/8 [==============================] - 0s 8ms/step - loss: 9.9549 - mae: 2.3493 - mse: 9.9549 - val_loss: 8.2955 - val_mae: 2.0550 - val_mse: 8.2955\n",
            "Epoch 65/100\n",
            "8/8 [==============================] - 0s 9ms/step - loss: 9.8264 - mae: 2.3347 - mse: 9.8264 - val_loss: 8.2799 - val_mae: 2.0666 - val_mse: 8.2799\n",
            "Epoch 66/100\n",
            "8/8 [==============================] - 0s 14ms/step - loss: 9.8156 - mae: 2.3398 - mse: 9.8156 - val_loss: 8.0563 - val_mae: 2.0401 - val_mse: 8.0563\n",
            "Epoch 67/100\n",
            "8/8 [==============================] - 0s 17ms/step - loss: 9.6989 - mae: 2.3205 - mse: 9.6989 - val_loss: 8.1100 - val_mae: 2.0381 - val_mse: 8.1100\n",
            "Epoch 68/100\n",
            "8/8 [==============================] - 0s 20ms/step - loss: 9.5676 - mae: 2.3005 - mse: 9.5676 - val_loss: 8.0763 - val_mae: 2.0345 - val_mse: 8.0763\n",
            "Epoch 69/100\n",
            "8/8 [==============================] - 0s 22ms/step - loss: 9.4708 - mae: 2.2882 - mse: 9.4708 - val_loss: 7.9954 - val_mae: 2.0308 - val_mse: 7.9954\n",
            "Epoch 70/100\n",
            "8/8 [==============================] - 0s 22ms/step - loss: 9.4144 - mae: 2.2684 - mse: 9.4144 - val_loss: 7.9432 - val_mae: 2.0445 - val_mse: 7.9432\n",
            "Epoch 71/100\n",
            "8/8 [==============================] - 0s 40ms/step - loss: 9.3249 - mae: 2.2611 - mse: 9.3249 - val_loss: 7.7607 - val_mae: 1.9995 - val_mse: 7.7607\n",
            "Epoch 72/100\n",
            "8/8 [==============================] - 0s 23ms/step - loss: 9.2668 - mae: 2.2610 - mse: 9.2668 - val_loss: 7.6367 - val_mae: 1.9801 - val_mse: 7.6367\n",
            "Epoch 73/100\n",
            "8/8 [==============================] - 0s 10ms/step - loss: 9.1986 - mae: 2.2472 - mse: 9.1986 - val_loss: 7.6754 - val_mae: 2.0099 - val_mse: 7.6754\n",
            "Epoch 74/100\n",
            "8/8 [==============================] - 0s 8ms/step - loss: 9.1410 - mae: 2.2370 - mse: 9.1410 - val_loss: 7.6433 - val_mae: 2.0000 - val_mse: 7.6433\n",
            "Epoch 75/100\n",
            "8/8 [==============================] - 0s 11ms/step - loss: 9.0480 - mae: 2.2207 - mse: 9.0480 - val_loss: 7.6517 - val_mae: 2.0070 - val_mse: 7.6517\n",
            "Epoch 76/100\n",
            "8/8 [==============================] - 0s 15ms/step - loss: 8.9994 - mae: 2.2162 - mse: 8.9994 - val_loss: 7.5813 - val_mae: 2.0133 - val_mse: 7.5813\n",
            "Epoch 77/100\n",
            "8/8 [==============================] - 0s 14ms/step - loss: 8.9248 - mae: 2.2018 - mse: 8.9248 - val_loss: 7.4458 - val_mae: 1.9769 - val_mse: 7.4458\n",
            "Epoch 78/100\n",
            "8/8 [==============================] - 0s 13ms/step - loss: 8.8470 - mae: 2.1924 - mse: 8.8470 - val_loss: 7.4110 - val_mae: 1.9813 - val_mse: 7.4110\n",
            "Epoch 79/100\n",
            "8/8 [==============================] - 0s 7ms/step - loss: 8.8317 - mae: 2.1843 - mse: 8.8317 - val_loss: 7.3945 - val_mae: 1.9790 - val_mse: 7.3945\n",
            "Epoch 80/100\n",
            "8/8 [==============================] - 0s 8ms/step - loss: 8.7501 - mae: 2.1737 - mse: 8.7501 - val_loss: 7.2413 - val_mae: 1.9620 - val_mse: 7.2413\n",
            "Epoch 81/100\n",
            "8/8 [==============================] - 0s 9ms/step - loss: 8.7138 - mae: 2.1652 - mse: 8.7138 - val_loss: 7.3157 - val_mae: 1.9795 - val_mse: 7.3157\n",
            "Epoch 82/100\n",
            "8/8 [==============================] - 0s 9ms/step - loss: 8.6857 - mae: 2.1659 - mse: 8.6857 - val_loss: 7.2029 - val_mae: 1.9629 - val_mse: 7.2029\n",
            "Epoch 83/100\n",
            "8/8 [==============================] - 0s 9ms/step - loss: 8.6007 - mae: 2.1541 - mse: 8.6007 - val_loss: 7.1798 - val_mae: 1.9655 - val_mse: 7.1798\n",
            "Epoch 84/100\n",
            "8/8 [==============================] - 0s 7ms/step - loss: 8.5723 - mae: 2.1460 - mse: 8.5723 - val_loss: 7.1891 - val_mae: 1.9606 - val_mse: 7.1891\n",
            "Epoch 85/100\n",
            "8/8 [==============================] - 0s 11ms/step - loss: 8.5967 - mae: 2.1430 - mse: 8.5967 - val_loss: 7.1831 - val_mae: 1.9889 - val_mse: 7.1831\n",
            "Epoch 86/100\n",
            "8/8 [==============================] - 0s 13ms/step - loss: 8.4928 - mae: 2.1274 - mse: 8.4928 - val_loss: 7.1357 - val_mae: 1.9632 - val_mse: 7.1357\n",
            "Epoch 87/100\n",
            "8/8 [==============================] - 0s 14ms/step - loss: 8.4544 - mae: 2.1304 - mse: 8.4544 - val_loss: 7.0685 - val_mae: 1.9511 - val_mse: 7.0685\n",
            "Epoch 88/100\n",
            "8/8 [==============================] - 0s 21ms/step - loss: 8.3925 - mae: 2.1213 - mse: 8.3925 - val_loss: 7.1036 - val_mae: 1.9654 - val_mse: 7.1036\n",
            "Epoch 89/100\n",
            "8/8 [==============================] - 0s 12ms/step - loss: 8.3590 - mae: 2.1123 - mse: 8.3590 - val_loss: 7.0919 - val_mae: 1.9627 - val_mse: 7.0919\n",
            "Epoch 90/100\n",
            "8/8 [==============================] - 0s 11ms/step - loss: 8.3347 - mae: 2.1133 - mse: 8.3347 - val_loss: 6.9345 - val_mae: 1.9471 - val_mse: 6.9345\n",
            "Epoch 91/100\n",
            "8/8 [==============================] - 0s 11ms/step - loss: 8.2651 - mae: 2.1005 - mse: 8.2651 - val_loss: 6.9870 - val_mae: 1.9470 - val_mse: 6.9870\n",
            "Epoch 92/100\n",
            "8/8 [==============================] - 0s 15ms/step - loss: 8.2504 - mae: 2.0935 - mse: 8.2504 - val_loss: 7.0201 - val_mae: 1.9654 - val_mse: 7.0201\n",
            "Epoch 93/100\n",
            "8/8 [==============================] - 0s 9ms/step - loss: 8.2163 - mae: 2.0830 - mse: 8.2163 - val_loss: 6.8408 - val_mae: 1.9293 - val_mse: 6.8408\n",
            "Epoch 94/100\n",
            "8/8 [==============================] - 0s 10ms/step - loss: 8.2221 - mae: 2.0926 - mse: 8.2221 - val_loss: 6.7846 - val_mae: 1.9187 - val_mse: 6.7846\n",
            "Epoch 95/100\n",
            "8/8 [==============================] - 0s 12ms/step - loss: 8.2175 - mae: 2.0960 - mse: 8.2175 - val_loss: 7.0504 - val_mae: 1.9767 - val_mse: 7.0504\n",
            "Epoch 96/100\n",
            "8/8 [==============================] - 0s 8ms/step - loss: 8.1386 - mae: 2.0698 - mse: 8.1386 - val_loss: 6.9352 - val_mae: 1.9583 - val_mse: 6.9352\n",
            "Epoch 97/100\n",
            "8/8 [==============================] - 0s 11ms/step - loss: 8.0920 - mae: 2.0713 - mse: 8.0920 - val_loss: 6.7298 - val_mae: 1.9197 - val_mse: 6.7298\n",
            "Epoch 98/100\n",
            "8/8 [==============================] - 0s 9ms/step - loss: 8.1010 - mae: 2.0775 - mse: 8.1010 - val_loss: 6.7782 - val_mae: 1.9242 - val_mse: 6.7782\n",
            "Epoch 99/100\n",
            "8/8 [==============================] - 0s 20ms/step - loss: 8.0827 - mae: 2.0701 - mse: 8.0827 - val_loss: 6.7289 - val_mae: 1.9297 - val_mse: 6.7289\n",
            "Epoch 100/100\n",
            "8/8 [==============================] - 0s 11ms/step - loss: 8.0122 - mae: 2.0516 - mse: 8.0122 - val_loss: 6.9296 - val_mae: 1.9649 - val_mse: 6.9296\n"
          ]
        }
      ]
    },
    {
      "cell_type": "code",
      "source": [
        "hist = history.history\n",
        "hist"
      ],
      "metadata": {
        "colab": {
          "base_uri": "https://localhost:8080/"
        },
        "id": "GF1ClNC_QYSr",
        "outputId": "839f9e60-a267-4d29-d5f4-c87db388ed43",
        "collapsed": true
      },
      "execution_count": null,
      "outputs": [
        {
          "output_type": "execute_result",
          "data": {
            "text/plain": [
              "{'loss': [585.9216918945312,\n",
              "  560.2493896484375,\n",
              "  529.5962524414062,\n",
              "  491.8846740722656,\n",
              "  443.9519348144531,\n",
              "  387.7407531738281,\n",
              "  323.53759765625,\n",
              "  258.50189208984375,\n",
              "  192.75575256347656,\n",
              "  133.90481567382812,\n",
              "  89.02681732177734,\n",
              "  62.061702728271484,\n",
              "  50.89327621459961,\n",
              "  47.182701110839844,\n",
              "  44.43388366699219,\n",
              "  41.15645980834961,\n",
              "  37.865474700927734,\n",
              "  35.13554382324219,\n",
              "  32.733978271484375,\n",
              "  30.459489822387695,\n",
              "  28.36599349975586,\n",
              "  26.560752868652344,\n",
              "  24.973466873168945,\n",
              "  23.346364974975586,\n",
              "  22.123117446899414,\n",
              "  20.91936492919922,\n",
              "  19.848419189453125,\n",
              "  18.9860897064209,\n",
              "  18.03927230834961,\n",
              "  17.427490234375,\n",
              "  16.712068557739258,\n",
              "  16.17392921447754,\n",
              "  15.620798110961914,\n",
              "  15.140575408935547,\n",
              "  14.793560028076172,\n",
              "  14.452615737915039,\n",
              "  14.131941795349121,\n",
              "  13.785738945007324,\n",
              "  13.536624908447266,\n",
              "  13.244466781616211,\n",
              "  13.043405532836914,\n",
              "  12.780121803283691,\n",
              "  12.622303009033203,\n",
              "  12.422699928283691,\n",
              "  12.256996154785156,\n",
              "  12.076239585876465,\n",
              "  11.881173133850098,\n",
              "  11.737117767333984,\n",
              "  11.579935073852539,\n",
              "  11.467386245727539,\n",
              "  11.310439109802246,\n",
              "  11.202454566955566,\n",
              "  11.050390243530273,\n",
              "  10.925695419311523,\n",
              "  10.81313419342041,\n",
              "  10.718337059020996,\n",
              "  10.609699249267578,\n",
              "  10.494208335876465,\n",
              "  10.37185001373291,\n",
              "  10.315899848937988,\n",
              "  10.215523719787598,\n",
              "  10.135544776916504,\n",
              "  10.036211967468262,\n",
              "  9.954876899719238,\n",
              "  9.826379776000977,\n",
              "  9.81563949584961,\n",
              "  9.698888778686523,\n",
              "  9.567630767822266,\n",
              "  9.470794677734375,\n",
              "  9.414355278015137,\n",
              "  9.324880599975586,\n",
              "  9.26682186126709,\n",
              "  9.198561668395996,\n",
              "  9.141039848327637,\n",
              "  9.047951698303223,\n",
              "  8.999411582946777,\n",
              "  8.924829483032227,\n",
              "  8.847039222717285,\n",
              "  8.831697463989258,\n",
              "  8.750143051147461,\n",
              "  8.71383285522461,\n",
              "  8.685699462890625,\n",
              "  8.60071086883545,\n",
              "  8.572349548339844,\n",
              "  8.596711158752441,\n",
              "  8.492831230163574,\n",
              "  8.454446792602539,\n",
              "  8.392478942871094,\n",
              "  8.359041213989258,\n",
              "  8.33466911315918,\n",
              "  8.265095710754395,\n",
              "  8.250431060791016,\n",
              "  8.216336250305176,\n",
              "  8.222123146057129,\n",
              "  8.217493057250977,\n",
              "  8.138583183288574,\n",
              "  8.091986656188965,\n",
              "  8.100955963134766,\n",
              "  8.082731246948242,\n",
              "  8.012168884277344],\n",
              " 'mae': [22.859363555908203,\n",
              "  22.233442306518555,\n",
              "  21.47266387939453,\n",
              "  20.489625930786133,\n",
              "  19.20305633544922,\n",
              "  17.595067977905273,\n",
              "  15.803410530090332,\n",
              "  14.153000831604004,\n",
              "  12.299657821655273,\n",
              "  10.226027488708496,\n",
              "  8.152857780456543,\n",
              "  6.543697834014893,\n",
              "  5.736852645874023,\n",
              "  5.4610276222229,\n",
              "  5.284634113311768,\n",
              "  5.062394618988037,\n",
              "  4.849008560180664,\n",
              "  4.662952899932861,\n",
              "  4.493821144104004,\n",
              "  4.3100433349609375,\n",
              "  4.159032821655273,\n",
              "  4.017338752746582,\n",
              "  3.9003212451934814,\n",
              "  3.771664619445801,\n",
              "  3.6737842559814453,\n",
              "  3.560211420059204,\n",
              "  3.461874008178711,\n",
              "  3.3897957801818848,\n",
              "  3.3082985877990723,\n",
              "  3.245248317718506,\n",
              "  3.1611592769622803,\n",
              "  3.121065855026245,\n",
              "  3.055021047592163,\n",
              "  2.997213840484619,\n",
              "  2.95458722114563,\n",
              "  2.9213151931762695,\n",
              "  2.8875019550323486,\n",
              "  2.8429911136627197,\n",
              "  2.807223320007324,\n",
              "  2.771761894226074,\n",
              "  2.7454416751861572,\n",
              "  2.715388774871826,\n",
              "  2.6886980533599854,\n",
              "  2.65985369682312,\n",
              "  2.643336772918701,\n",
              "  2.6302294731140137,\n",
              "  2.5999081134796143,\n",
              "  2.5761771202087402,\n",
              "  2.561095714569092,\n",
              "  2.550595998764038,\n",
              "  2.5312283039093018,\n",
              "  2.520327091217041,\n",
              "  2.499248504638672,\n",
              "  2.485295057296753,\n",
              "  2.469533681869507,\n",
              "  2.4581217765808105,\n",
              "  2.4440150260925293,\n",
              "  2.43253755569458,\n",
              "  2.4166953563690186,\n",
              "  2.404616594314575,\n",
              "  2.3962197303771973,\n",
              "  2.3874902725219727,\n",
              "  2.364337682723999,\n",
              "  2.3493406772613525,\n",
              "  2.334688425064087,\n",
              "  2.339768171310425,\n",
              "  2.320493221282959,\n",
              "  2.3005409240722656,\n",
              "  2.2882211208343506,\n",
              "  2.268357992172241,\n",
              "  2.261068105697632,\n",
              "  2.2610199451446533,\n",
              "  2.247244119644165,\n",
              "  2.2369768619537354,\n",
              "  2.2207024097442627,\n",
              "  2.2162036895751953,\n",
              "  2.2018489837646484,\n",
              "  2.192413091659546,\n",
              "  2.1843130588531494,\n",
              "  2.1737236976623535,\n",
              "  2.1651711463928223,\n",
              "  2.1659021377563477,\n",
              "  2.154073476791382,\n",
              "  2.1460464000701904,\n",
              "  2.1429738998413086,\n",
              "  2.1274404525756836,\n",
              "  2.130427360534668,\n",
              "  2.1213040351867676,\n",
              "  2.112307071685791,\n",
              "  2.1132776737213135,\n",
              "  2.1004717350006104,\n",
              "  2.0935189723968506,\n",
              "  2.0829691886901855,\n",
              "  2.0925850868225098,\n",
              "  2.0960006713867188,\n",
              "  2.0698325634002686,\n",
              "  2.0712766647338867,\n",
              "  2.077476739883423,\n",
              "  2.0701043605804443,\n",
              "  2.051631212234497],\n",
              " 'mse': [585.9216918945312,\n",
              "  560.2493896484375,\n",
              "  529.5962524414062,\n",
              "  491.8846740722656,\n",
              "  443.9519348144531,\n",
              "  387.7407531738281,\n",
              "  323.53759765625,\n",
              "  258.50189208984375,\n",
              "  192.75575256347656,\n",
              "  133.90481567382812,\n",
              "  89.02681732177734,\n",
              "  62.061702728271484,\n",
              "  50.89327621459961,\n",
              "  47.182701110839844,\n",
              "  44.43388366699219,\n",
              "  41.15645980834961,\n",
              "  37.865474700927734,\n",
              "  35.13554382324219,\n",
              "  32.733978271484375,\n",
              "  30.459489822387695,\n",
              "  28.36599349975586,\n",
              "  26.560752868652344,\n",
              "  24.973466873168945,\n",
              "  23.346364974975586,\n",
              "  22.123117446899414,\n",
              "  20.91936492919922,\n",
              "  19.848419189453125,\n",
              "  18.9860897064209,\n",
              "  18.03927230834961,\n",
              "  17.427490234375,\n",
              "  16.712068557739258,\n",
              "  16.173927307128906,\n",
              "  15.620798110961914,\n",
              "  15.140575408935547,\n",
              "  14.793560028076172,\n",
              "  14.452615737915039,\n",
              "  14.131941795349121,\n",
              "  13.785738945007324,\n",
              "  13.536624908447266,\n",
              "  13.244466781616211,\n",
              "  13.043405532836914,\n",
              "  12.780121803283691,\n",
              "  12.622303009033203,\n",
              "  12.422699928283691,\n",
              "  12.256996154785156,\n",
              "  12.076239585876465,\n",
              "  11.881173133850098,\n",
              "  11.737117767333984,\n",
              "  11.579935073852539,\n",
              "  11.467386245727539,\n",
              "  11.310439109802246,\n",
              "  11.202454566955566,\n",
              "  11.050390243530273,\n",
              "  10.925695419311523,\n",
              "  10.81313419342041,\n",
              "  10.718337059020996,\n",
              "  10.609699249267578,\n",
              "  10.494208335876465,\n",
              "  10.37185001373291,\n",
              "  10.315899848937988,\n",
              "  10.215523719787598,\n",
              "  10.135544776916504,\n",
              "  10.036211967468262,\n",
              "  9.954877853393555,\n",
              "  9.826379776000977,\n",
              "  9.81563949584961,\n",
              "  9.698888778686523,\n",
              "  9.567630767822266,\n",
              "  9.470794677734375,\n",
              "  9.414355278015137,\n",
              "  9.324880599975586,\n",
              "  9.26682186126709,\n",
              "  9.198561668395996,\n",
              "  9.141039848327637,\n",
              "  9.047951698303223,\n",
              "  8.999411582946777,\n",
              "  8.924829483032227,\n",
              "  8.847039222717285,\n",
              "  8.831697463989258,\n",
              "  8.750143051147461,\n",
              "  8.71383285522461,\n",
              "  8.685699462890625,\n",
              "  8.60071086883545,\n",
              "  8.572349548339844,\n",
              "  8.596711158752441,\n",
              "  8.492831230163574,\n",
              "  8.454446792602539,\n",
              "  8.392478942871094,\n",
              "  8.359041213989258,\n",
              "  8.33466911315918,\n",
              "  8.265095710754395,\n",
              "  8.250431060791016,\n",
              "  8.216336250305176,\n",
              "  8.222123146057129,\n",
              "  8.217493057250977,\n",
              "  8.138583183288574,\n",
              "  8.091986656188965,\n",
              "  8.100955963134766,\n",
              "  8.082731246948242,\n",
              "  8.012168884277344],\n",
              " 'val_loss': [653.56103515625,\n",
              "  624.0005493164062,\n",
              "  587.3211059570312,\n",
              "  540.4724731445312,\n",
              "  482.30877685546875,\n",
              "  412.8831787109375,\n",
              "  336.85626220703125,\n",
              "  258.48388671875,\n",
              "  184.7239227294922,\n",
              "  123.79353332519531,\n",
              "  83.53836822509766,\n",
              "  65.81777954101562,\n",
              "  60.709232330322266,\n",
              "  57.111114501953125,\n",
              "  52.96198272705078,\n",
              "  48.2745475769043,\n",
              "  44.60334777832031,\n",
              "  41.30157470703125,\n",
              "  38.09233093261719,\n",
              "  35.39076614379883,\n",
              "  32.81315231323242,\n",
              "  30.37368392944336,\n",
              "  28.07868766784668,\n",
              "  26.20600128173828,\n",
              "  24.54361915588379,\n",
              "  22.987709045410156,\n",
              "  21.671138763427734,\n",
              "  20.317819595336914,\n",
              "  19.28916358947754,\n",
              "  18.3155574798584,\n",
              "  17.419307708740234,\n",
              "  16.642488479614258,\n",
              "  15.93713665008545,\n",
              "  15.32848072052002,\n",
              "  14.766899108886719,\n",
              "  14.140138626098633,\n",
              "  13.687017440795898,\n",
              "  13.294509887695312,\n",
              "  12.825180053710938,\n",
              "  12.535316467285156,\n",
              "  12.176877975463867,\n",
              "  11.83010482788086,\n",
              "  11.565489768981934,\n",
              "  11.313233375549316,\n",
              "  10.958641052246094,\n",
              "  10.761664390563965,\n",
              "  10.60307788848877,\n",
              "  10.372537612915039,\n",
              "  10.137191772460938,\n",
              "  9.904796600341797,\n",
              "  9.768209457397461,\n",
              "  9.603473663330078,\n",
              "  9.510340690612793,\n",
              "  9.419998168945312,\n",
              "  9.297115325927734,\n",
              "  9.236798286437988,\n",
              "  9.054041862487793,\n",
              "  8.916686058044434,\n",
              "  8.7664794921875,\n",
              "  8.740350723266602,\n",
              "  8.51138687133789,\n",
              "  8.439122200012207,\n",
              "  8.513288497924805,\n",
              "  8.295522689819336,\n",
              "  8.27993392944336,\n",
              "  8.056326866149902,\n",
              "  8.10999584197998,\n",
              "  8.076290130615234,\n",
              "  7.995399475097656,\n",
              "  7.943248748779297,\n",
              "  7.7607421875,\n",
              "  7.636690616607666,\n",
              "  7.675427436828613,\n",
              "  7.643250942230225,\n",
              "  7.65167760848999,\n",
              "  7.581333160400391,\n",
              "  7.445777893066406,\n",
              "  7.411013603210449,\n",
              "  7.394451141357422,\n",
              "  7.241267204284668,\n",
              "  7.315740585327148,\n",
              "  7.20289421081543,\n",
              "  7.179828643798828,\n",
              "  7.189116477966309,\n",
              "  7.183099746704102,\n",
              "  7.135677814483643,\n",
              "  7.068450450897217,\n",
              "  7.1036376953125,\n",
              "  7.091946125030518,\n",
              "  6.934514045715332,\n",
              "  6.987029075622559,\n",
              "  7.020076274871826,\n",
              "  6.840837478637695,\n",
              "  6.784592628479004,\n",
              "  7.050420761108398,\n",
              "  6.9351983070373535,\n",
              "  6.729818820953369,\n",
              "  6.778159141540527,\n",
              "  6.72889518737793,\n",
              "  6.929602146148682],\n",
              " 'val_mae': [24.3179874420166,\n",
              "  23.666736602783203,\n",
              "  22.835182189941406,\n",
              "  21.73731803894043,\n",
              "  20.30205726623535,\n",
              "  18.502178192138672,\n",
              "  16.585681915283203,\n",
              "  14.450243949890137,\n",
              "  12.139458656311035,\n",
              "  9.71584701538086,\n",
              "  7.527161598205566,\n",
              "  6.358767032623291,\n",
              "  6.0155205726623535,\n",
              "  5.813735008239746,\n",
              "  5.582794666290283,\n",
              "  5.296978950500488,\n",
              "  5.0851216316223145,\n",
              "  4.871335029602051,\n",
              "  4.644743919372559,\n",
              "  4.434391975402832,\n",
              "  4.2342400550842285,\n",
              "  4.029610633850098,\n",
              "  3.832634925842285,\n",
              "  3.667290687561035,\n",
              "  3.539141893386841,\n",
              "  3.4150607585906982,\n",
              "  3.312042474746704,\n",
              "  3.198897361755371,\n",
              "  3.1158437728881836,\n",
              "  3.0431716442108154,\n",
              "  2.9779648780822754,\n",
              "  2.916790246963501,\n",
              "  2.8529036045074463,\n",
              "  2.80019474029541,\n",
              "  2.74814510345459,\n",
              "  2.6964964866638184,\n",
              "  2.6649107933044434,\n",
              "  2.6159310340881348,\n",
              "  2.5762860774993896,\n",
              "  2.5389089584350586,\n",
              "  2.507981538772583,\n",
              "  2.4833343029022217,\n",
              "  2.456770420074463,\n",
              "  2.4247214794158936,\n",
              "  2.3719289302825928,\n",
              "  2.3465933799743652,\n",
              "  2.337252616882324,\n",
              "  2.3160367012023926,\n",
              "  2.285862922668457,\n",
              "  2.2635977268218994,\n",
              "  2.230344772338867,\n",
              "  2.215604782104492,\n",
              "  2.2042863368988037,\n",
              "  2.1886961460113525,\n",
              "  2.176677942276001,\n",
              "  2.1806418895721436,\n",
              "  2.161360502243042,\n",
              "  2.144279956817627,\n",
              "  2.106191396713257,\n",
              "  2.112752676010132,\n",
              "  2.083897113800049,\n",
              "  2.069988489151001,\n",
              "  2.1078875064849854,\n",
              "  2.0549709796905518,\n",
              "  2.0665719509124756,\n",
              "  2.040088415145874,\n",
              "  2.038114070892334,\n",
              "  2.034456253051758,\n",
              "  2.0307891368865967,\n",
              "  2.044503927230835,\n",
              "  1.999481439590454,\n",
              "  1.9800844192504883,\n",
              "  2.0098507404327393,\n",
              "  1.999988079071045,\n",
              "  2.0070087909698486,\n",
              "  2.0132575035095215,\n",
              "  1.9768584966659546,\n",
              "  1.9812934398651123,\n",
              "  1.9789586067199707,\n",
              "  1.9620273113250732,\n",
              "  1.9795067310333252,\n",
              "  1.9629144668579102,\n",
              "  1.9655157327651978,\n",
              "  1.9605790376663208,\n",
              "  1.988940715789795,\n",
              "  1.9631829261779785,\n",
              "  1.9511134624481201,\n",
              "  1.9653651714324951,\n",
              "  1.9626561403274536,\n",
              "  1.9471040964126587,\n",
              "  1.9470144510269165,\n",
              "  1.9653829336166382,\n",
              "  1.9293192625045776,\n",
              "  1.9186655282974243,\n",
              "  1.976715326309204,\n",
              "  1.9583173990249634,\n",
              "  1.9197479486465454,\n",
              "  1.9242204427719116,\n",
              "  1.9296693801879883,\n",
              "  1.9648864269256592],\n",
              " 'val_mse': [653.56103515625,\n",
              "  624.0005493164062,\n",
              "  587.3211059570312,\n",
              "  540.4724731445312,\n",
              "  482.30877685546875,\n",
              "  412.8831787109375,\n",
              "  336.85626220703125,\n",
              "  258.48388671875,\n",
              "  184.7239227294922,\n",
              "  123.79353332519531,\n",
              "  83.53836822509766,\n",
              "  65.81777954101562,\n",
              "  60.709232330322266,\n",
              "  57.111114501953125,\n",
              "  52.96198272705078,\n",
              "  48.2745475769043,\n",
              "  44.60334777832031,\n",
              "  41.30157470703125,\n",
              "  38.09233093261719,\n",
              "  35.39076614379883,\n",
              "  32.81315231323242,\n",
              "  30.37368392944336,\n",
              "  28.07868766784668,\n",
              "  26.20600128173828,\n",
              "  24.54361915588379,\n",
              "  22.987709045410156,\n",
              "  21.671138763427734,\n",
              "  20.317819595336914,\n",
              "  19.28916358947754,\n",
              "  18.3155574798584,\n",
              "  17.419307708740234,\n",
              "  16.642488479614258,\n",
              "  15.93713665008545,\n",
              "  15.32848072052002,\n",
              "  14.766899108886719,\n",
              "  14.140138626098633,\n",
              "  13.687017440795898,\n",
              "  13.294509887695312,\n",
              "  12.825180053710938,\n",
              "  12.535316467285156,\n",
              "  12.176877975463867,\n",
              "  11.83010482788086,\n",
              "  11.565489768981934,\n",
              "  11.313233375549316,\n",
              "  10.958641052246094,\n",
              "  10.761664390563965,\n",
              "  10.60307788848877,\n",
              "  10.372537612915039,\n",
              "  10.137191772460938,\n",
              "  9.904796600341797,\n",
              "  9.768209457397461,\n",
              "  9.603473663330078,\n",
              "  9.510340690612793,\n",
              "  9.419998168945312,\n",
              "  9.297115325927734,\n",
              "  9.236798286437988,\n",
              "  9.054041862487793,\n",
              "  8.916686058044434,\n",
              "  8.7664794921875,\n",
              "  8.740350723266602,\n",
              "  8.51138687133789,\n",
              "  8.439122200012207,\n",
              "  8.513288497924805,\n",
              "  8.295522689819336,\n",
              "  8.27993392944336,\n",
              "  8.056326866149902,\n",
              "  8.10999584197998,\n",
              "  8.076290130615234,\n",
              "  7.995399475097656,\n",
              "  7.943248748779297,\n",
              "  7.7607421875,\n",
              "  7.636690616607666,\n",
              "  7.675427436828613,\n",
              "  7.643250942230225,\n",
              "  7.65167760848999,\n",
              "  7.581333160400391,\n",
              "  7.445777893066406,\n",
              "  7.411013603210449,\n",
              "  7.394451141357422,\n",
              "  7.241267204284668,\n",
              "  7.315740585327148,\n",
              "  7.20289421081543,\n",
              "  7.179828643798828,\n",
              "  7.189116477966309,\n",
              "  7.183099746704102,\n",
              "  7.135677814483643,\n",
              "  7.068450450897217,\n",
              "  7.1036376953125,\n",
              "  7.091946125030518,\n",
              "  6.934514045715332,\n",
              "  6.987029075622559,\n",
              "  7.020076274871826,\n",
              "  6.840837478637695,\n",
              "  6.784592628479004,\n",
              "  7.050420761108398,\n",
              "  6.9351983070373535,\n",
              "  6.729818820953369,\n",
              "  6.778159141540527,\n",
              "  6.72889518737793,\n",
              "  6.929602146148682]}"
            ]
          },
          "metadata": {},
          "execution_count": 101
        }
      ]
    },
    {
      "cell_type": "code",
      "source": [
        "epochs=history.epoch\n",
        "import matplotlib.pyplot as plt"
      ],
      "metadata": {
        "id": "rRdJoPLdRJBP"
      },
      "execution_count": null,
      "outputs": []
    },
    {
      "cell_type": "code",
      "source": [
        "plt.plot(epochs,hist['loss'],label='train')\n",
        "plt.plot(epochs,hist['val_loss'],label='validation')\n",
        "plt.title('training and validation loss')\n",
        "plt.xlabel('epochs')\n",
        "plt.ylabel('loss')\n",
        "plt.legend()\n",
        "plt.show()"
      ],
      "metadata": {
        "colab": {
          "base_uri": "https://localhost:8080/",
          "height": 472
        },
        "id": "7SNroMU4RY3d",
        "outputId": "52aeac48-d661-45a0-8864-f71906f6afaa"
      },
      "execution_count": null,
      "outputs": [
        {
          "output_type": "display_data",
          "data": {
            "text/plain": [
              "<Figure size 640x480 with 1 Axes>"
            ],
            "image/png": "[encoded data removed]"
          },
          "metadata": {}
        }
      ]
    },
    {
      "cell_type": "code",
      "source": [],
      "metadata": {
        "id": "iWIoJ1GgRy3Y"
      },
      "execution_count": null,
      "outputs": []
    },
    {
      "cell_type": "markdown",
      "source": [
        "## 평가"
      ],
      "metadata": {
        "id": "AGHSe4KqSTNd"
      }
    },
    {
      "cell_type": "code",
      "source": [
        "X_test = auto_test.drop('mpg',axis=1)\n",
        "y_test =  auto_test['mpg']\n",
        "X_test.shape, y_test.shape"
      ],
      "metadata": {
        "colab": {
          "base_uri": "https://localhost:8080/"
        },
        "id": "7IuTtSUbSWsh",
        "outputId": "8dedf1d0-4c9a-4ea0-d3b5-e3b64acdbaba"
      },
      "execution_count": null,
      "outputs": [
        {
          "output_type": "execute_result",
          "data": {
            "text/plain": [
              "((79, 6), (79,))"
            ]
          },
          "metadata": {},
          "execution_count": 104
        }
      ]
    },
    {
      "cell_type": "markdown",
      "source": [
        "- 테스트 데이터 전처리"
      ],
      "metadata": {
        "id": "hqMsO9Pj1z-t"
      }
    },
    {
      "cell_type": "code",
      "source": [
        "X_test_s = ss.fit_transform(X_test)\n",
        "y_test= y_test.to_numpy()"
      ],
      "metadata": {
        "id": "DGsh1OE9Sn8B"
      },
      "execution_count": null,
      "outputs": []
    },
    {
      "cell_type": "code",
      "source": [
        "print(type(X_test_s),type(y_test))\n",
        "print(X_test.shape, y_test.shape)"
      ],
      "metadata": {
        "colab": {
          "base_uri": "https://localhost:8080/"
        },
        "id": "FFZAjQW4Sv7J",
        "outputId": "c084e8eb-b5c3-4b62-96ce-f6257bebe2db"
      },
      "execution_count": null,
      "outputs": [
        {
          "output_type": "stream",
          "name": "stdout",
          "text": [
            "<class 'numpy.ndarray'> <class 'numpy.ndarray'>\n",
            "(79, 6) (79,)\n"
          ]
        }
      ]
    },
    {
      "cell_type": "code",
      "source": [
        "y_pred = model.predict(X_test_s)"
      ],
      "metadata": {
        "colab": {
          "base_uri": "https://localhost:8080/"
        },
        "id": "6zMOyoVaS4Vx",
        "outputId": "4229b521-2df8-476b-c02f-ea96d23feb3d"
      },
      "execution_count": null,
      "outputs": [
        {
          "output_type": "stream",
          "name": "stdout",
          "text": [
            "3/3 [==============================] - 0s 2ms/step\n"
          ]
        }
      ]
    },
    {
      "cell_type": "code",
      "source": [
        "y_pred[:5]"
      ],
      "metadata": {
        "colab": {
          "base_uri": "https://localhost:8080/"
        },
        "id": "FOAviXdxTJeF",
        "outputId": "5f6ae7b0-24be-411b-df07-dc4e3544e19e"
      },
      "execution_count": null,
      "outputs": [
        {
          "output_type": "execute_result",
          "data": {
            "text/plain": [
              "array([[25.409925],\n",
              "       [22.588   ],\n",
              "       [34.354618],\n",
              "       [25.902649],\n",
              "       [30.570469]], dtype=float32)"
            ]
          },
          "metadata": {},
          "execution_count": 108
        }
      ]
    },
    {
      "cell_type": "code",
      "source": [
        "from sklearn.metrics import mean_squared_error, mean_absolute_error\n",
        "print(f'MSE: {mean_squared_error(y_test,y_pred)}')"
      ],
      "metadata": {
        "colab": {
          "base_uri": "https://localhost:8080/"
        },
        "id": "3uX_ba2nTKul",
        "outputId": "e43bf541-608d-4c8b-8c68-92ea29f41595"
      },
      "execution_count": null,
      "outputs": [
        {
          "output_type": "stream",
          "name": "stdout",
          "text": [
            "MSE: 7.434454970662017\n"
          ]
        }
      ]
    },
    {
      "cell_type": "code",
      "source": [
        "plt.scatter(y_test,y_pred)\n",
        "plt.plot([0,60],[0,60])\n",
        "plt.xlabel('True')\n",
        "plt.ylabel('Prediction')"
      ],
      "metadata": {
        "colab": {
          "base_uri": "https://localhost:8080/",
          "height": 468
        },
        "id": "m44aUYEVTikL",
        "outputId": "a431a526-2922-44cb-c76c-ced8568f90df"
      },
      "execution_count": null,
      "outputs": [
        {
          "output_type": "execute_result",
          "data": {
            "text/plain": [
              "Text(0, 0.5, 'Prediction')"
            ]
          },
          "metadata": {},
          "execution_count": 110
        },
        {
          "output_type": "display_data",
          "data": {
            "text/plain": [
              "<Figure size 640x480 with 1 Axes>"
            ],
            "image/png": "[encoded data removed]"
          },
          "metadata": {}
        }
      ]
    },
    {
      "cell_type": "markdown",
      "source": [
        "# 선형 회귀 모형과 비교"
      ],
      "metadata": {
        "id": "wnS2MLsW1-ZF"
      }
    },
    {
      "cell_type": "code",
      "source": [
        "from sklearn.linear_model import LinearRegression\n",
        "lr = LinearRegression()\n",
        "lr.fit(X_train_s,y_train)"
      ],
      "metadata": {
        "colab": {
          "base_uri": "https://localhost:8080/",
          "height": 75
        },
        "id": "1xZSumyKT0GG",
        "outputId": "08b72249-2fda-443a-9dcb-d99b99dbfbc3"
      },
      "execution_count": null,
      "outputs": [
        {
          "output_type": "execute_result",
          "data": {
            "text/plain": [
              "LinearRegression()"
            ],
            "text/html": [
              "<style>#sk-container-id-2 {color: black;background-color: white;}#sk-container-id-2 pre{padding: 0;}#sk-container-id-2 div.sk-toggleable {background-color: white;}#sk-container-id-2 label.sk-toggleable__label {cursor: pointer;display: block;width: 100%;margin-bottom: 0;padding: 0.3em;box-sizing: border-box;text-align: center;}#sk-container-id-2 label.sk-toggleable__label-arrow:before {content: \"▸\";float: left;margin-right: 0.25em;color: #696969;}#sk-container-id-2 label.sk-toggleable__label-arrow:hover:before {color: black;}#sk-container-id-2 div.sk-estimator:hover label.sk-toggleable__label-arrow:before {color: black;}#sk-container-id-2 div.sk-toggleable__content {max-height: 0;max-width: 0;overflow: hidden;text-align: left;background-color: #f0f8ff;}#sk-container-id-2 div.sk-toggleable__content pre {margin: 0.2em;color: black;border-radius: 0.25em;background-color: #f0f8ff;}#sk-container-id-2 input.sk-toggleable__control:checked~div.sk-toggleable__content {max-height: 200px;max-width: 100%;overflow: auto;}#sk-container-id-2 input.sk-toggleable__control:checked~label.sk-toggleable__label-arrow:before {content: \"▾\";}#sk-container-id-2 div.sk-estimator input.sk-toggleable__control:checked~label.sk-toggleable__label {background-color: #d4ebff;}#sk-container-id-2 div.sk-label input.sk-toggleable__control:checked~label.sk-toggleable__label {background-color: #d4ebff;}#sk-container-id-2 input.sk-hidden--visually {border: 0;clip: rect(1px 1px 1px 1px);clip: rect(1px, 1px, 1px, 1px);height: 1px;margin: -1px;overflow: hidden;padding: 0;position: absolute;width: 1px;}#sk-container-id-2 div.sk-estimator {font-family: monospace;background-color: #f0f8ff;border: 1px dotted black;border-radius: 0.25em;box-sizing: border-box;margin-bottom: 0.5em;}#sk-container-id-2 div.sk-estimator:hover {background-color: #d4ebff;}#sk-container-id-2 div.sk-parallel-item::after {content: \"\";width: 100%;border-bottom: 1px solid gray;flex-grow: 1;}#sk-container-id-2 div.sk-label:hover label.sk-toggleable__label {background-color: #d4ebff;}#sk-container-id-2 div.sk-serial::before {content: \"\";position: absolute;border-left: 1px solid gray;box-sizing: border-box;top: 0;bottom: 0;left: 50%;z-index: 0;}#sk-container-id-2 div.sk-serial {display: flex;flex-direction: column;align-items: center;background-color: white;padding-right: 0.2em;padding-left: 0.2em;position: relative;}#sk-container-id-2 div.sk-item {position: relative;z-index: 1;}#sk-container-id-2 div.sk-parallel {display: flex;align-items: stretch;justify-content: center;background-color: white;position: relative;}#sk-container-id-2 div.sk-item::before, #sk-container-id-2 div.sk-parallel-item::before {content: \"\";position: absolute;border-left: 1px solid gray;box-sizing: border-box;top: 0;bottom: 0;left: 50%;z-index: -1;}#sk-container-id-2 div.sk-parallel-item {display: flex;flex-direction: column;z-index: 1;position: relative;background-color: white;}#sk-container-id-2 div.sk-parallel-item:first-child::after {align-self: flex-end;width: 50%;}#sk-container-id-2 div.sk-parallel-item:last-child::after {align-self: flex-start;width: 50%;}#sk-container-id-2 div.sk-parallel-item:only-child::after {width: 0;}#sk-container-id-2 div.sk-dashed-wrapped {border: 1px dashed gray;margin: 0 0.4em 0.5em 0.4em;box-sizing: border-box;padding-bottom: 0.4em;background-color: white;}#sk-container-id-2 div.sk-label label {font-family: monospace;font-weight: bold;display: inline-block;line-height: 1.2em;}#sk-container-id-2 div.sk-label-container {text-align: center;}#sk-container-id-2 div.sk-container {/* jupyter's `normalize.less` sets `[hidden] { display: none; }` but bootstrap.min.css set `[hidden] { display: none !important; }` so we also need the `!important` here to be able to override the default hidden behavior on the sphinx rendered scikit-learn.org. See: https://github.com/scikit-learn/scikit-learn/issues/21755 */display: inline-block !important;position: relative;}#sk-container-id-2 div.sk-text-repr-fallback {display: none;}</style><div id=\"sk-container-id-2\" class=\"sk-top-container\"><div class=\"sk-text-repr-fallback\"><pre>LinearRegression()</pre><b>In a Jupyter environment, please rerun this cell to show the HTML representation or trust the notebook. <br />On GitHub, the HTML representation is unable to render, please try loading this page with nbviewer.org.</b></div><div class=\"sk-container\" hidden><div class=\"sk-item\"><div class=\"sk-estimator sk-toggleable\"><input class=\"sk-toggleable__control sk-hidden--visually\" id=\"sk-estimator-id-2\" type=\"checkbox\" checked><label for=\"sk-estimator-id-2\" class=\"sk-toggleable__label sk-toggleable__label-arrow\">LinearRegression</label><div class=\"sk-toggleable__content\"><pre>LinearRegression()</pre></div></div></div></div></div>"
            ]
          },
          "metadata": {},
          "execution_count": 111
        }
      ]
    },
    {
      "cell_type": "code",
      "source": [
        "y_pred = lr.predict(X_test_s)"
      ],
      "metadata": {
        "id": "aw24FnjgXIpt"
      },
      "execution_count": null,
      "outputs": []
    },
    {
      "cell_type": "code",
      "source": [
        "ssr=((y_test - y_pred)**2).sum()"
      ],
      "metadata": {
        "id": "aQIa_gLZYZbH"
      },
      "execution_count": null,
      "outputs": []
    },
    {
      "cell_type": "code",
      "source": [
        "ssr"
      ],
      "metadata": {
        "colab": {
          "base_uri": "https://localhost:8080/"
        },
        "id": "0m9elwv7Yl0P",
        "outputId": "c9d9f6a5-e1d1-4b24-ee01-d7fcf1708007"
      },
      "execution_count": null,
      "outputs": [
        {
          "output_type": "execute_result",
          "data": {
            "text/plain": [
              "838.938225316312"
            ]
          },
          "metadata": {},
          "execution_count": 114
        }
      ]
    },
    {
      "cell_type": "code",
      "source": [
        "print(f'MSE: {ssr/len(y_test)}')"
      ],
      "metadata": {
        "colab": {
          "base_uri": "https://localhost:8080/"
        },
        "id": "rIKNIJ-BYvlk",
        "outputId": "485a390d-76ce-4f4c-ccb5-249f00ee4bc5"
      },
      "execution_count": null,
      "outputs": [
        {
          "output_type": "stream",
          "name": "stdout",
          "text": [
            "MSE: 10.619471206535595\n"
          ]
        }
      ]
    },
    {
      "cell_type": "markdown",
      "source": [
        "## 결론"
      ],
      "metadata": {
        "id": "BkxtnKKp2aJH"
      }
    },
    {
      "cell_type": "code",
      "source": [
        "# 다층 신경망 모형이 선형 회귀 모형 보다 더 좋다."
      ],
      "metadata": {
        "id": "RVgkrnCz2eAK"
      },
      "execution_count": null,
      "outputs": []
    }
  ]
}
