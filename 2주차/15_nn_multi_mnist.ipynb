{
  "nbformat": 4,
  "nbformat_minor": 0,
  "metadata": {
    "colab": {
      "provenance": [],
      "mount_file_id": "1vjfqLAfGMwIeV5o_Rt4FyqhMU5GhvL0o",
      "authorship_tag": "ABX9TyPi7CtSz82AOIIPTHJO4U9B",
      "include_colab_link": true
    },
    "kernelspec": {
      "name": "python3",
      "display_name": "Python 3"
    },
    "language_info": {
      "name": "python"
    }
  },
  "cells": [
    {
      "cell_type": "markdown",
      "metadata": {
        "id": "view-in-github",
        "colab_type": "text"
      },
      "source": [
        "<a href=\"https://colab.research.google.com/github/YangHyunu/Signiture/blob/main/15_nn_multi_mnist.ipynb\" target=\"_parent\"><img src=\"https://colab.research.google.com/assets/colab-badge.svg\" alt=\"Open In Colab\"/></a>"
      ]
    },
    {
      "cell_type": "markdown",
      "source": [
        "## NN 다중분류(흑백)\n",
        "- **mnist 데이터셋**\n",
        "  - **목표: 0~9로 구성된 흑백 숫자를 구분하는 것**"
      ],
      "metadata": {
        "id": "c6K3YMq7qidm"
      }
    },
    {
      "cell_type": "code",
      "execution_count": 3,
      "metadata": {
        "colab": {
          "base_uri": "https://localhost:8080/"
        },
        "id": "pJ4hgIcGoA81",
        "outputId": "159d6c19-3d18-4427-94f9-040c2a2822ee"
      },
      "outputs": [
        {
          "output_type": "stream",
          "name": "stdout",
          "text": [
            "time: 2.48 ms (started: 2024-07-08 02:22:26 +00:00)\n"
          ]
        }
      ],
      "source": [
        "!pip install --q ipython-autotime\n",
        "%load_ext autotime"
      ]
    },
    {
      "cell_type": "code",
      "source": [
        "import pandas as pd\n",
        "import numpy as np\n",
        "import matplotlib.pyplot as plt\n",
        "import seaborn as sns\n",
        "import tensorflow as tf\n",
        "import keras"
      ],
      "metadata": {
        "colab": {
          "base_uri": "https://localhost:8080/"
        },
        "id": "qdtlaxl8p_6P",
        "outputId": "af1111cd-8c0a-45c1-ca06-16002d128156"
      },
      "execution_count": 4,
      "outputs": [
        {
          "output_type": "stream",
          "name": "stdout",
          "text": [
            "time: 6.06 s (started: 2024-07-08 02:23:42 +00:00)\n"
          ]
        }
      ]
    },
    {
      "cell_type": "code",
      "source": [
        "## 1. 데이터 준비"
      ],
      "metadata": {
        "colab": {
          "base_uri": "https://localhost:8080/"
        },
        "id": "J7oatvrKqLsr",
        "outputId": "cb3a111d-d39d-46a4-ad1d-dbbdc4b0aa71"
      },
      "execution_count": 5,
      "outputs": [
        {
          "output_type": "stream",
          "name": "stdout",
          "text": [
            "time: 243 µs (started: 2024-07-08 02:23:59 +00:00)\n"
          ]
        }
      ]
    },
    {
      "cell_type": "code",
      "source": [
        "# ! wget https://storage.googleapis.com/tensorflow/tf-keras-datasets/mnist.npz"
      ],
      "metadata": {
        "colab": {
          "base_uri": "https://localhost:8080/"
        },
        "id": "2Mh7Yl9vricd",
        "outputId": "c34508d2-327e-4c83-abf5-e5e5c26819bd"
      },
      "execution_count": 6,
      "outputs": [
        {
          "output_type": "stream",
          "name": "stdout",
          "text": [
            "--2024-07-08 02:24:00--  https://storage.googleapis.com/tensorflow/tf-keras-datasets/mnist.npz\n",
            "Resolving storage.googleapis.com (storage.googleapis.com)... 142.251.107.207, 74.125.196.207, 173.194.216.207, ...\n",
            "Connecting to storage.googleapis.com (storage.googleapis.com)|142.251.107.207|:443... connected.\n",
            "HTTP request sent, awaiting response... 200 OK\n",
            "Length: 11490434 (11M) [application/octet-stream]\n",
            "Saving to: ‘mnist.npz’\n",
            "\n",
            "\rmnist.npz             0%[                    ]       0  --.-KB/s               \rmnist.npz           100%[===================>]  10.96M  --.-KB/s    in 0.09s   \n",
            "\n",
            "2024-07-08 02:24:00 (126 MB/s) - ‘mnist.npz’ saved [11490434/11490434]\n",
            "\n",
            "time: 206 ms (started: 2024-07-08 02:24:00 +00:00)\n"
          ]
        }
      ]
    },
    {
      "cell_type": "markdown",
      "source": [
        "**-npz 파일 불러오기**"
      ],
      "metadata": {
        "id": "zavx5W5aJ92U"
      }
    },
    {
      "cell_type": "code",
      "source": [
        "mnist= np.load('mnist.npz')\n",
        "type(mnist)"
      ],
      "metadata": {
        "colab": {
          "base_uri": "https://localhost:8080/",
          "height": 242
        },
        "id": "L7g4U0x_rs_o",
        "outputId": "f2eaba93-6df2-41ae-9684-d7a9b27f4df7"
      },
      "execution_count": 7,
      "outputs": [
        {
          "output_type": "execute_result",
          "data": {
            "text/plain": [
              "numpy.lib.npyio.NpzFile"
            ],
            "text/html": [
              "<div style=\"max-width:800px; border: 1px solid var(--colab-border-color);\"><style>\n",
              "      pre.function-repr-contents {\n",
              "        overflow-x: auto;\n",
              "        padding: 8px 12px;\n",
              "        max-height: 500px;\n",
              "      }\n",
              "\n",
              "      pre.function-repr-contents.function-repr-contents-collapsed {\n",
              "        cursor: pointer;\n",
              "        max-height: 100px;\n",
              "      }\n",
              "    </style>\n",
              "    <pre style=\"white-space: initial; background:\n",
              "         var(--colab-secondary-surface-color); padding: 8px 12px;\n",
              "         border-bottom: 1px solid var(--colab-border-color);\"><b>numpy.lib.npyio.NpzFile</b><br/>def __init__(fid, own_fid=False, allow_pickle=False, pickle_kwargs=None, *, max_header_size=format._MAX_HEADER_SIZE)</pre><pre class=\"function-repr-contents function-repr-contents-collapsed\" style=\"\"><a class=\"filepath\" style=\"display:none\" href=\"#\">/usr/local/lib/python3.10/dist-packages/numpy/lib/npyio.py</a>NpzFile(fid)\n",
              "\n",
              "A dictionary-like object with lazy-loading of files in the zipped\n",
              "archive provided on construction.\n",
              "\n",
              "`NpzFile` is used to load files in the NumPy ``.npz`` data archive\n",
              "format. It assumes that files in the archive have a ``.npy`` extension,\n",
              "other files are ignored.\n",
              "\n",
              "The arrays and file strings are lazily loaded on either\n",
              "getitem access using ``obj[&#x27;key&#x27;]`` or attribute lookup using\n",
              "``obj.f.key``. A list of all files (without ``.npy`` extensions) can\n",
              "be obtained with ``obj.files`` and the ZipFile object itself using\n",
              "``obj.zip``.\n",
              "\n",
              "Attributes\n",
              "----------\n",
              "files : list of str\n",
              "    List of all files in the archive with a ``.npy`` extension.\n",
              "zip : ZipFile instance\n",
              "    The ZipFile object initialized with the zipped archive.\n",
              "f : BagObj instance\n",
              "    An object on which attribute can be performed as an alternative\n",
              "    to getitem access on the `NpzFile` instance itself.\n",
              "allow_pickle : bool, optional\n",
              "    Allow loading pickled data. Default: False\n",
              "\n",
              "    .. versionchanged:: 1.16.3\n",
              "        Made default False in response to CVE-2019-6446.\n",
              "\n",
              "pickle_kwargs : dict, optional\n",
              "    Additional keyword arguments to pass on to pickle.load.\n",
              "    These are only useful when loading object arrays saved on\n",
              "    Python 2 when using Python 3.\n",
              "max_header_size : int, optional\n",
              "    Maximum allowed size of the header.  Large headers may not be safe\n",
              "    to load securely and thus require explicitly passing a larger value.\n",
              "    See :py:func:`ast.literal_eval()` for details.\n",
              "    This option is ignored when `allow_pickle` is passed.  In that case\n",
              "    the file is by definition trusted and the limit is unnecessary.\n",
              "\n",
              "Parameters\n",
              "----------\n",
              "fid : file or str\n",
              "    The zipped archive to open. This is either a file-like object\n",
              "    or a string containing the path to the archive.\n",
              "own_fid : bool, optional\n",
              "    Whether NpzFile should close the file handle.\n",
              "    Requires that `fid` is a file-like object.\n",
              "\n",
              "Examples\n",
              "--------\n",
              "&gt;&gt;&gt; from tempfile import TemporaryFile\n",
              "&gt;&gt;&gt; outfile = TemporaryFile()\n",
              "&gt;&gt;&gt; x = np.arange(10)\n",
              "&gt;&gt;&gt; y = np.sin(x)\n",
              "&gt;&gt;&gt; np.savez(outfile, x=x, y=y)\n",
              "&gt;&gt;&gt; _ = outfile.seek(0)\n",
              "\n",
              "&gt;&gt;&gt; npz = np.load(outfile)\n",
              "&gt;&gt;&gt; isinstance(npz, np.lib.npyio.NpzFile)\n",
              "True\n",
              "&gt;&gt;&gt; npz\n",
              "NpzFile &#x27;object&#x27; with keys x, y\n",
              "&gt;&gt;&gt; sorted(npz.files)\n",
              "[&#x27;x&#x27;, &#x27;y&#x27;]\n",
              "&gt;&gt;&gt; npz[&#x27;x&#x27;]  # getitem access\n",
              "array([0, 1, 2, 3, 4, 5, 6, 7, 8, 9])\n",
              "&gt;&gt;&gt; npz.f.x  # attribute lookup\n",
              "array([0, 1, 2, 3, 4, 5, 6, 7, 8, 9])</pre>\n",
              "      <script>\n",
              "      if (google.colab.kernel.accessAllowed && google.colab.files && google.colab.files.view) {\n",
              "        for (const element of document.querySelectorAll('.filepath')) {\n",
              "          element.style.display = 'block'\n",
              "          element.onclick = (event) => {\n",
              "            event.preventDefault();\n",
              "            event.stopPropagation();\n",
              "            google.colab.files.view(element.textContent, 106);\n",
              "          };\n",
              "        }\n",
              "      }\n",
              "      for (const element of document.querySelectorAll('.function-repr-contents')) {\n",
              "        element.onclick = (event) => {\n",
              "          event.preventDefault();\n",
              "          event.stopPropagation();\n",
              "          element.classList.toggle('function-repr-contents-collapsed');\n",
              "        };\n",
              "      }\n",
              "      </script>\n",
              "      </div>"
            ]
          },
          "metadata": {},
          "execution_count": 7
        },
        {
          "output_type": "stream",
          "name": "stdout",
          "text": [
            "time: 53.5 ms (started: 2024-07-08 02:24:08 +00:00)\n"
          ]
        }
      ]
    },
    {
      "cell_type": "markdown",
      "source": [
        "- **데이터에 이미 전처리가 완료되어 있어 x_test, x_train, y_train, y_test 로 저장되어 있음**"
      ],
      "metadata": {
        "id": "VF6SNE6gKE19"
      }
    },
    {
      "cell_type": "code",
      "source": [
        "mnist"
      ],
      "metadata": {
        "colab": {
          "base_uri": "https://localhost:8080/"
        },
        "id": "k4SPxcC1r5H-",
        "outputId": "5f0a42ca-757e-400a-8f74-6c34bb8a62ec"
      },
      "execution_count": 8,
      "outputs": [
        {
          "output_type": "execute_result",
          "data": {
            "text/plain": [
              "NpzFile 'mnist.npz' with keys: x_test, x_train, y_train, y_test"
            ]
          },
          "metadata": {},
          "execution_count": 8
        },
        {
          "output_type": "stream",
          "name": "stdout",
          "text": [
            "time: 7.74 ms (started: 2024-07-08 02:25:01 +00:00)\n"
          ]
        }
      ]
    },
    {
      "cell_type": "markdown",
      "source": [
        "**- 데이터 스플릿**"
      ],
      "metadata": {
        "id": "X5jaLyrRKMMg"
      }
    },
    {
      "cell_type": "code",
      "source": [
        "X_train = mnist['x_train']\n",
        "X_test = mnist['x_test']\n",
        "y_train = mnist['y_train']\n",
        "y_test = mnist['y_test']"
      ],
      "metadata": {
        "colab": {
          "base_uri": "https://localhost:8080/"
        },
        "id": "sUZHb-86sFeY",
        "outputId": "bcd6adbe-bf90-4331-e918-7878d1c82fe1"
      },
      "execution_count": 9,
      "outputs": [
        {
          "output_type": "stream",
          "name": "stdout",
          "text": [
            "time: 375 ms (started: 2024-07-08 02:25:08 +00:00)\n"
          ]
        }
      ]
    },
    {
      "cell_type": "code",
      "source": [
        "print(X_train.shape, X_test.shape, y_train.shape, y_test.shape) # 흑백 이미지라 채널이 없다.\n",
        "print(type(X_train),type(X_test))"
      ],
      "metadata": {
        "colab": {
          "base_uri": "https://localhost:8080/"
        },
        "id": "3xa3LHDcsaXv",
        "outputId": "f648fefd-c700-4270-b834-fb55f74eb083"
      },
      "execution_count": 10,
      "outputs": [
        {
          "output_type": "stream",
          "name": "stdout",
          "text": [
            "(60000, 28, 28) (10000, 28, 28) (60000,) (10000,)\n",
            "<class 'numpy.ndarray'> <class 'numpy.ndarray'>\n",
            "time: 4.69 ms (started: 2024-07-08 02:25:24 +00:00)\n"
          ]
        }
      ]
    },
    {
      "cell_type": "code",
      "source": [
        "X_train.ndim"
      ],
      "metadata": {
        "colab": {
          "base_uri": "https://localhost:8080/"
        },
        "id": "udxc9_gnscFY",
        "outputId": "48319e4a-745f-44e6-f362-f46d91a4f6ae"
      },
      "execution_count": 11,
      "outputs": [
        {
          "output_type": "execute_result",
          "data": {
            "text/plain": [
              "3"
            ]
          },
          "metadata": {},
          "execution_count": 11
        },
        {
          "output_type": "stream",
          "name": "stdout",
          "text": [
            "time: 3.1 ms (started: 2024-07-08 02:25:27 +00:00)\n"
          ]
        }
      ]
    },
    {
      "cell_type": "code",
      "source": [
        "print(type(y_train),type(y_test))"
      ],
      "metadata": {
        "colab": {
          "base_uri": "https://localhost:8080/"
        },
        "id": "VsDSzjGjs3_x",
        "outputId": "5edd7b8e-e3c9-4671-cdf5-fb4cbc11ad30"
      },
      "execution_count": 12,
      "outputs": [
        {
          "output_type": "stream",
          "name": "stdout",
          "text": [
            "<class 'numpy.ndarray'> <class 'numpy.ndarray'>\n",
            "time: 1.02 ms (started: 2024-07-08 02:25:28 +00:00)\n"
          ]
        }
      ]
    },
    {
      "cell_type": "markdown",
      "source": [
        "## 2. 데이터 확인"
      ],
      "metadata": {
        "id": "Z56hDSPctCi1"
      }
    },
    {
      "cell_type": "code",
      "source": [
        "y_train[:10]"
      ],
      "metadata": {
        "colab": {
          "base_uri": "https://localhost:8080/"
        },
        "id": "-HgY36OEtQqV",
        "outputId": "98f048b0-36dd-48f4-9f48-09e76c6b70e2"
      },
      "execution_count": 13,
      "outputs": [
        {
          "output_type": "execute_result",
          "data": {
            "text/plain": [
              "array([5, 0, 4, 1, 9, 2, 1, 3, 1, 4], dtype=uint8)"
            ]
          },
          "metadata": {},
          "execution_count": 13
        },
        {
          "output_type": "stream",
          "name": "stdout",
          "text": [
            "time: 4.29 ms (started: 2024-07-08 02:25:59 +00:00)\n"
          ]
        }
      ]
    },
    {
      "cell_type": "code",
      "source": [
        "np.random.seed(42)\n",
        "sample = np.random.randint(60000,size=25)\n",
        "sample # 6000만개의 데이터 중 25 가지 뽑인 INDEX값을 가짐"
      ],
      "metadata": {
        "colab": {
          "base_uri": "https://localhost:8080/"
        },
        "id": "YhSwxKfdtTIX",
        "outputId": "b39fb0e5-6bfe-4571-e1cd-753bc11c47c7"
      },
      "execution_count": 14,
      "outputs": [
        {
          "output_type": "execute_result",
          "data": {
            "text/plain": [
              "array([56422, 15795,   860, 38158, 54343, 44732, 11284, 54886,  6265,\n",
              "       16850, 37194, 21962, 47191, 44131, 16023, 41090,  1685,   769,\n",
              "       59735, 56101,  2433,  5311, 37819, 39188, 17568])"
            ]
          },
          "metadata": {},
          "execution_count": 14
        },
        {
          "output_type": "stream",
          "name": "stdout",
          "text": [
            "time: 4.33 ms (started: 2024-07-08 02:26:00 +00:00)\n"
          ]
        }
      ]
    },
    {
      "cell_type": "code",
      "source": [
        "plt.figure(figsize=(8,8))\n",
        "for i, idx in enumerate(sample):\n",
        "  plt.subplot(5, 5,i+1) # 25개 grid\n",
        "  plt.imshow(X_train[idx],cmap='gray')\n",
        "  plt.title(y_train[idx]) # 정답값 표시\n",
        "  plt.axis('off')\n",
        "plt.show()\n"
      ],
      "metadata": {
        "colab": {
          "base_uri": "https://localhost:8080/",
          "height": 713
        },
        "id": "C0qykKDNtjL5",
        "outputId": "925874df-a925-4d84-e60b-9433ae5b3c90"
      },
      "execution_count": 15,
      "outputs": [
        {
          "output_type": "display_data",
          "data": {
            "text/plain": [
              "<Figure size 800x800 with 25 Axes>"
            ],
            "image/png": "[encoded data removed]"
          },
          "metadata": {}
        },
        {
          "output_type": "stream",
          "name": "stdout",
          "text": [
            "time: 3.19 s (started: 2024-07-08 02:26:07 +00:00)\n"
          ]
        }
      ]
    },
    {
      "cell_type": "markdown",
      "source": [
        "**y_train 이 넘파이 배열 1차원 벡터라 데이터프레임 형태로 변환 시킨 배열을 저장해서 데이터 탐색**"
      ],
      "metadata": {
        "id": "4N4PeihOKnMs"
      }
    },
    {
      "cell_type": "code",
      "source": [
        "sr=pd.Series(y_train).value_counts().sort_index()"
      ],
      "metadata": {
        "colab": {
          "base_uri": "https://localhost:8080/"
        },
        "id": "qUok2rQutsdi",
        "outputId": "d4d17664-404c-439d-e644-3aabc749c1b7"
      },
      "execution_count": 19,
      "outputs": [
        {
          "output_type": "stream",
          "name": "stdout",
          "text": [
            "time: 19.8 ms (started: 2024-07-08 02:28:18 +00:00)\n"
          ]
        }
      ]
    },
    {
      "cell_type": "code",
      "source": [
        "plt.bar(sr.index,sr)\n",
        "plt.show()"
      ],
      "metadata": {
        "colab": {
          "base_uri": "https://localhost:8080/",
          "height": 469
        },
        "id": "Kbxdt6BBtsWx",
        "outputId": "2764535a-d3c5-49e6-b70f-a976d9de4d59"
      },
      "execution_count": 20,
      "outputs": [
        {
          "output_type": "display_data",
          "data": {
            "text/plain": [
              "<Figure size 640x480 with 1 Axes>"
            ],
            "image/png": "[encoded data removed]"
          },
          "metadata": {}
        },
        {
          "output_type": "stream",
          "name": "stdout",
          "text": [
            "time: 591 ms (started: 2024-07-08 02:28:18 +00:00)\n"
          ]
        }
      ]
    },
    {
      "cell_type": "markdown",
      "source": [
        "## 학습용, 검증용 데이터 분리"
      ],
      "metadata": {
        "id": "kG4z5E7CvMqw"
      }
    },
    {
      "cell_type": "code",
      "source": [
        "from sklearn.model_selection import train_test_split\n",
        "X_train,X_valid,y_train,y_valid= train_test_split(X_train,y_train,test_size=0.2,random_state=42)"
      ],
      "metadata": {
        "colab": {
          "base_uri": "https://localhost:8080/"
        },
        "id": "iwBRdWXRvfgW",
        "outputId": "9fb90285-ceb1-467a-844b-e942b5118e2f"
      },
      "execution_count": 21,
      "outputs": [
        {
          "output_type": "stream",
          "name": "stdout",
          "text": [
            "time: 276 ms (started: 2024-07-08 02:32:37 +00:00)\n"
          ]
        }
      ]
    },
    {
      "cell_type": "code",
      "source": [
        "print(X_train.shape, X_valid.shape, y_train.shape, y_valid.shape)\n",
        "print(type(X_train),type(y_train))"
      ],
      "metadata": {
        "colab": {
          "base_uri": "https://localhost:8080/"
        },
        "id": "6m9gt_pKvkcd",
        "outputId": "678066a6-9111-4ae8-8744-b922d9512b0e"
      },
      "execution_count": 22,
      "outputs": [
        {
          "output_type": "stream",
          "name": "stdout",
          "text": [
            "(48000, 28, 28) (12000, 28, 28) (48000,) (12000,)\n",
            "<class 'numpy.ndarray'> <class 'numpy.ndarray'>\n",
            "time: 789 µs (started: 2024-07-08 02:32:40 +00:00)\n"
          ]
        }
      ]
    },
    {
      "cell_type": "markdown",
      "source": [
        "## 4.데이터 (전)처리\n",
        "- X값은 스케일링\n",
        "- y값은 원핫인코딩"
      ],
      "metadata": {
        "id": "NaU0dXVEwaDD"
      }
    },
    {
      "cell_type": "code",
      "source": [
        "X_train[0]"
      ],
      "metadata": {
        "colab": {
          "base_uri": "https://localhost:8080/",
          "height": 106
        },
        "id": "hDBNZnaSw5mP",
        "outputId": "289ec1d8-86bd-4837-8afd-f9b8359bf5c0"
      },
      "execution_count": 23,
      "outputs": [
        {
          "output_type": "execute_result",
          "data": {
            "text/plain": [
              "array([[  0,   0,   0,   0,   0,   0,   0,   0,   0,   0,   0,   0,   0,\n",
              "          0,   0,   0,   0,   0,   0,   0,   0,   0,   0,   0,   0,   0,\n",
              "          0,   0],\n",
              "       [  0,   0,   0,   0,   0,   0,   0,   0,   0,   0,   0,   0,   0,\n",
              "          0,   0,   0,   0,   0,   0,   0,   0,   0,   0,   0,   0,   0,\n",
              "          0,   0],\n",
              "       [  0,   0,   0,   0,   0,   0,   0,   0,   0,   0,   0,   0,   0,\n",
              "          0,   0,   0,   0,   0,   0,   0,   0,   0,   0,   0,   0,   0,\n",
              "          0,   0],\n",
              "       [  0,   0,   0,   0,   0,   0,   0,   0,   0,   0,   0,   0,   0,\n",
              "          0,   0,   0,   0,   0,   0,   0,   0,   0,   0,   0,   0,   0,\n",
              "          0,   0],\n",
              "       [  0,   0,   0,   0,   0,   0,   0,   0,   0,   0,   0,   0,   0,\n",
              "          0,   0,   0,   0,   0,   0,   0,   0,   0,   0,   0,   0,   0,\n",
              "          0,   0],\n",
              "       [  0,   0,   0,   0,   0,   0,   0,   0,   0,   0,   0,   0,   0,\n",
              "          0,   0,   0,   0,   0,   0,  17,  47,  47,  47,  47,  47,  47,\n",
              "         28,   0],\n",
              "       [  0,   0,   0,   0,   0,   0,   0,   0,   0,  14,  63,   0,   0,\n",
              "          0,  62, 138, 197, 197, 197, 217, 253, 253, 253, 253, 253, 253,\n",
              "        230,   0],\n",
              "       [  0,   0,   0,   0,   0,   0,   0,   0,   0, 151, 170,   0,  56,\n",
              "        232, 250, 253, 231, 217, 217, 217, 217, 217, 217, 217, 128, 179,\n",
              "        132,   0],\n",
              "       [  0,   0,   0,   0,   0,   0,   0,   0, 104, 251, 170,  20, 233,\n",
              "        253, 199,  84,  26,   0,   0,   0,   0,   0,   0,   0,   0,   0,\n",
              "          0,   0],\n",
              "       [  0,   0,   0,   0,   0,   0,   0,   5, 203, 253, 160,   3,  20,\n",
              "         20,   7,   0,   0,   0,   0,   0,   0,   0,   0,   0,   0,   0,\n",
              "          0,   0],\n",
              "       [  0,   0,   0,   0,   0,   0,   0,  77, 253, 228,  21,   0,   0,\n",
              "          0,   0,   0,   0,   0,   0,   0,   0,   0,   0,   0,   0,   0,\n",
              "          0,   0],\n",
              "       [  0,   0,   0,   0,   0,   0,   0, 150, 253, 249, 223, 223, 193,\n",
              "         71,   6,   0,   0,   0,   0,   0,   0,   0,   0,   0,   0,   0,\n",
              "          0,   0],\n",
              "       [  0,   0,   0,   0,   0,   0,   0, 126, 253, 253, 253, 253, 253,\n",
              "        253, 196, 121,   0,   0,   0,   0,   0,   0,   0,   0,   0,   0,\n",
              "          0,   0],\n",
              "       [  0,   0,   0,   0,   0,   0,   0,   8, 202, 191, 144, 144, 217,\n",
              "        251, 253, 253, 170,   4,   0,   0,   0,   0,   0,   0,   0,   0,\n",
              "          0,   0],\n",
              "       [  0,   0,   0,   0,   0,   0,   0,   0,   0,   0,   0,   0,   0,\n",
              "         53, 236, 253, 253, 215,   3,   0,   0,   0,   0,   0,   0,   0,\n",
              "          0,   0],\n",
              "       [  0,   0,   0,   0,   0,   0,   0,   0,   0,   0,   0,   0,   0,\n",
              "          0,  34, 180, 253, 253, 128,   0,   0,   0,   0,   0,   0,   0,\n",
              "          0,   0],\n",
              "       [  0,   0,   0,   0,   0,   0,   0,   0,   0,   0,   0,   0,   0,\n",
              "          0,   0,   2, 140, 253, 236,  36,   0,   0,   0,   0,   0,   0,\n",
              "          0,   0],\n",
              "       [  0,   0,   0,   0,   0,   0,   0,  37,   0,   0,   0,   0,   0,\n",
              "          0,   0,   0,  13, 215, 253,  62,   0,   0,   0,   0,   0,   0,\n",
              "          0,   0],\n",
              "       [  0,   0,   0,   0,   0,   0,   0, 246,  53,   0,   0,   0,   0,\n",
              "          0,   0,   0,   0, 105, 253,  62,   0,   0,   0,   0,   0,   0,\n",
              "          0,   0],\n",
              "       [  0,   0,   0,   0,   0,   0,   0, 254,  57,   0,   0,   0,   0,\n",
              "          0,   0,   0,   0,  99, 253,  62,   0,   0,   0,   0,   0,   0,\n",
              "          0,   0],\n",
              "       [  0,   0,   0,   0,   0,   0,   0, 255,  65,   0,   0,   0,   0,\n",
              "          0,   0,   0,  35, 217, 253,  62,   0,   0,   0,   0,   0,   0,\n",
              "          0,   0],\n",
              "       [  0,   0,   0,   0,   0,   0,   0, 227, 223, 115,  18,   0,   0,\n",
              "          5,  68, 113, 222, 253, 242,  46,   0,   0,   0,   0,   0,   0,\n",
              "          0,   0],\n",
              "       [  0,   0,   0,   0,   0,   0,   0,  41, 224, 253, 227, 218, 218,\n",
              "        220, 253, 253, 253, 249,  76,   0,   0,   0,   0,   0,   0,   0,\n",
              "          0,   0],\n",
              "       [  0,   0,   0,   0,   0,   0,   0,   0,  35, 150, 215, 253, 253,\n",
              "        253, 253, 205, 175,  57,   0,   0,   0,   0,   0,   0,   0,   0,\n",
              "          0,   0],\n",
              "       [  0,   0,   0,   0,   0,   0,   0,   0,   0,   0,  16,  46,  46,\n",
              "         46,  46,   8,   0,   0,   0,   0,   0,   0,   0,   0,   0,   0,\n",
              "          0,   0],\n",
              "       [  0,   0,   0,   0,   0,   0,   0,   0,   0,   0,   0,   0,   0,\n",
              "          0,   0,   0,   0,   0,   0,   0,   0,   0,   0,   0,   0,   0,\n",
              "          0,   0],\n",
              "       [  0,   0,   0,   0,   0,   0,   0,   0,   0,   0,   0,   0,   0,\n",
              "          0,   0,   0,   0,   0,   0,   0,   0,   0,   0,   0,   0,   0,\n",
              "          0,   0],\n",
              "       [  0,   0,   0,   0,   0,   0,   0,   0,   0,   0,   0,   0,   0,\n",
              "          0,   0,   0,   0,   0,   0,   0,   0,   0,   0,   0,   0,   0,\n",
              "          0,   0]], dtype=uint8)"
            ],
            "text/html": [
              "<style>\n",
              "      .ndarray_repr .ndarray_raw_data {\n",
              "        display: none;\n",
              "      }\n",
              "      .ndarray_repr.show_array .ndarray_raw_data {\n",
              "        display: block;\n",
              "      }\n",
              "      .ndarray_repr.show_array .ndarray_image_preview {\n",
              "        display: none;\n",
              "      }\n",
              "      </style>\n",
              "      <div id=\"id-6f99d24a-ec8f-4cfd-a046-ccfea01b5788\" class=\"ndarray_repr\"><pre>ndarray (28, 28) <button style=\"padding: 0 2px;\">show data</button></pre><img src=\"data:image/png;base64,iVBORw0KGgoAAAANSUhEUgAAABwAAAAcCAAAAABXZoBIAAABBklEQVR4nGNgGGSAEYuYoBwDAwMDw9snCEk+w4MMDHY+1gwMIioMDAwMDC+lWOCSncIHLTYIMb/6xMBwh4GBYbnxRYRZGb9Xibz8ezxECsl8mE7WZKZv77UZPv/E5jDfv09EMQSZoLQng+ip+wfd2bB6qe7v379///49UonNnxyHvl5k8FRiYlgb9QerbgYG0zd//15nxiHJoLTl798GXJIMTD1/36igC6rCGLzX/9rBVULpi6ZQxudJSMbAXAsP5F+YkowcUIZyGaZDHt8vFmJgYHUpvPf3kx66pOaDv49v3brz9+/fnz6YWpWnXf/79+/fs+stEWJIyURAjoGB4dYPTH3UBgDV5VC2qWE74AAAAABJRU5ErkJggg==\" class=\"ndarray_image_preview\" /><pre class=\"ndarray_raw_data\">array([[  0,   0,   0,   0,   0,   0,   0,   0,   0,   0,   0,   0,   0,\n",
              "          0,   0,   0,   0,   0,   0,   0,   0,   0,   0,   0,   0,   0,\n",
              "          0,   0],\n",
              "       [  0,   0,   0,   0,   0,   0,   0,   0,   0,   0,   0,   0,   0,\n",
              "          0,   0,   0,   0,   0,   0,   0,   0,   0,   0,   0,   0,   0,\n",
              "          0,   0],\n",
              "       [  0,   0,   0,   0,   0,   0,   0,   0,   0,   0,   0,   0,   0,\n",
              "          0,   0,   0,   0,   0,   0,   0,   0,   0,   0,   0,   0,   0,\n",
              "          0,   0],\n",
              "       [  0,   0,   0,   0,   0,   0,   0,   0,   0,   0,   0,   0,   0,\n",
              "          0,   0,   0,   0,   0,   0,   0,   0,   0,   0,   0,   0,   0,\n",
              "          0,   0],\n",
              "       [  0,   0,   0,   0,   0,   0,   0,   0,   0,   0,   0,   0,   0,\n",
              "          0,   0,   0,   0,   0,   0,   0,   0,   0,   0,   0,   0,   0,\n",
              "          0,   0],\n",
              "       [  0,   0,   0,   0,   0,   0,   0,   0,   0,   0,   0,   0,   0,\n",
              "          0,   0,   0,   0,   0,   0,  17,  47,  47,  47,  47,  47,  47,\n",
              "         28,   0],\n",
              "       [  0,   0,   0,   0,   0,   0,   0,   0,   0,  14,  63,   0,   0,\n",
              "          0,  62, 138, 197, 197, 197, 217, 253, 253, 253, 253, 253, 253,\n",
              "        230,   0],\n",
              "       [  0,   0,   0,   0,   0,   0,   0,   0,   0, 151, 170,   0,  56,\n",
              "        232, 250, 253, 231, 217, 217, 217, 217, 217, 217, 217, 128, 179,\n",
              "        132,   0],\n",
              "       [  0,   0,   0,   0,   0,   0,   0,   0, 104, 251, 170,  20, 233,\n",
              "        253, 199,  84,  26,   0,   0,   0,   0,   0,   0,   0,   0,   0,\n",
              "          0,   0],\n",
              "       [  0,   0,   0,   0,   0,   0,   0,   5, 203, 253, 160,   3,  20,\n",
              "         20,   7,   0,   0,   0,   0,   0,   0,   0,   0,   0,   0,   0,\n",
              "          0,   0],\n",
              "       [  0,   0,   0,   0,   0,   0,   0,  77, 253, 228,  21,   0,   0,\n",
              "          0,   0,   0,   0,   0,   0,   0,   0,   0,   0,   0,   0,   0,\n",
              "          0,   0],\n",
              "       [  0,   0,   0,   0,   0,   0,   0, 150, 253, 249, 223, 223, 193,\n",
              "         71,   6,   0,   0,   0,   0,   0,   0,   0,   0,   0,   0,   0,\n",
              "          0,   0],\n",
              "       [  0,   0,   0,   0,   0,   0,   0, 126, 253, 253, 253, 253, 253,\n",
              "        253, 196, 121,   0,   0,   0,   0,   0,   0,   0,   0,   0,   0,\n",
              "          0,   0],\n",
              "       [  0,   0,   0,   0,   0,   0,   0,   8, 202, 191, 144, 144, 217,\n",
              "        251, 253, 253, 170,   4,   0,   0,   0,   0,   0,   0,   0,   0,\n",
              "          0,   0],\n",
              "       [  0,   0,   0,   0,   0,   0,   0,   0,   0,   0,   0,   0,   0,\n",
              "         53, 236, 253, 253, 215,   3,   0,   0,   0,   0,   0,   0,   0,\n",
              "          0,   0],\n",
              "       [  0,   0,   0,   0,   0,   0,   0,   0,   0,   0,   0,   0,   0,\n",
              "          0,  34, 180, 253, 253, 128,   0,   0,   0,   0,   0,   0,   0,\n",
              "          0,   0],\n",
              "       [  0,   0,   0,   0,   0,   0,   0,   0,   0,   0,   0,   0,   0,\n",
              "          0,   0,   2, 140, 253, 236,  36,   0,   0,   0,   0,   0,   0,\n",
              "          0,   0],\n",
              "       [  0,   0,   0,   0,   0,   0,   0,  37,   0,   0,   0,   0,   0,\n",
              "          0,   0,   0,  13, 215, 253,  62,   0,   0,   0,   0,   0,   0,\n",
              "          0,   0],\n",
              "       [  0,   0,   0,   0,   0,   0,   0, 246,  53,   0,   0,   0,   0,\n",
              "          0,   0,   0,   0, 105, 253,  62,   0,   0,   0,   0,   0,   0,\n",
              "          0,   0],\n",
              "       [  0,   0,   0,   0,   0,   0,   0, 254,  57,   0,   0,   0,   0,\n",
              "          0,   0,   0,   0,  99, 253,  62,   0,   0,   0,   0,   0,   0,\n",
              "          0,   0],\n",
              "       [  0,   0,   0,   0,   0,   0,   0, 255,  65,   0,   0,   0,   0,\n",
              "          0,   0,   0,  35, 217, 253,  62,   0,   0,   0,   0,   0,   0,\n",
              "          0,   0],\n",
              "       [  0,   0,   0,   0,   0,   0,   0, 227, 223, 115,  18,   0,   0,\n",
              "          5,  68, 113, 222, 253, 242,  46,   0,   0,   0,   0,   0,   0,\n",
              "          0,   0],\n",
              "       [  0,   0,   0,   0,   0,   0,   0,  41, 224, 253, 227, 218, 218,\n",
              "        220, 253, 253, 253, 249,  76,   0,   0,   0,   0,   0,   0,   0,\n",
              "          0,   0],\n",
              "       [  0,   0,   0,   0,   0,   0,   0,   0,  35, 150, 215, 253, 253,\n",
              "        253, 253, 205, 175,  57,   0,   0,   0,   0,   0,   0,   0,   0,\n",
              "          0,   0],\n",
              "       [  0,   0,   0,   0,   0,   0,   0,   0,   0,   0,  16,  46,  46,\n",
              "         46,  46,   8,   0,   0,   0,   0,   0,   0,   0,   0,   0,   0,\n",
              "          0,   0],\n",
              "       [  0,   0,   0,   0,   0,   0,   0,   0,   0,   0,   0,   0,   0,\n",
              "          0,   0,   0,   0,   0,   0,   0,   0,   0,   0,   0,   0,   0,\n",
              "          0,   0],\n",
              "       [  0,   0,   0,   0,   0,   0,   0,   0,   0,   0,   0,   0,   0,\n",
              "          0,   0,   0,   0,   0,   0,   0,   0,   0,   0,   0,   0,   0,\n",
              "          0,   0],\n",
              "       [  0,   0,   0,   0,   0,   0,   0,   0,   0,   0,   0,   0,   0,\n",
              "          0,   0,   0,   0,   0,   0,   0,   0,   0,   0,   0,   0,   0,\n",
              "          0,   0]], dtype=uint8)</pre></div><script>\n",
              "      (() => {\n",
              "      const titles = ['show data', 'hide data'];\n",
              "      let index = 0\n",
              "      document.querySelector('#id-6f99d24a-ec8f-4cfd-a046-ccfea01b5788 button').onclick = (e) => {\n",
              "        document.querySelector('#id-6f99d24a-ec8f-4cfd-a046-ccfea01b5788').classList.toggle('show_array');\n",
              "        index = (++index) % 2;\n",
              "        document.querySelector('#id-6f99d24a-ec8f-4cfd-a046-ccfea01b5788 button').textContent = titles[index];\n",
              "        e.preventDefault();\n",
              "        e.stopPropagation();\n",
              "      }\n",
              "      })();\n",
              "    </script>"
            ]
          },
          "metadata": {},
          "execution_count": 23
        },
        {
          "output_type": "stream",
          "name": "stdout",
          "text": [
            "time: 17.7 ms (started: 2024-07-08 02:32:44 +00:00)\n"
          ]
        }
      ]
    },
    {
      "cell_type": "code",
      "source": [
        "# from sklearn.preprocessing import MinMaxScaler # 이미지 데이터의 min=0 , max=255이므로 min_maxscaler\n",
        "# mm = MinMaxScaler()\n"
      ],
      "metadata": {
        "colab": {
          "base_uri": "https://localhost:8080/"
        },
        "id": "vOS1VrudxIQK",
        "outputId": "4b65e38d-e099-4f76-9bb7-aa97986f5a81"
      },
      "execution_count": 24,
      "outputs": [
        {
          "output_type": "stream",
          "name": "stdout",
          "text": [
            "time: 296 µs (started: 2024-07-08 02:33:21 +00:00)\n"
          ]
        }
      ]
    },
    {
      "cell_type": "code",
      "source": [
        "# Min_Max Scalling\n",
        "X_train_s= X_train/255.\n",
        "X_valid_s= X_valid/255."
      ],
      "metadata": {
        "colab": {
          "base_uri": "https://localhost:8080/"
        },
        "id": "moKIPLoyxw5M",
        "outputId": "77b0f2cb-84c9-4c94-b79b-29d2d63dc54d"
      },
      "execution_count": 25,
      "outputs": [
        {
          "output_type": "stream",
          "name": "stdout",
          "text": [
            "time: 228 ms (started: 2024-07-08 02:33:21 +00:00)\n"
          ]
        }
      ]
    },
    {
      "cell_type": "code",
      "source": [
        "X_train_s.shape"
      ],
      "metadata": {
        "colab": {
          "base_uri": "https://localhost:8080/"
        },
        "id": "KU01PskMMG9Q",
        "outputId": "421e5919-5938-43c3-cdf7-61119de53f58"
      },
      "execution_count": 28,
      "outputs": [
        {
          "output_type": "execute_result",
          "data": {
            "text/plain": [
              "(48000, 28, 28)"
            ]
          },
          "metadata": {},
          "execution_count": 28
        },
        {
          "output_type": "stream",
          "name": "stdout",
          "text": [
            "time: 8.87 ms (started: 2024-07-08 02:33:55 +00:00)\n"
          ]
        }
      ]
    },
    {
      "cell_type": "code",
      "source": [
        "X_train_s[0] # 위에 이미지 5가 0과 1 사이의 값으로 변함"
      ],
      "metadata": {
        "colab": {
          "base_uri": "https://localhost:8080/"
        },
        "id": "SHIvo-n5yLuG",
        "outputId": "467ff1c7-e5ff-40eb-8e8f-2f09620250d9"
      },
      "execution_count": 29,
      "outputs": [
        {
          "output_type": "execute_result",
          "data": {
            "text/plain": [
              "array([[0.        , 0.        , 0.        , 0.        , 0.        ,\n",
              "        0.        , 0.        , 0.        , 0.        , 0.        ,\n",
              "        0.        , 0.        , 0.        , 0.        , 0.        ,\n",
              "        0.        , 0.        , 0.        , 0.        , 0.        ,\n",
              "        0.        , 0.        , 0.        , 0.        , 0.        ,\n",
              "        0.        , 0.        , 0.        ],\n",
              "       [0.        , 0.        , 0.        , 0.        , 0.        ,\n",
              "        0.        , 0.        , 0.        , 0.        , 0.        ,\n",
              "        0.        , 0.        , 0.        , 0.        , 0.        ,\n",
              "        0.        , 0.        , 0.        , 0.        , 0.        ,\n",
              "        0.        , 0.        , 0.        , 0.        , 0.        ,\n",
              "        0.        , 0.        , 0.        ],\n",
              "       [0.        , 0.        , 0.        , 0.        , 0.        ,\n",
              "        0.        , 0.        , 0.        , 0.        , 0.        ,\n",
              "        0.        , 0.        , 0.        , 0.        , 0.        ,\n",
              "        0.        , 0.        , 0.        , 0.        , 0.        ,\n",
              "        0.        , 0.        , 0.        , 0.        , 0.        ,\n",
              "        0.        , 0.        , 0.        ],\n",
              "       [0.        , 0.        , 0.        , 0.        , 0.        ,\n",
              "        0.        , 0.        , 0.        , 0.        , 0.        ,\n",
              "        0.        , 0.        , 0.        , 0.        , 0.        ,\n",
              "        0.        , 0.        , 0.        , 0.        , 0.        ,\n",
              "        0.        , 0.        , 0.        , 0.        , 0.        ,\n",
              "        0.        , 0.        , 0.        ],\n",
              "       [0.        , 0.        , 0.        , 0.        , 0.        ,\n",
              "        0.        , 0.        , 0.        , 0.        , 0.        ,\n",
              "        0.        , 0.        , 0.        , 0.        , 0.        ,\n",
              "        0.        , 0.        , 0.        , 0.        , 0.        ,\n",
              "        0.        , 0.        , 0.        , 0.        , 0.        ,\n",
              "        0.        , 0.        , 0.        ],\n",
              "       [0.        , 0.        , 0.        , 0.        , 0.        ,\n",
              "        0.        , 0.        , 0.        , 0.        , 0.        ,\n",
              "        0.        , 0.        , 0.        , 0.        , 0.        ,\n",
              "        0.        , 0.        , 0.        , 0.        , 0.06666667,\n",
              "        0.18431373, 0.18431373, 0.18431373, 0.18431373, 0.18431373,\n",
              "        0.18431373, 0.10980392, 0.        ],\n",
              "       [0.        , 0.        , 0.        , 0.        , 0.        ,\n",
              "        0.        , 0.        , 0.        , 0.        , 0.05490196,\n",
              "        0.24705882, 0.        , 0.        , 0.        , 0.24313725,\n",
              "        0.54117647, 0.77254902, 0.77254902, 0.77254902, 0.85098039,\n",
              "        0.99215686, 0.99215686, 0.99215686, 0.99215686, 0.99215686,\n",
              "        0.99215686, 0.90196078, 0.        ],\n",
              "       [0.        , 0.        , 0.        , 0.        , 0.        ,\n",
              "        0.        , 0.        , 0.        , 0.        , 0.59215686,\n",
              "        0.66666667, 0.        , 0.21960784, 0.90980392, 0.98039216,\n",
              "        0.99215686, 0.90588235, 0.85098039, 0.85098039, 0.85098039,\n",
              "        0.85098039, 0.85098039, 0.85098039, 0.85098039, 0.50196078,\n",
              "        0.70196078, 0.51764706, 0.        ],\n",
              "       [0.        , 0.        , 0.        , 0.        , 0.        ,\n",
              "        0.        , 0.        , 0.        , 0.40784314, 0.98431373,\n",
              "        0.66666667, 0.07843137, 0.91372549, 0.99215686, 0.78039216,\n",
              "        0.32941176, 0.10196078, 0.        , 0.        , 0.        ,\n",
              "        0.        , 0.        , 0.        , 0.        , 0.        ,\n",
              "        0.        , 0.        , 0.        ],\n",
              "       [0.        , 0.        , 0.        , 0.        , 0.        ,\n",
              "        0.        , 0.        , 0.01960784, 0.79607843, 0.99215686,\n",
              "        0.62745098, 0.01176471, 0.07843137, 0.07843137, 0.02745098,\n",
              "        0.        , 0.        , 0.        , 0.        , 0.        ,\n",
              "        0.        , 0.        , 0.        , 0.        , 0.        ,\n",
              "        0.        , 0.        , 0.        ],\n",
              "       [0.        , 0.        , 0.        , 0.        , 0.        ,\n",
              "        0.        , 0.        , 0.30196078, 0.99215686, 0.89411765,\n",
              "        0.08235294, 0.        , 0.        , 0.        , 0.        ,\n",
              "        0.        , 0.        , 0.        , 0.        , 0.        ,\n",
              "        0.        , 0.        , 0.        , 0.        , 0.        ,\n",
              "        0.        , 0.        , 0.        ],\n",
              "       [0.        , 0.        , 0.        , 0.        , 0.        ,\n",
              "        0.        , 0.        , 0.58823529, 0.99215686, 0.97647059,\n",
              "        0.8745098 , 0.8745098 , 0.75686275, 0.27843137, 0.02352941,\n",
              "        0.        , 0.        , 0.        , 0.        , 0.        ,\n",
              "        0.        , 0.        , 0.        , 0.        , 0.        ,\n",
              "        0.        , 0.        , 0.        ],\n",
              "       [0.        , 0.        , 0.        , 0.        , 0.        ,\n",
              "        0.        , 0.        , 0.49411765, 0.99215686, 0.99215686,\n",
              "        0.99215686, 0.99215686, 0.99215686, 0.99215686, 0.76862745,\n",
              "        0.4745098 , 0.        , 0.        , 0.        , 0.        ,\n",
              "        0.        , 0.        , 0.        , 0.        , 0.        ,\n",
              "        0.        , 0.        , 0.        ],\n",
              "       [0.        , 0.        , 0.        , 0.        , 0.        ,\n",
              "        0.        , 0.        , 0.03137255, 0.79215686, 0.74901961,\n",
              "        0.56470588, 0.56470588, 0.85098039, 0.98431373, 0.99215686,\n",
              "        0.99215686, 0.66666667, 0.01568627, 0.        , 0.        ,\n",
              "        0.        , 0.        , 0.        , 0.        , 0.        ,\n",
              "        0.        , 0.        , 0.        ],\n",
              "       [0.        , 0.        , 0.        , 0.        , 0.        ,\n",
              "        0.        , 0.        , 0.        , 0.        , 0.        ,\n",
              "        0.        , 0.        , 0.        , 0.20784314, 0.9254902 ,\n",
              "        0.99215686, 0.99215686, 0.84313725, 0.01176471, 0.        ,\n",
              "        0.        , 0.        , 0.        , 0.        , 0.        ,\n",
              "        0.        , 0.        , 0.        ],\n",
              "       [0.        , 0.        , 0.        , 0.        , 0.        ,\n",
              "        0.        , 0.        , 0.        , 0.        , 0.        ,\n",
              "        0.        , 0.        , 0.        , 0.        , 0.13333333,\n",
              "        0.70588235, 0.99215686, 0.99215686, 0.50196078, 0.        ,\n",
              "        0.        , 0.        , 0.        , 0.        , 0.        ,\n",
              "        0.        , 0.        , 0.        ],\n",
              "       [0.        , 0.        , 0.        , 0.        , 0.        ,\n",
              "        0.        , 0.        , 0.        , 0.        , 0.        ,\n",
              "        0.        , 0.        , 0.        , 0.        , 0.        ,\n",
              "        0.00784314, 0.54901961, 0.99215686, 0.9254902 , 0.14117647,\n",
              "        0.        , 0.        , 0.        , 0.        , 0.        ,\n",
              "        0.        , 0.        , 0.        ],\n",
              "       [0.        , 0.        , 0.        , 0.        , 0.        ,\n",
              "        0.        , 0.        , 0.14509804, 0.        , 0.        ,\n",
              "        0.        , 0.        , 0.        , 0.        , 0.        ,\n",
              "        0.        , 0.05098039, 0.84313725, 0.99215686, 0.24313725,\n",
              "        0.        , 0.        , 0.        , 0.        , 0.        ,\n",
              "        0.        , 0.        , 0.        ],\n",
              "       [0.        , 0.        , 0.        , 0.        , 0.        ,\n",
              "        0.        , 0.        , 0.96470588, 0.20784314, 0.        ,\n",
              "        0.        , 0.        , 0.        , 0.        , 0.        ,\n",
              "        0.        , 0.        , 0.41176471, 0.99215686, 0.24313725,\n",
              "        0.        , 0.        , 0.        , 0.        , 0.        ,\n",
              "        0.        , 0.        , 0.        ],\n",
              "       [0.        , 0.        , 0.        , 0.        , 0.        ,\n",
              "        0.        , 0.        , 0.99607843, 0.22352941, 0.        ,\n",
              "        0.        , 0.        , 0.        , 0.        , 0.        ,\n",
              "        0.        , 0.        , 0.38823529, 0.99215686, 0.24313725,\n",
              "        0.        , 0.        , 0.        , 0.        , 0.        ,\n",
              "        0.        , 0.        , 0.        ],\n",
              "       [0.        , 0.        , 0.        , 0.        , 0.        ,\n",
              "        0.        , 0.        , 1.        , 0.25490196, 0.        ,\n",
              "        0.        , 0.        , 0.        , 0.        , 0.        ,\n",
              "        0.        , 0.1372549 , 0.85098039, 0.99215686, 0.24313725,\n",
              "        0.        , 0.        , 0.        , 0.        , 0.        ,\n",
              "        0.        , 0.        , 0.        ],\n",
              "       [0.        , 0.        , 0.        , 0.        , 0.        ,\n",
              "        0.        , 0.        , 0.89019608, 0.8745098 , 0.45098039,\n",
              "        0.07058824, 0.        , 0.        , 0.01960784, 0.26666667,\n",
              "        0.44313725, 0.87058824, 0.99215686, 0.94901961, 0.18039216,\n",
              "        0.        , 0.        , 0.        , 0.        , 0.        ,\n",
              "        0.        , 0.        , 0.        ],\n",
              "       [0.        , 0.        , 0.        , 0.        , 0.        ,\n",
              "        0.        , 0.        , 0.16078431, 0.87843137, 0.99215686,\n",
              "        0.89019608, 0.85490196, 0.85490196, 0.8627451 , 0.99215686,\n",
              "        0.99215686, 0.99215686, 0.97647059, 0.29803922, 0.        ,\n",
              "        0.        , 0.        , 0.        , 0.        , 0.        ,\n",
              "        0.        , 0.        , 0.        ],\n",
              "       [0.        , 0.        , 0.        , 0.        , 0.        ,\n",
              "        0.        , 0.        , 0.        , 0.1372549 , 0.58823529,\n",
              "        0.84313725, 0.99215686, 0.99215686, 0.99215686, 0.99215686,\n",
              "        0.80392157, 0.68627451, 0.22352941, 0.        , 0.        ,\n",
              "        0.        , 0.        , 0.        , 0.        , 0.        ,\n",
              "        0.        , 0.        , 0.        ],\n",
              "       [0.        , 0.        , 0.        , 0.        , 0.        ,\n",
              "        0.        , 0.        , 0.        , 0.        , 0.        ,\n",
              "        0.0627451 , 0.18039216, 0.18039216, 0.18039216, 0.18039216,\n",
              "        0.03137255, 0.        , 0.        , 0.        , 0.        ,\n",
              "        0.        , 0.        , 0.        , 0.        , 0.        ,\n",
              "        0.        , 0.        , 0.        ],\n",
              "       [0.        , 0.        , 0.        , 0.        , 0.        ,\n",
              "        0.        , 0.        , 0.        , 0.        , 0.        ,\n",
              "        0.        , 0.        , 0.        , 0.        , 0.        ,\n",
              "        0.        , 0.        , 0.        , 0.        , 0.        ,\n",
              "        0.        , 0.        , 0.        , 0.        , 0.        ,\n",
              "        0.        , 0.        , 0.        ],\n",
              "       [0.        , 0.        , 0.        , 0.        , 0.        ,\n",
              "        0.        , 0.        , 0.        , 0.        , 0.        ,\n",
              "        0.        , 0.        , 0.        , 0.        , 0.        ,\n",
              "        0.        , 0.        , 0.        , 0.        , 0.        ,\n",
              "        0.        , 0.        , 0.        , 0.        , 0.        ,\n",
              "        0.        , 0.        , 0.        ],\n",
              "       [0.        , 0.        , 0.        , 0.        , 0.        ,\n",
              "        0.        , 0.        , 0.        , 0.        , 0.        ,\n",
              "        0.        , 0.        , 0.        , 0.        , 0.        ,\n",
              "        0.        , 0.        , 0.        , 0.        , 0.        ,\n",
              "        0.        , 0.        , 0.        , 0.        , 0.        ,\n",
              "        0.        , 0.        , 0.        ]])"
            ]
          },
          "metadata": {},
          "execution_count": 29
        },
        {
          "output_type": "stream",
          "name": "stdout",
          "text": [
            "time: 32.8 ms (started: 2024-07-08 02:34:32 +00:00)\n"
          ]
        }
      ]
    },
    {
      "cell_type": "code",
      "source": [
        "from keras import utils\n",
        "y_train_o= utils.to_categorical(y_train)\n",
        "y_valid_o = utils.to_categorical(y_valid)"
      ],
      "metadata": {
        "colab": {
          "base_uri": "https://localhost:8080/"
        },
        "id": "Sw2TM35ox7e1",
        "outputId": "12e3edf3-9c31-409e-fb59-2a43beaff56e"
      },
      "execution_count": 30,
      "outputs": [
        {
          "output_type": "stream",
          "name": "stdout",
          "text": [
            "time: 5.35 ms (started: 2024-07-08 02:34:39 +00:00)\n"
          ]
        }
      ]
    },
    {
      "cell_type": "code",
      "source": [
        "y_train_o.shape, y_valid_o.shape"
      ],
      "metadata": {
        "colab": {
          "base_uri": "https://localhost:8080/"
        },
        "id": "yF-ObfSbyKty",
        "outputId": "03f07008-8b12-409d-937a-fa196ea5395a"
      },
      "execution_count": 31,
      "outputs": [
        {
          "output_type": "execute_result",
          "data": {
            "text/plain": [
              "((48000, 10), (12000, 10))"
            ]
          },
          "metadata": {},
          "execution_count": 31
        },
        {
          "output_type": "stream",
          "name": "stdout",
          "text": [
            "time: 3.9 ms (started: 2024-07-08 02:34:40 +00:00)\n"
          ]
        }
      ]
    },
    {
      "cell_type": "code",
      "source": [
        "print(y_train[:10])\n",
        "y_train[:10]"
      ],
      "metadata": {
        "colab": {
          "base_uri": "https://localhost:8080/"
        },
        "id": "ah5TpYBnyiF6",
        "outputId": "c16d7a51-0590-4e2f-e932-a5b58c373ff0"
      },
      "execution_count": null,
      "outputs": [
        {
          "output_type": "stream",
          "name": "stdout",
          "text": [
            "[5 0 1 6 1 3 8 8 1 8]\n"
          ]
        },
        {
          "output_type": "execute_result",
          "data": {
            "text/plain": [
              "array([5, 0, 1, 6, 1, 3, 8, 8, 1, 8], dtype=uint8)"
            ]
          },
          "metadata": {},
          "execution_count": 120
        },
        {
          "output_type": "stream",
          "name": "stdout",
          "text": [
            "time: 11.4 ms (started: 2024-07-01 01:32:03 +00:00)\n"
          ]
        }
      ]
    },
    {
      "cell_type": "code",
      "source": [
        "print(X_train_s.shape, X_valid_s.shape)\n",
        "print(y_train_o.shape, y_valid_o.shape)\n"
      ],
      "metadata": {
        "colab": {
          "base_uri": "https://localhost:8080/"
        },
        "id": "fh-3TRDqy3z_",
        "outputId": "0fab3136-a0c5-46a4-b09b-d91e302dfc4d"
      },
      "execution_count": 32,
      "outputs": [
        {
          "output_type": "stream",
          "name": "stdout",
          "text": [
            "(48000, 28, 28) (12000, 28, 28)\n",
            "(48000, 10) (12000, 10)\n",
            "time: 2.85 ms (started: 2024-07-08 02:34:43 +00:00)\n"
          ]
        }
      ]
    },
    {
      "cell_type": "markdown",
      "source": [
        "## 5. 모델 학습"
      ],
      "metadata": {
        "id": "kLG508FMzMUH"
      }
    },
    {
      "cell_type": "markdown",
      "source": [
        "-**1차원으로 flatten 시켜야 함.**\n"
      ],
      "metadata": {
        "id": "01vsLhs_MZ9r"
      }
    },
    {
      "cell_type": "code",
      "source": [
        "X_train_s = X_train_s.reshape(-1,28*28) # 1차원으로 flatten 시켜야 함.\n",
        "X_valid_s = X_valid_s.reshape(-1,28*28)"
      ],
      "metadata": {
        "colab": {
          "base_uri": "https://localhost:8080/"
        },
        "id": "A98LdIuc0AZc",
        "outputId": "57c88ba5-4cdd-41af-cac2-def632f6e312"
      },
      "execution_count": 33,
      "outputs": [
        {
          "output_type": "stream",
          "name": "stdout",
          "text": [
            "time: 615 µs (started: 2024-07-08 02:35:18 +00:00)\n"
          ]
        }
      ]
    },
    {
      "cell_type": "code",
      "source": [
        "print(X_train_s.shape, y_train_o.shape)"
      ],
      "metadata": {
        "colab": {
          "base_uri": "https://localhost:8080/"
        },
        "id": "YzSe6j6F0LGw",
        "outputId": "8cec066d-e52d-4a95-b02b-5c0939292609"
      },
      "execution_count": 34,
      "outputs": [
        {
          "output_type": "stream",
          "name": "stdout",
          "text": [
            "(48000, 784) (48000, 10)\n",
            "time: 660 µs (started: 2024-07-08 02:35:21 +00:00)\n"
          ]
        }
      ]
    },
    {
      "cell_type": "code",
      "source": [
        "from keras import models, layers\n",
        "\n",
        "model = keras.Sequential([\n",
        "    layers.Dense(units=64,activation='relu',input_shape=(784,)),\n",
        "    layers.Dense(units=32,activation='relu'),\n",
        "    layers.Dense(units=16,activation='relu'),\n",
        "    layers.Dense(units=10,activation='softmax'),\n",
        "\n",
        "])"
      ],
      "metadata": {
        "colab": {
          "base_uri": "https://localhost:8080/"
        },
        "id": "D-9wRbG3zDVD",
        "outputId": "2f8b1e0d-d35c-400f-ebcd-22cda74a726a"
      },
      "execution_count": 40,
      "outputs": [
        {
          "output_type": "stream",
          "name": "stdout",
          "text": [
            "time: 151 ms (started: 2024-07-08 03:50:01 +00:00)\n"
          ]
        }
      ]
    },
    {
      "cell_type": "code",
      "source": [
        "model.summary()"
      ],
      "metadata": {
        "colab": {
          "base_uri": "https://localhost:8080/"
        },
        "id": "zCDxHMQ51CgW",
        "outputId": "40e93cec-facd-42fa-fa5b-5c206e61a1cc"
      },
      "execution_count": 41,
      "outputs": [
        {
          "output_type": "stream",
          "name": "stdout",
          "text": [
            "Model: \"sequential_1\"\n",
            "_________________________________________________________________\n",
            " Layer (type)                Output Shape              Param #   \n",
            "=================================================================\n",
            " dense_4 (Dense)             (None, 64)                50240     \n",
            "                                                                 \n",
            " dense_5 (Dense)             (None, 32)                2080      \n",
            "                                                                 \n",
            " dense_6 (Dense)             (None, 16)                528       \n",
            "                                                                 \n",
            " dense_7 (Dense)             (None, 10)                170       \n",
            "                                                                 \n",
            "=================================================================\n",
            "Total params: 53018 (207.10 KB)\n",
            "Trainable params: 53018 (207.10 KB)\n",
            "Non-trainable params: 0 (0.00 Byte)\n",
            "_________________________________________________________________\n",
            "time: 46.4 ms (started: 2024-07-08 03:50:02 +00:00)\n"
          ]
        }
      ]
    },
    {
      "cell_type": "code",
      "source": [
        "utils.plot_model(model)"
      ],
      "metadata": {
        "colab": {
          "base_uri": "https://localhost:8080/",
          "height": 504
        },
        "id": "lwpr8R_jQiCL",
        "outputId": "4a6c69f5-fde4-469d-ab50-35918f7d712d"
      },
      "execution_count": 42,
      "outputs": [
        {
          "output_type": "execute_result",
          "data": {
            "image/png": "[encoded data removed]",
            "text/plain": [
              "<IPython.core.display.Image object>"
            ]
          },
          "metadata": {},
          "execution_count": 42
        },
        {
          "output_type": "stream",
          "name": "stdout",
          "text": [
            "time: 154 ms (started: 2024-07-08 03:50:05 +00:00)\n"
          ]
        }
      ]
    },
    {
      "cell_type": "code",
      "source": [
        "adam = keras.optimizers.Adam(learning_rate=0.01) # tuning\n",
        "model.compile(loss= 'categorical_crossentropy',\n",
        "              optimizer=adam,\n",
        "              metrics=['accuracy'])"
      ],
      "metadata": {
        "colab": {
          "base_uri": "https://localhost:8080/"
        },
        "id": "bPlojpv_0tju",
        "outputId": "c9bb02da-6e41-4abd-eba3-d4811d5c5d60"
      },
      "execution_count": 43,
      "outputs": [
        {
          "output_type": "stream",
          "name": "stdout",
          "text": [
            "time: 44.2 ms (started: 2024-07-08 03:50:07 +00:00)\n"
          ]
        }
      ]
    },
    {
      "cell_type": "code",
      "source": [
        "EPOCH=30\n",
        "BATCH_SIZE = 64\n",
        "\n",
        "history = model.fit(X_train_s,y_train_o,\n",
        "                    epochs=EPOCH,\n",
        "                    batch_size=BATCH_SIZE,\n",
        "                    validation_data=(X_valid_s,y_valid_o))"
      ],
      "metadata": {
        "colab": {
          "base_uri": "https://localhost:8080/"
        },
        "id": "LiRdD8BG4pbj",
        "outputId": "a92fe15f-2f71-499a-8f69-f7f80339e692"
      },
      "execution_count": 44,
      "outputs": [
        {
          "output_type": "stream",
          "name": "stdout",
          "text": [
            "Epoch 1/30\n",
            "750/750 [==============================] - 7s 6ms/step - loss: 0.3031 - accuracy: 0.9099 - val_loss: 0.1760 - val_accuracy: 0.9460\n",
            "Epoch 2/30\n",
            "750/750 [==============================] - 3s 3ms/step - loss: 0.1624 - accuracy: 0.9529 - val_loss: 0.1542 - val_accuracy: 0.9549\n",
            "Epoch 3/30\n",
            "750/750 [==============================] - 3s 3ms/step - loss: 0.1377 - accuracy: 0.9609 - val_loss: 0.1674 - val_accuracy: 0.9538\n",
            "Epoch 4/30\n",
            "750/750 [==============================] - 3s 3ms/step - loss: 0.1251 - accuracy: 0.9655 - val_loss: 0.1431 - val_accuracy: 0.9585\n",
            "Epoch 5/30\n",
            "750/750 [==============================] - 4s 5ms/step - loss: 0.1138 - accuracy: 0.9685 - val_loss: 0.1536 - val_accuracy: 0.9632\n",
            "Epoch 6/30\n",
            "750/750 [==============================] - 3s 5ms/step - loss: 0.0991 - accuracy: 0.9716 - val_loss: 0.1339 - val_accuracy: 0.9649\n",
            "Epoch 7/30\n",
            "750/750 [==============================] - 3s 3ms/step - loss: 0.0922 - accuracy: 0.9743 - val_loss: 0.1450 - val_accuracy: 0.9639\n",
            "Epoch 8/30\n",
            "750/750 [==============================] - 3s 4ms/step - loss: 0.0949 - accuracy: 0.9741 - val_loss: 0.1464 - val_accuracy: 0.9642\n",
            "Epoch 9/30\n",
            "750/750 [==============================] - 3s 4ms/step - loss: 0.0916 - accuracy: 0.9757 - val_loss: 0.1354 - val_accuracy: 0.9668\n",
            "Epoch 10/30\n",
            "750/750 [==============================] - 4s 6ms/step - loss: 0.0882 - accuracy: 0.9763 - val_loss: 0.1667 - val_accuracy: 0.9589\n",
            "Epoch 11/30\n",
            "750/750 [==============================] - 3s 4ms/step - loss: 0.0829 - accuracy: 0.9779 - val_loss: 0.1707 - val_accuracy: 0.9591\n",
            "Epoch 12/30\n",
            "750/750 [==============================] - 3s 3ms/step - loss: 0.0749 - accuracy: 0.9803 - val_loss: 0.1737 - val_accuracy: 0.9634\n",
            "Epoch 13/30\n",
            "750/750 [==============================] - 3s 4ms/step - loss: 0.0730 - accuracy: 0.9810 - val_loss: 0.1672 - val_accuracy: 0.9659\n",
            "Epoch 14/30\n",
            "750/750 [==============================] - 3s 4ms/step - loss: 0.0778 - accuracy: 0.9809 - val_loss: 0.1620 - val_accuracy: 0.9653\n",
            "Epoch 15/30\n",
            "750/750 [==============================] - 4s 5ms/step - loss: 0.0708 - accuracy: 0.9819 - val_loss: 0.1670 - val_accuracy: 0.9635\n",
            "Epoch 16/30\n",
            "750/750 [==============================] - 3s 3ms/step - loss: 0.0670 - accuracy: 0.9826 - val_loss: 0.1672 - val_accuracy: 0.9668\n",
            "Epoch 17/30\n",
            "750/750 [==============================] - 3s 3ms/step - loss: 0.0673 - accuracy: 0.9827 - val_loss: 0.1585 - val_accuracy: 0.9658\n",
            "Epoch 18/30\n",
            "750/750 [==============================] - 3s 3ms/step - loss: 0.0614 - accuracy: 0.9847 - val_loss: 0.1807 - val_accuracy: 0.9655\n",
            "Epoch 19/30\n",
            "750/750 [==============================] - 3s 5ms/step - loss: 0.0650 - accuracy: 0.9840 - val_loss: 0.1801 - val_accuracy: 0.9668\n",
            "Epoch 20/30\n",
            "750/750 [==============================] - 4s 5ms/step - loss: 0.0647 - accuracy: 0.9835 - val_loss: 0.1628 - val_accuracy: 0.9680\n",
            "Epoch 21/30\n",
            "750/750 [==============================] - 3s 4ms/step - loss: 0.0588 - accuracy: 0.9857 - val_loss: 0.1569 - val_accuracy: 0.9687\n",
            "Epoch 22/30\n",
            "750/750 [==============================] - 3s 4ms/step - loss: 0.0554 - accuracy: 0.9864 - val_loss: 0.1917 - val_accuracy: 0.9662\n",
            "Epoch 23/30\n",
            "750/750 [==============================] - 3s 3ms/step - loss: 0.0605 - accuracy: 0.9853 - val_loss: 0.2086 - val_accuracy: 0.9654\n",
            "Epoch 24/30\n",
            "750/750 [==============================] - 4s 6ms/step - loss: 0.0527 - accuracy: 0.9871 - val_loss: 0.2063 - val_accuracy: 0.9645\n",
            "Epoch 25/30\n",
            "750/750 [==============================] - 3s 4ms/step - loss: 0.0623 - accuracy: 0.9849 - val_loss: 0.1908 - val_accuracy: 0.9675\n",
            "Epoch 26/30\n",
            "750/750 [==============================] - 3s 4ms/step - loss: 0.0516 - accuracy: 0.9875 - val_loss: 0.2029 - val_accuracy: 0.9668\n",
            "Epoch 27/30\n",
            "750/750 [==============================] - 3s 4ms/step - loss: 0.0570 - accuracy: 0.9862 - val_loss: 0.1716 - val_accuracy: 0.9716\n",
            "Epoch 28/30\n",
            "750/750 [==============================] - 3s 4ms/step - loss: 0.0487 - accuracy: 0.9881 - val_loss: 0.1866 - val_accuracy: 0.9674\n",
            "Epoch 29/30\n",
            "750/750 [==============================] - 4s 6ms/step - loss: 0.0497 - accuracy: 0.9884 - val_loss: 0.2056 - val_accuracy: 0.9694\n",
            "Epoch 30/30\n",
            "750/750 [==============================] - 3s 3ms/step - loss: 0.0556 - accuracy: 0.9864 - val_loss: 0.1727 - val_accuracy: 0.9683\n",
            "time: 2min 25s (started: 2024-07-08 03:50:09 +00:00)\n"
          ]
        }
      ]
    },
    {
      "cell_type": "markdown",
      "source": [
        "*** 훈련과정 시각화***"
      ],
      "metadata": {
        "id": "BLCPMgOoeB_L"
      }
    },
    {
      "cell_type": "code",
      "source": [
        "def plot_history(history):\n",
        "    hist = pd.DataFrame(history.history)\n",
        "    hist['epoch'] = history.epoch\n",
        "\n",
        "    plt.figure(figsize=(16, 8))\n",
        "    plt.subplot(1, 2, 1)\n",
        "    plt.xlabel('epochs')\n",
        "    plt.ylabel('loss')\n",
        "    plt.plot(hist['epoch'], hist['loss'], label='train loss')\n",
        "    plt.plot(hist['epoch'], hist['val_loss'], label='val loss')\n",
        "    plt.title('Loss Curve')\n",
        "    plt.legend()\n",
        "\n",
        "    plt.subplot(1, 2, 2)\n",
        "    plt.xlabel('epochs')\n",
        "    plt.ylabel('accuracy')\n",
        "    plt.plot(hist['epoch'], hist['accuracy'], label='train accuracy')\n",
        "    plt.plot(hist['epoch'], hist['val_accuracy'], label='val accuracy')\n",
        "    plt.title('Accuracy Curve')\n",
        "    plt.legend()\n",
        "    plt.show()"
      ],
      "metadata": {
        "colab": {
          "base_uri": "https://localhost:8080/"
        },
        "id": "uT82hFMU59W1",
        "outputId": "86b5c2ee-df5f-4213-9fdc-d2006019c7a2"
      },
      "execution_count": 45,
      "outputs": [
        {
          "output_type": "stream",
          "name": "stdout",
          "text": [
            "time: 1.1 ms (started: 2024-07-08 04:06:59 +00:00)\n"
          ]
        }
      ]
    },
    {
      "cell_type": "code",
      "source": [
        "plot_history(history)"
      ],
      "metadata": {
        "colab": {
          "base_uri": "https://localhost:8080/",
          "height": 756
        },
        "id": "H7fBuKo66iuU",
        "outputId": "c41b5806-426a-4ef1-a2c7-6a287b06f641"
      },
      "execution_count": 46,
      "outputs": [
        {
          "output_type": "display_data",
          "data": {
            "text/plain": [
              "<Figure size 1600x800 with 2 Axes>"
            ],
            "image/png": "[encoded data removed]"
          },
          "metadata": {}
        },
        {
          "output_type": "stream",
          "name": "stdout",
          "text": [
            "time: 1.02 s (started: 2024-07-08 04:07:03 +00:00)\n"
          ]
        }
      ]
    },
    {
      "cell_type": "markdown",
      "source": [
        "## 6. 모델 평가"
      ],
      "metadata": {
        "id": "XKTmZ9gu6xGi"
      }
    },
    {
      "cell_type": "code",
      "source": [
        "X_test_s = X_test/ 255.\n",
        "X_test_s= X_test_s.reshape(-1,28*28)\n",
        "y_test_o= utils.to_categorical(y_test)"
      ],
      "metadata": {
        "colab": {
          "base_uri": "https://localhost:8080/"
        },
        "id": "U8QAY4Ww7Jds",
        "outputId": "ec2ce60a-3284-43e6-a579-975ac6286caf"
      },
      "execution_count": 53,
      "outputs": [
        {
          "output_type": "stream",
          "name": "stdout",
          "text": [
            "time: 29.8 ms (started: 2024-07-08 04:07:54 +00:00)\n"
          ]
        }
      ]
    },
    {
      "cell_type": "code",
      "source": [
        "X_test_s.shape, y_test_o.shape"
      ],
      "metadata": {
        "colab": {
          "base_uri": "https://localhost:8080/"
        },
        "id": "S-sopBbQ7VJ0",
        "outputId": "5fa829ce-723a-4d13-933a-6d52f4b32087"
      },
      "execution_count": 54,
      "outputs": [
        {
          "output_type": "execute_result",
          "data": {
            "text/plain": [
              "((10000, 784), (10000, 10))"
            ]
          },
          "metadata": {},
          "execution_count": 54
        },
        {
          "output_type": "stream",
          "name": "stdout",
          "text": [
            "time: 4.33 ms (started: 2024-07-08 04:07:55 +00:00)\n"
          ]
        }
      ]
    },
    {
      "cell_type": "code",
      "source": [
        "y_pred = model.predict(X_test_s)\n",
        "y_pred[:10]"
      ],
      "metadata": {
        "colab": {
          "base_uri": "https://localhost:8080/"
        },
        "id": "_gV_UD477diz",
        "outputId": "c149d549-d7f6-487f-e7ea-7304e7dc65dd"
      },
      "execution_count": 55,
      "outputs": [
        {
          "output_type": "stream",
          "name": "stdout",
          "text": [
            "313/313 [==============================] - 1s 2ms/step\n"
          ]
        },
        {
          "output_type": "execute_result",
          "data": {
            "text/plain": [
              "array([[1.2151756e-16, 1.5681305e-04, 2.9533269e-04, 4.4092505e-07,\n",
              "        4.1792236e-09, 1.7486702e-10, 0.0000000e+00, 9.9954230e-01,\n",
              "        1.2436060e-12, 4.9649557e-06],\n",
              "       [2.4280463e-11, 6.8960020e-07, 9.9992365e-01, 6.8039452e-07,\n",
              "        2.2047799e-09, 2.8123381e-10, 2.5012286e-08, 6.8669950e-05,\n",
              "        6.1740802e-06, 1.3092562e-29],\n",
              "       [0.0000000e+00, 9.9999994e-01, 2.1625348e-17, 7.5348188e-23,\n",
              "        2.3288806e-20, 7.8706230e-22, 2.0554587e-26, 2.3670228e-08,\n",
              "        2.4348265e-11, 9.1877889e-17],\n",
              "       [9.9999994e-01, 0.0000000e+00, 1.5815493e-14, 6.7747146e-36,\n",
              "        1.4818493e-31, 1.4539893e-12, 5.4939642e-10, 2.5553348e-14,\n",
              "        9.2997279e-13, 6.3399642e-17],\n",
              "       [2.1888159e-20, 4.9413138e-19, 9.8888584e-22, 9.9695384e-29,\n",
              "        9.9999994e-01, 2.3202977e-19, 2.7047494e-17, 3.8371774e-13,\n",
              "        5.1771464e-20, 7.8872056e-09],\n",
              "       [0.0000000e+00, 9.9999994e-01, 5.7894898e-19, 1.3582555e-24,\n",
              "        1.0935451e-21, 3.6454073e-23, 1.2222109e-21, 2.3391773e-09,\n",
              "        1.2430944e-11, 9.4104757e-18],\n",
              "       [1.2521130e-04, 9.4739058e-05, 4.0530893e-05, 1.1660985e-06,\n",
              "        9.7313166e-01, 1.3365777e-04, 2.4744926e-04, 2.2532318e-03,\n",
              "        1.5610091e-04, 2.3816366e-02],\n",
              "       [7.1983586e-10, 6.7331234e-09, 7.0491315e-14, 1.2097879e-04,\n",
              "        4.8402408e-06, 2.9184870e-09, 0.0000000e+00, 4.5287943e-05,\n",
              "        3.3301734e-07, 9.9982858e-01],\n",
              "       [2.3483767e-11, 6.3282761e-09, 3.7269853e-12, 2.0299560e-06,\n",
              "        1.7919008e-12, 4.7544397e-02, 9.5245081e-01, 1.9253516e-18,\n",
              "        2.7595711e-06, 5.1334040e-16],\n",
              "       [2.5173559e-12, 5.7899296e-11, 2.5596611e-17, 1.2130523e-05,\n",
              "        2.1225584e-07, 1.7036865e-11, 0.0000000e+00, 3.5698072e-06,\n",
              "        5.7529701e-09, 9.9998409e-01]], dtype=float32)"
            ]
          },
          "metadata": {},
          "execution_count": 55
        },
        {
          "output_type": "stream",
          "name": "stdout",
          "text": [
            "time: 1.38 s (started: 2024-07-08 04:07:56 +00:00)\n"
          ]
        }
      ]
    },
    {
      "cell_type": "code",
      "source": [
        "y_pred = np.argmax(y_pred,axis=1)\n",
        "y_pred[:5]"
      ],
      "metadata": {
        "colab": {
          "base_uri": "https://localhost:8080/"
        },
        "id": "8cDdTpuH7i_C",
        "outputId": "1f0fac75-22d2-4f0a-b739-005716e89145"
      },
      "execution_count": 56,
      "outputs": [
        {
          "output_type": "execute_result",
          "data": {
            "text/plain": [
              "array([7, 2, 1, 0, 4])"
            ]
          },
          "metadata": {},
          "execution_count": 56
        },
        {
          "output_type": "stream",
          "name": "stdout",
          "text": [
            "time: 4.58 ms (started: 2024-07-08 04:08:00 +00:00)\n"
          ]
        }
      ]
    },
    {
      "cell_type": "code",
      "source": [
        "y_test_o = np.argmax(y_test_o,axis=1)\n",
        "y_test_o[:5]"
      ],
      "metadata": {
        "colab": {
          "base_uri": "https://localhost:8080/"
        },
        "id": "m6YSLTh1hu4k",
        "outputId": "38371430-260b-43a4-d081-fa9ad96c38f9"
      },
      "execution_count": 57,
      "outputs": [
        {
          "output_type": "execute_result",
          "data": {
            "text/plain": [
              "array([7, 2, 1, 0, 4])"
            ]
          },
          "metadata": {},
          "execution_count": 57
        },
        {
          "output_type": "stream",
          "name": "stdout",
          "text": [
            "time: 6.35 ms (started: 2024-07-08 04:08:04 +00:00)\n"
          ]
        }
      ]
    },
    {
      "cell_type": "code",
      "source": [
        "from sklearn.metrics import accuracy_score, recall_score, precision_score, f1_score\n",
        "from sklearn.metrics import confusion_matrix\n",
        "\n",
        "def print_metrics(y_true,y_pred,aver='macro'):\n",
        "  print('accuracy',accuracy_score(y_true,y_pred))\n",
        "  print('recall',recall_score(y_true,y_pred,average=aver))\n",
        "  print('precision',precision_score(y_true,y_pred,average=aver))\n",
        "  print('f1_score',f1_score(y_true,y_pred, average=aver))\n",
        "\n",
        "  cfm = confusion_matrix(y_true,y_pred)\n",
        "  s = sns.heatmap(cfm,annot=True,cmap='Blues',fmt='d',cbar=False)\n",
        "  s.set(xlabel='Prediction',ylabel='Actual')\n",
        "  plt.show()"
      ],
      "metadata": {
        "colab": {
          "base_uri": "https://localhost:8080/"
        },
        "id": "sYDlQ0Gj7rN8",
        "outputId": "387edaf4-823d-4ab5-ceee-53dc34506cf2"
      },
      "execution_count": 58,
      "outputs": [
        {
          "output_type": "stream",
          "name": "stdout",
          "text": [
            "time: 1.26 ms (started: 2024-07-08 04:08:06 +00:00)\n"
          ]
        }
      ]
    },
    {
      "cell_type": "code",
      "source": [
        "print_metrics(y_test_o,y_pred)"
      ],
      "metadata": {
        "colab": {
          "base_uri": "https://localhost:8080/",
          "height": 560
        },
        "id": "G-Hwozx08Awa",
        "outputId": "0b096d1f-807c-4c97-c271-6472cf45e5e8"
      },
      "execution_count": 59,
      "outputs": [
        {
          "output_type": "stream",
          "name": "stdout",
          "text": [
            "accuracy 0.968\n",
            "recall 0.9677732636156845\n",
            "precision 0.9676389497625015\n",
            "f1_score 0.9676530542903736\n"
          ]
        },
        {
          "output_type": "display_data",
          "data": {
            "text/plain": [
              "<Figure size 640x480 with 1 Axes>"
            ],
            "image/png": "[encoded data removed]"
          },
          "metadata": {}
        },
        {
          "output_type": "stream",
          "name": "stdout",
          "text": [
            "time: 848 ms (started: 2024-07-08 04:08:14 +00:00)\n"
          ]
        }
      ]
    },
    {
      "cell_type": "markdown",
      "source": [
        "# 테스트 시각화"
      ],
      "metadata": {
        "id": "6h-b4nlCh0oc"
      }
    },
    {
      "cell_type": "code",
      "source": [
        "X_test.shape"
      ],
      "metadata": {
        "colab": {
          "base_uri": "https://localhost:8080/"
        },
        "id": "80YtHAFD8eQC",
        "outputId": "4f6e620b-5dac-4474-96d0-03679642ddf4"
      },
      "execution_count": 60,
      "outputs": [
        {
          "output_type": "execute_result",
          "data": {
            "text/plain": [
              "(10000, 28, 28)"
            ]
          },
          "metadata": {},
          "execution_count": 60
        },
        {
          "output_type": "stream",
          "name": "stdout",
          "text": [
            "time: 10.5 ms (started: 2024-07-08 04:08:23 +00:00)\n"
          ]
        }
      ]
    },
    {
      "cell_type": "code",
      "source": [
        "sample = np.random.randint(10000,size=25)"
      ],
      "metadata": {
        "colab": {
          "base_uri": "https://localhost:8080/"
        },
        "id": "8yKA91be8aL6",
        "outputId": "e012efdd-3a70-4568-f6cc-ac2dc6b53c1e"
      },
      "execution_count": 61,
      "outputs": [
        {
          "output_type": "stream",
          "name": "stdout",
          "text": [
            "time: 9.35 ms (started: 2024-07-08 04:08:35 +00:00)\n"
          ]
        }
      ]
    },
    {
      "cell_type": "code",
      "source": [
        "plt.figure(figsize=(8,8))\n",
        "for i, idx in enumerate(sample):\n",
        "  plt.subplot(5, 5,i+1) # 25개 grid\n",
        "  plt.imshow(X_test[idx],cmap='gray')\n",
        "  plt.title(f'pred:({y_pred[idx]}) ({y_test[idx]})') # 정답값 표시\n",
        "  plt.axis('off')\n",
        "  plt.tight_layout()\n",
        "plt.show()\n"
      ],
      "metadata": {
        "colab": {
          "base_uri": "https://localhost:8080/",
          "height": 845
        },
        "id": "3jRbKKEa8J3c",
        "outputId": "13fd081f-840e-460b-a088-5da5db3133d0"
      },
      "execution_count": 62,
      "outputs": [
        {
          "output_type": "display_data",
          "data": {
            "text/plain": [
              "<Figure size 800x800 with 25 Axes>"
            ],
            "image/png": "[encoded data removed]"
          },
          "metadata": {}
        },
        {
          "output_type": "stream",
          "name": "stdout",
          "text": [
            "time: 4.06 s (started: 2024-07-08 04:08:35 +00:00)\n"
          ]
        }
      ]
    },
    {
      "cell_type": "markdown",
      "source": [
        "## 결론\n",
        "\n",
        "*   상당히 좋은 성능을 보여줬다.\n",
        "*   하이퍼 파라미터 튜닝 및 얼리스타핑 기능을 추가해 보는 것도 좋을 것 같다.\n",
        "\n"
      ],
      "metadata": {
        "id": "Fir3eUXn8YUP"
      }
    }
  ]
}
